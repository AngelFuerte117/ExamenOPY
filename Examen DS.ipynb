{
 "cells": [
  {
   "cell_type": "code",
   "execution_count": 1,
   "id": "776f9c55",
   "metadata": {},
   "outputs": [],
   "source": [
    "import pandas as pd\n",
    "import numpy as np\n",
    "import matplotlib.pyplot as plt"
   ]
  },
  {
   "cell_type": "markdown",
   "id": "a18c8964",
   "metadata": {},
   "source": [
    "# <center> Examen Ciencia de Datos\n",
    "# <center>  L1/L2\n",
    "<center> Angel Cuauhtemoc Fuerte Perez\n",
    "    \n",
    "**Seccion A**\n",
    "    \n",
    "**Datos abiertos de la CDMX**\n",
    "    \n",
    "    \n",
    "La Agencia Digital de Innovación Pública tiene disponibles datos de las **carpetas de investigación aportados por la PGJ**. La tabla está disponible aquí: https://datos.cdmx.gob.mx/dataset/carpetas-de-investigacion-fgj-de-la-ciudad-de-mexico/resource/48fcb848-220c-4af0-839b-4fd8ac812c0f\n",
    "    \n",
    "Utilizando estos datos, responde las siguientes preguntas. Debes desarrollar el código en Phyton:"
   ]
  },
  {
   "cell_type": "markdown",
   "id": "4994ab80",
   "metadata": {},
   "source": [
    "1. ¿Qué pruebas identificarías para asegurar la calidad de estos datos? No es necesario hacerlas, solo describe la prueba y lo que te dice cada una."
   ]
  },
  {
   "cell_type": "markdown",
   "id": "813ad0d9",
   "metadata": {},
   "source": [
    "Las pruebas que haría para asegurar la calidad de los datos serían:\n",
    "- Confiabilidad, es decir:\n",
    "    - Exactitud: Verificar que los datos son precisos y que no generan ambigüedades. En esta tabla en particular, me aseguraría de que los datos en cada columna sean coherentes, una forma de verificarlo es agrupando los datos ya sea por años, meses, colonias, alcaldías o delitos. De esta forma podríamos conocer más a fondo si los datos tienen coherencia. Por ejemplo, agrupando los datos por fechas, podríamos conocer con exactitud con cúantos años diferentes trabaja nuestra tabla. A su vez, agrupando los datos por delito podemos conocer cuántos tipos diferentes existen, etc.\n",
    "    -Integridad: Que sea un formato de datos claro y que cumple con los criterios, tienen integridad estructural y en contenido, esto lo haríamos verificando cada columna.\n",
    "    - Completitud: Esto nos sirve para conocer si nuestra base de datos llegase a tener deficiencias.\n",
    "- Calidad de presentación\n",
    "    - Legilibilidad: Para esta prueba lo que haría sería eliminar la información innecesaria dentro de la base de datos para porporcionar una mejor comprensión, clasificación y contenido acorde a las necesidades del usuario."
   ]
  },
  {
   "cell_type": "code",
   "execution_count": 2,
   "id": "59d8062d",
   "metadata": {},
   "outputs": [
    {
     "name": "stdout",
     "output_type": "stream",
     "text": [
      "Ejemplo de identificación de cuántos años maneja la tabla de datos\n"
     ]
    },
    {
     "name": "stderr",
     "output_type": "stream",
     "text": [
      "C:\\Users\\fuert\\anaconda3\\lib\\site-packages\\IPython\\core\\interactiveshell.py:3165: DtypeWarning: Columns (15) have mixed types.Specify dtype option on import or set low_memory=False.\n",
      "  has_raised = await self.run_ast_nodes(code_ast.body, cell_name,\n"
     ]
    },
    {
     "data": {
      "text/html": [
       "<div>\n",
       "<style scoped>\n",
       "    .dataframe tbody tr th:only-of-type {\n",
       "        vertical-align: middle;\n",
       "    }\n",
       "\n",
       "    .dataframe tbody tr th {\n",
       "        vertical-align: top;\n",
       "    }\n",
       "\n",
       "    .dataframe thead th {\n",
       "        text-align: right;\n",
       "    }\n",
       "</style>\n",
       "<table border=\"1\" class=\"dataframe\">\n",
       "  <thead>\n",
       "    <tr style=\"text-align: right;\">\n",
       "      <th></th>\n",
       "      <th>ao_hechos</th>\n",
       "      <th>cantidad de delitos anuales</th>\n",
       "    </tr>\n",
       "  </thead>\n",
       "  <tbody>\n",
       "    <tr>\n",
       "      <th>0</th>\n",
       "      <td>1906.0</td>\n",
       "      <td>1</td>\n",
       "    </tr>\n",
       "    <tr>\n",
       "      <th>1</th>\n",
       "      <td>1915.0</td>\n",
       "      <td>2</td>\n",
       "    </tr>\n",
       "    <tr>\n",
       "      <th>2</th>\n",
       "      <td>1930.0</td>\n",
       "      <td>1</td>\n",
       "    </tr>\n",
       "    <tr>\n",
       "      <th>3</th>\n",
       "      <td>1942.0</td>\n",
       "      <td>1</td>\n",
       "    </tr>\n",
       "    <tr>\n",
       "      <th>4</th>\n",
       "      <td>1950.0</td>\n",
       "      <td>2</td>\n",
       "    </tr>\n",
       "    <tr>\n",
       "      <th>...</th>\n",
       "      <td>...</td>\n",
       "      <td>...</td>\n",
       "    </tr>\n",
       "    <tr>\n",
       "      <th>68</th>\n",
       "      <td>2017.0</td>\n",
       "      <td>227268</td>\n",
       "    </tr>\n",
       "    <tr>\n",
       "      <th>69</th>\n",
       "      <td>2018.0</td>\n",
       "      <td>254013</td>\n",
       "    </tr>\n",
       "    <tr>\n",
       "      <th>70</th>\n",
       "      <td>2019.0</td>\n",
       "      <td>243898</td>\n",
       "    </tr>\n",
       "    <tr>\n",
       "      <th>71</th>\n",
       "      <td>2020.0</td>\n",
       "      <td>201527</td>\n",
       "    </tr>\n",
       "    <tr>\n",
       "      <th>72</th>\n",
       "      <td>2021.0</td>\n",
       "      <td>155919</td>\n",
       "    </tr>\n",
       "  </tbody>\n",
       "</table>\n",
       "<p>73 rows × 2 columns</p>\n",
       "</div>"
      ],
      "text/plain": [
       "    ao_hechos  cantidad de delitos anuales\n",
       "0      1906.0                            1\n",
       "1      1915.0                            2\n",
       "2      1930.0                            1\n",
       "3      1942.0                            1\n",
       "4      1950.0                            2\n",
       "..        ...                          ...\n",
       "68     2017.0                       227268\n",
       "69     2018.0                       254013\n",
       "70     2019.0                       243898\n",
       "71     2020.0                       201527\n",
       "72     2021.0                       155919\n",
       "\n",
       "[73 rows x 2 columns]"
      ]
     },
     "execution_count": 2,
     "metadata": {},
     "output_type": "execute_result"
    }
   ],
   "source": [
    "print(\"Ejemplo de identificación de cuántos años maneja la tabla de datos\")\n",
    "df = pd.read_csv(\"carpetas_completa_septiembre_2021.csv\")\n",
    "lista01 = df.groupby(\"ao_hechos\").size().reset_index(name=\"cantidad de delitos anuales\")\n",
    "lista01"
   ]
  },
  {
   "cell_type": "markdown",
   "id": "aea4eb4f",
   "metadata": {},
   "source": [
    "2. Identifica los delitos que van a la alza y a la baja en la CDMX (ten cuidado con los delitos de pocas ocurrencias)"
   ]
  },
  {
   "cell_type": "markdown",
   "id": "24a91d07",
   "metadata": {},
   "source": [
    "En principio, notemos que de la tabla anterior, manejamos 73 años diferentes; sin embargo, una gran cantidad de esos años contiene muy poca información, por lo que en base a la siguiente gráfica, podemos hacer inferencias a partir de los últimos 6 años:"
   ]
  },
  {
   "cell_type": "code",
   "execution_count": 3,
   "id": "bf5b9907",
   "metadata": {},
   "outputs": [
    {
     "data": {
      "text/plain": [
       "<function matplotlib.pyplot.show(close=None, block=None)>"
      ]
     },
     "execution_count": 3,
     "metadata": {},
     "output_type": "execute_result"
    },
    {
     "data": {
      "image/png": "[encoded data removed]",
      "text/plain": [
       "<Figure size 432x288 with 1 Axes>"
      ]
     },
     "metadata": {
      "needs_background": "light"
     },
     "output_type": "display_data"
    }
   ],
   "source": [
    "lista01.plot(kind=\"bar\",x=\"ao_hechos\", y=\"cantidad de delitos anuales\")\n",
    "plt.show"
   ]
  },
  {
   "cell_type": "markdown",
   "id": "1186c605",
   "metadata": {},
   "source": [
    "Considerando sólo los últimos años, tenemos:"
   ]
  },
  {
   "cell_type": "code",
   "execution_count": 4,
   "id": "c181f7ef",
   "metadata": {},
   "outputs": [
    {
     "data": {
      "text/plain": [
       "<function matplotlib.pyplot.show(close=None, block=None)>"
      ]
     },
     "execution_count": 4,
     "metadata": {},
     "output_type": "execute_result"
    },
    {
     "data": {
      "image/png": "[encoded data removed]",
      "text/plain": [
       "<Figure size 432x288 with 1 Axes>"
      ]
     },
     "metadata": {
      "needs_background": "light"
     },
     "output_type": "display_data"
    }
   ],
   "source": [
    "lista02 = lista01.drop(lista01.index[0:65])\n",
    "lista02.plot(kind=\"bar\",x=\"ao_hechos\", y=\"cantidad de delitos anuales\")\n",
    "plt.show"
   ]
  },
  {
   "cell_type": "markdown",
   "id": "14c795e5",
   "metadata": {},
   "source": [
    "Vamos a considerar los datos a partir del 2016. Entonces, verificando los tipos de delitos y el número de incidencias por año, tendríamos la siguiente tabla:"
   ]
  },
  {
   "cell_type": "code",
   "execution_count": 5,
   "id": "89f4e702",
   "metadata": {},
   "outputs": [],
   "source": [
    "delitos2016 =df[df[\"ao_hechos\"]==2016]\n",
    "incidencias2016 = delitos2016.groupby(\"delito\").size().reset_index(name=\"incidencia de delitos 2016\")\n",
    "delitos2017 =df[df[\"ao_hechos\"]==2017]\n",
    "incidencias2017 = delitos2017.groupby(\"delito\").size().reset_index(name=\"incidencia de delitos 2017\")\n",
    "delitos2018 =df[df[\"ao_hechos\"]==2018]\n",
    "incidencias2018 = delitos2018.groupby(\"delito\").size().reset_index(name=\"incidencia de delitos 2018\")\n",
    "delitos2019 =df[df[\"ao_hechos\"]==2019]\n",
    "incidencias2019 = delitos2019.groupby(\"delito\").size().reset_index(name=\"incidencia de delitos 2019\")\n",
    "delitos2020 =df[df[\"ao_hechos\"]==2020]\n",
    "incidencias2020 = delitos2020.groupby(\"delito\").size().reset_index(name=\"incidencia de delitos 2020\")\n",
    "delitos2021 =df[df[\"ao_hechos\"]==2021]\n",
    "incidencias2021 = delitos2021.groupby(\"delito\").size().reset_index(name=\"incidencia de delitos 2021\")"
   ]
  },
  {
   "cell_type": "code",
   "execution_count": 6,
   "id": "559c3a2f",
   "metadata": {},
   "outputs": [
    {
     "data": {
      "text/html": [
       "<div>\n",
       "<style scoped>\n",
       "    .dataframe tbody tr th:only-of-type {\n",
       "        vertical-align: middle;\n",
       "    }\n",
       "\n",
       "    .dataframe tbody tr th {\n",
       "        vertical-align: top;\n",
       "    }\n",
       "\n",
       "    .dataframe thead th {\n",
       "        text-align: right;\n",
       "    }\n",
       "</style>\n",
       "<table border=\"1\" class=\"dataframe\">\n",
       "  <thead>\n",
       "    <tr style=\"text-align: right;\">\n",
       "      <th></th>\n",
       "      <th>delito</th>\n",
       "      <th>incidencia de delitos 2016</th>\n",
       "      <th>incidencia de delitos 2017</th>\n",
       "      <th>incidencia de delitos 2018</th>\n",
       "      <th>incidencia de delitos 2019</th>\n",
       "      <th>incidencia de delitos 2020</th>\n",
       "      <th>incidencia de delitos 2021</th>\n",
       "    </tr>\n",
       "  </thead>\n",
       "  <tbody>\n",
       "    <tr>\n",
       "      <th>0</th>\n",
       "      <td>ABANDONO DE PERSONA</td>\n",
       "      <td>621.0</td>\n",
       "      <td>671.0</td>\n",
       "      <td>588.0</td>\n",
       "      <td>NaN</td>\n",
       "      <td>NaN</td>\n",
       "      <td>NaN</td>\n",
       "    </tr>\n",
       "    <tr>\n",
       "      <th>1</th>\n",
       "      <td>ABORTO</td>\n",
       "      <td>115.0</td>\n",
       "      <td>82.0</td>\n",
       "      <td>114.0</td>\n",
       "      <td>133.0</td>\n",
       "      <td>83.0</td>\n",
       "      <td>68.0</td>\n",
       "    </tr>\n",
       "    <tr>\n",
       "      <th>2</th>\n",
       "      <td>ABUSO DE AUTORIDAD</td>\n",
       "      <td>1249.0</td>\n",
       "      <td>1291.0</td>\n",
       "      <td>1689.0</td>\n",
       "      <td>NaN</td>\n",
       "      <td>NaN</td>\n",
       "      <td>NaN</td>\n",
       "    </tr>\n",
       "    <tr>\n",
       "      <th>3</th>\n",
       "      <td>ABUSO DE AUTORIDAD Y USO ILEGAL DE LA FUERZA P...</td>\n",
       "      <td>4.0</td>\n",
       "      <td>13.0</td>\n",
       "      <td>87.0</td>\n",
       "      <td>2186.0</td>\n",
       "      <td>1927.0</td>\n",
       "      <td>1465.0</td>\n",
       "    </tr>\n",
       "    <tr>\n",
       "      <th>4</th>\n",
       "      <td>ABUSO DE CONFIANZA</td>\n",
       "      <td>3254.0</td>\n",
       "      <td>3828.0</td>\n",
       "      <td>4019.0</td>\n",
       "      <td>3830.0</td>\n",
       "      <td>3628.0</td>\n",
       "      <td>2764.0</td>\n",
       "    </tr>\n",
       "    <tr>\n",
       "      <th>...</th>\n",
       "      <td>...</td>\n",
       "      <td>...</td>\n",
       "      <td>...</td>\n",
       "      <td>...</td>\n",
       "      <td>...</td>\n",
       "      <td>...</td>\n",
       "      <td>...</td>\n",
       "    </tr>\n",
       "    <tr>\n",
       "      <th>340</th>\n",
       "      <td>TENTATIVA DE FEMINICIDIO</td>\n",
       "      <td>NaN</td>\n",
       "      <td>NaN</td>\n",
       "      <td>NaN</td>\n",
       "      <td>NaN</td>\n",
       "      <td>12.0</td>\n",
       "      <td>38.0</td>\n",
       "    </tr>\n",
       "    <tr>\n",
       "      <th>341</th>\n",
       "      <td>VIOLACION A LOS DERECHOS HUMANOS</td>\n",
       "      <td>NaN</td>\n",
       "      <td>NaN</td>\n",
       "      <td>NaN</td>\n",
       "      <td>NaN</td>\n",
       "      <td>1.0</td>\n",
       "      <td>NaN</td>\n",
       "    </tr>\n",
       "    <tr>\n",
       "      <th>342</th>\n",
       "      <td>EJERCICIO INDEBIDO DEL PROPIO DER.</td>\n",
       "      <td>NaN</td>\n",
       "      <td>NaN</td>\n",
       "      <td>NaN</td>\n",
       "      <td>NaN</td>\n",
       "      <td>NaN</td>\n",
       "      <td>1.0</td>\n",
       "    </tr>\n",
       "    <tr>\n",
       "      <th>343</th>\n",
       "      <td>ROBO A TRANSEUNTE EN VIA PUBLICA (NOMINA) SIN ...</td>\n",
       "      <td>NaN</td>\n",
       "      <td>NaN</td>\n",
       "      <td>NaN</td>\n",
       "      <td>NaN</td>\n",
       "      <td>NaN</td>\n",
       "      <td>1.0</td>\n",
       "    </tr>\n",
       "    <tr>\n",
       "      <th>344</th>\n",
       "      <td>ROBO DE MERCANCIA A TRANSPORTISTA C/V</td>\n",
       "      <td>NaN</td>\n",
       "      <td>NaN</td>\n",
       "      <td>NaN</td>\n",
       "      <td>NaN</td>\n",
       "      <td>NaN</td>\n",
       "      <td>7.0</td>\n",
       "    </tr>\n",
       "  </tbody>\n",
       "</table>\n",
       "<p>345 rows × 7 columns</p>\n",
       "</div>"
      ],
      "text/plain": [
       "                                                delito  \\\n",
       "0                                  ABANDONO DE PERSONA   \n",
       "1                                               ABORTO   \n",
       "2                                   ABUSO DE AUTORIDAD   \n",
       "3    ABUSO DE AUTORIDAD Y USO ILEGAL DE LA FUERZA P...   \n",
       "4                                   ABUSO DE CONFIANZA   \n",
       "..                                                 ...   \n",
       "340                           TENTATIVA DE FEMINICIDIO   \n",
       "341                   VIOLACION A LOS DERECHOS HUMANOS   \n",
       "342                 EJERCICIO INDEBIDO DEL PROPIO DER.   \n",
       "343  ROBO A TRANSEUNTE EN VIA PUBLICA (NOMINA) SIN ...   \n",
       "344              ROBO DE MERCANCIA A TRANSPORTISTA C/V   \n",
       "\n",
       "     incidencia de delitos 2016  incidencia de delitos 2017  \\\n",
       "0                         621.0                       671.0   \n",
       "1                         115.0                        82.0   \n",
       "2                        1249.0                      1291.0   \n",
       "3                           4.0                        13.0   \n",
       "4                        3254.0                      3828.0   \n",
       "..                          ...                         ...   \n",
       "340                         NaN                         NaN   \n",
       "341                         NaN                         NaN   \n",
       "342                         NaN                         NaN   \n",
       "343                         NaN                         NaN   \n",
       "344                         NaN                         NaN   \n",
       "\n",
       "     incidencia de delitos 2018  incidencia de delitos 2019  \\\n",
       "0                         588.0                         NaN   \n",
       "1                         114.0                       133.0   \n",
       "2                        1689.0                         NaN   \n",
       "3                          87.0                      2186.0   \n",
       "4                        4019.0                      3830.0   \n",
       "..                          ...                         ...   \n",
       "340                         NaN                         NaN   \n",
       "341                         NaN                         NaN   \n",
       "342                         NaN                         NaN   \n",
       "343                         NaN                         NaN   \n",
       "344                         NaN                         NaN   \n",
       "\n",
       "     incidencia de delitos 2020  incidencia de delitos 2021  \n",
       "0                           NaN                         NaN  \n",
       "1                          83.0                        68.0  \n",
       "2                           NaN                         NaN  \n",
       "3                        1927.0                      1465.0  \n",
       "4                        3628.0                      2764.0  \n",
       "..                          ...                         ...  \n",
       "340                        12.0                        38.0  \n",
       "341                         1.0                         NaN  \n",
       "342                         NaN                         1.0  \n",
       "343                         NaN                         1.0  \n",
       "344                         NaN                         7.0  \n",
       "\n",
       "[345 rows x 7 columns]"
      ]
     },
     "execution_count": 6,
     "metadata": {},
     "output_type": "execute_result"
    }
   ],
   "source": [
    "incidencias2016.merge(incidencias2017,on=\"delito\",how=\"outer\").merge(incidencias2018,on=\"delito\",how=\"outer\").merge(incidencias2019,on=\"delito\",how=\"outer\").merge(incidencias2020,on=\"delito\",how=\"outer\").merge(incidencias2021,on=\"delito\",how=\"outer\")"
   ]
  },
  {
   "cell_type": "markdown",
   "id": "67e015be",
   "metadata": {},
   "source": [
    "A partir de esta tabla de datos resumida podemos hacer dos análisis:\n",
    "\n",
    " - el primero consiste en solamente considerar las diferencias entre los años 2020 y 2019, y las diferencias entre los años 2020 y 2021. Después de revisar los valores, dependiendo su signo podríamos hacer inferencias a partir de estos datos.\n",
    " - el segundo análisis y el que considero mucho mejor es entrenar una red neuronal para que haga inferencias acerca del crecimiento (o decrecimiento) de los delitos. Para hacer esto asignaríamos pesos más fuertes a los últimos dos años para que nuestra función de pérdida nos indique la dirección de la pendiente de los datos."
   ]
  },
  {
   "cell_type": "markdown",
   "id": "cd9f89d3",
   "metadata": {},
   "source": [
    "3.¿Cuál es la alcaldía que más delitos tiene y cuál es la que menos? ¿Por qué crees que es esto?"
   ]
  },
  {
   "cell_type": "markdown",
   "id": "dc33459c",
   "metadata": {},
   "source": [
    "Vamos a usar la suma total de los delitos a través de todos los años mencionados en la tabla. "
   ]
  },
  {
   "cell_type": "code",
   "execution_count": 7,
   "id": "9d0827e1",
   "metadata": {},
   "outputs": [
    {
     "data": {
      "text/html": [
       "<div>\n",
       "<style scoped>\n",
       "    .dataframe tbody tr th:only-of-type {\n",
       "        vertical-align: middle;\n",
       "    }\n",
       "\n",
       "    .dataframe tbody tr th {\n",
       "        vertical-align: top;\n",
       "    }\n",
       "\n",
       "    .dataframe thead th {\n",
       "        text-align: right;\n",
       "    }\n",
       "</style>\n",
       "<table border=\"1\" class=\"dataframe\">\n",
       "  <thead>\n",
       "    <tr style=\"text-align: right;\">\n",
       "      <th></th>\n",
       "      <th>alcaldia_hechos</th>\n",
       "      <th>número total de delitos</th>\n",
       "    </tr>\n",
       "  </thead>\n",
       "  <tbody>\n",
       "    <tr>\n",
       "      <th>0</th>\n",
       "      <td>ABALA</td>\n",
       "      <td>1</td>\n",
       "    </tr>\n",
       "    <tr>\n",
       "      <th>373</th>\n",
       "      <td>SAN JUAN DE LOS LAGOS</td>\n",
       "      <td>1</td>\n",
       "    </tr>\n",
       "    <tr>\n",
       "      <th>371</th>\n",
       "      <td>SAN JUAN BAUTISTA ATATLAHUCA</td>\n",
       "      <td>1</td>\n",
       "    </tr>\n",
       "    <tr>\n",
       "      <th>170</th>\n",
       "      <td>ERONGARICUARO</td>\n",
       "      <td>1</td>\n",
       "    </tr>\n",
       "    <tr>\n",
       "      <th>370</th>\n",
       "      <td>SAN JOSE ITURBIDE</td>\n",
       "      <td>1</td>\n",
       "    </tr>\n",
       "    <tr>\n",
       "      <th>...</th>\n",
       "      <td>...</td>\n",
       "      <td>...</td>\n",
       "    </tr>\n",
       "    <tr>\n",
       "      <th>30</th>\n",
       "      <td>ALVARO OBREGON</td>\n",
       "      <td>88946</td>\n",
       "    </tr>\n",
       "    <tr>\n",
       "      <th>70</th>\n",
       "      <td>BENITO JUAREZ</td>\n",
       "      <td>107516</td>\n",
       "    </tr>\n",
       "    <tr>\n",
       "      <th>186</th>\n",
       "      <td>GUSTAVO A MADERO</td>\n",
       "      <td>131319</td>\n",
       "    </tr>\n",
       "    <tr>\n",
       "      <th>221</th>\n",
       "      <td>IZTAPALAPA</td>\n",
       "      <td>196158</td>\n",
       "    </tr>\n",
       "    <tr>\n",
       "      <th>142</th>\n",
       "      <td>CUAUHTEMOC</td>\n",
       "      <td>203425</td>\n",
       "    </tr>\n",
       "  </tbody>\n",
       "</table>\n",
       "<p>557 rows × 2 columns</p>\n",
       "</div>"
      ],
      "text/plain": [
       "                  alcaldia_hechos  número total de delitos\n",
       "0                           ABALA                        1\n",
       "373         SAN JUAN DE LOS LAGOS                        1\n",
       "371  SAN JUAN BAUTISTA ATATLAHUCA                        1\n",
       "170                 ERONGARICUARO                        1\n",
       "370             SAN JOSE ITURBIDE                        1\n",
       "..                            ...                      ...\n",
       "30                 ALVARO OBREGON                    88946\n",
       "70                  BENITO JUAREZ                   107516\n",
       "186              GUSTAVO A MADERO                   131319\n",
       "221                    IZTAPALAPA                   196158\n",
       "142                    CUAUHTEMOC                   203425\n",
       "\n",
       "[557 rows x 2 columns]"
      ]
     },
     "execution_count": 7,
     "metadata": {},
     "output_type": "execute_result"
    }
   ],
   "source": [
    "alcaldia = df.groupby(\"alcaldia_hechos\").size().reset_index(name=\"número total de delitos\")\n",
    "orderalcaldia = alcaldia.sort_values([\"número total de delitos\"])\n",
    "orderalcaldia"
   ]
  },
  {
   "cell_type": "markdown",
   "id": "dfffec8b",
   "metadata": {},
   "source": [
    "La tabla anterior nos muestra que hay 557 alcaldías; sin embargo, actualmente esto no es cierto y el problema es debido a que muchos de los datos iniciales en la columna de alcaldía son en realidad municipios o lugares fuera de la CDMX. A pesar de ello, los datos que no son de alcaldías son de menor incidencia puesto que si observamos los primeros 530 datos vemos que el número de delitos no es importante:"
   ]
  },
  {
   "cell_type": "code",
   "execution_count": 8,
   "id": "c9908744",
   "metadata": {},
   "outputs": [
    {
     "data": {
      "text/html": [
       "<div>\n",
       "<style scoped>\n",
       "    .dataframe tbody tr th:only-of-type {\n",
       "        vertical-align: middle;\n",
       "    }\n",
       "\n",
       "    .dataframe tbody tr th {\n",
       "        vertical-align: top;\n",
       "    }\n",
       "\n",
       "    .dataframe thead th {\n",
       "        text-align: right;\n",
       "    }\n",
       "</style>\n",
       "<table border=\"1\" class=\"dataframe\">\n",
       "  <thead>\n",
       "    <tr style=\"text-align: right;\">\n",
       "      <th></th>\n",
       "      <th>alcaldia_hechos</th>\n",
       "      <th>número total de delitos</th>\n",
       "    </tr>\n",
       "  </thead>\n",
       "  <tbody>\n",
       "    <tr>\n",
       "      <th>0</th>\n",
       "      <td>ABALA</td>\n",
       "      <td>1</td>\n",
       "    </tr>\n",
       "    <tr>\n",
       "      <th>373</th>\n",
       "      <td>SAN JUAN DE LOS LAGOS</td>\n",
       "      <td>1</td>\n",
       "    </tr>\n",
       "    <tr>\n",
       "      <th>371</th>\n",
       "      <td>SAN JUAN BAUTISTA ATATLAHUCA</td>\n",
       "      <td>1</td>\n",
       "    </tr>\n",
       "    <tr>\n",
       "      <th>170</th>\n",
       "      <td>ERONGARICUARO</td>\n",
       "      <td>1</td>\n",
       "    </tr>\n",
       "    <tr>\n",
       "      <th>370</th>\n",
       "      <td>SAN JOSE ITURBIDE</td>\n",
       "      <td>1</td>\n",
       "    </tr>\n",
       "    <tr>\n",
       "      <th>...</th>\n",
       "      <td>...</td>\n",
       "      <td>...</td>\n",
       "    </tr>\n",
       "    <tr>\n",
       "      <th>497</th>\n",
       "      <td>TOLUCA</td>\n",
       "      <td>126</td>\n",
       "    </tr>\n",
       "    <tr>\n",
       "      <th>513</th>\n",
       "      <td>VALLE DE CHALCO SOLIDARIDAD</td>\n",
       "      <td>128</td>\n",
       "    </tr>\n",
       "    <tr>\n",
       "      <th>507</th>\n",
       "      <td>TULTITLAN</td>\n",
       "      <td>134</td>\n",
       "    </tr>\n",
       "    <tr>\n",
       "      <th>55</th>\n",
       "      <td>ATIZAPAN DE ZARAGOZA</td>\n",
       "      <td>137</td>\n",
       "    </tr>\n",
       "    <tr>\n",
       "      <th>146</th>\n",
       "      <td>CUAUTITLAN IZCALLI</td>\n",
       "      <td>157</td>\n",
       "    </tr>\n",
       "  </tbody>\n",
       "</table>\n",
       "<p>530 rows × 2 columns</p>\n",
       "</div>"
      ],
      "text/plain": [
       "                  alcaldia_hechos  número total de delitos\n",
       "0                           ABALA                        1\n",
       "373         SAN JUAN DE LOS LAGOS                        1\n",
       "371  SAN JUAN BAUTISTA ATATLAHUCA                        1\n",
       "170                 ERONGARICUARO                        1\n",
       "370             SAN JOSE ITURBIDE                        1\n",
       "..                            ...                      ...\n",
       "497                        TOLUCA                      126\n",
       "513   VALLE DE CHALCO SOLIDARIDAD                      128\n",
       "507                     TULTITLAN                      134\n",
       "55           ATIZAPAN DE ZARAGOZA                      137\n",
       "146            CUAUTITLAN IZCALLI                      157\n",
       "\n",
       "[530 rows x 2 columns]"
      ]
     },
     "execution_count": 8,
     "metadata": {},
     "output_type": "execute_result"
    }
   ],
   "source": [
    "orderalcaldia.head(530)"
   ]
  },
  {
   "cell_type": "markdown",
   "id": "f7371ffc",
   "metadata": {},
   "source": [
    "Podemos así notar que los datos correspondientes a las 16 alcaldías se encuentran ordenados de menor a mayor:"
   ]
  },
  {
   "cell_type": "code",
   "execution_count": 9,
   "id": "7d63ca75",
   "metadata": {},
   "outputs": [
    {
     "data": {
      "text/html": [
       "<div>\n",
       "<style scoped>\n",
       "    .dataframe tbody tr th:only-of-type {\n",
       "        vertical-align: middle;\n",
       "    }\n",
       "\n",
       "    .dataframe tbody tr th {\n",
       "        vertical-align: top;\n",
       "    }\n",
       "\n",
       "    .dataframe thead th {\n",
       "        text-align: right;\n",
       "    }\n",
       "</style>\n",
       "<table border=\"1\" class=\"dataframe\">\n",
       "  <thead>\n",
       "    <tr style=\"text-align: right;\">\n",
       "      <th></th>\n",
       "      <th>alcaldia_hechos</th>\n",
       "      <th>número total de delitos</th>\n",
       "    </tr>\n",
       "  </thead>\n",
       "  <tbody>\n",
       "    <tr>\n",
       "      <th>282</th>\n",
       "      <td>MILPA ALTA</td>\n",
       "      <td>9561</td>\n",
       "    </tr>\n",
       "    <tr>\n",
       "      <th>140</th>\n",
       "      <td>CUAJIMALPA DE MORELOS</td>\n",
       "      <td>19527</td>\n",
       "    </tr>\n",
       "    <tr>\n",
       "      <th>243</th>\n",
       "      <td>LA MAGDALENA CONTRERAS</td>\n",
       "      <td>21513</td>\n",
       "    </tr>\n",
       "    <tr>\n",
       "      <th>477</th>\n",
       "      <td>TLAHUAC</td>\n",
       "      <td>32444</td>\n",
       "    </tr>\n",
       "    <tr>\n",
       "      <th>529</th>\n",
       "      <td>XOCHIMILCO</td>\n",
       "      <td>41203</td>\n",
       "    </tr>\n",
       "    <tr>\n",
       "      <th>220</th>\n",
       "      <td>IZTACALCO</td>\n",
       "      <td>54310</td>\n",
       "    </tr>\n",
       "    <tr>\n",
       "      <th>67</th>\n",
       "      <td>AZCAPOTZALCO</td>\n",
       "      <td>63570</td>\n",
       "    </tr>\n",
       "    <tr>\n",
       "      <th>516</th>\n",
       "      <td>VENUSTIANO CARRANZA</td>\n",
       "      <td>75034</td>\n",
       "    </tr>\n",
       "    <tr>\n",
       "      <th>483</th>\n",
       "      <td>TLALPAN</td>\n",
       "      <td>76792</td>\n",
       "    </tr>\n",
       "    <tr>\n",
       "      <th>281</th>\n",
       "      <td>MIGUEL HIDALGO</td>\n",
       "      <td>84626</td>\n",
       "    </tr>\n",
       "    <tr>\n",
       "      <th>135</th>\n",
       "      <td>COYOACAN</td>\n",
       "      <td>87401</td>\n",
       "    </tr>\n",
       "    <tr>\n",
       "      <th>30</th>\n",
       "      <td>ALVARO OBREGON</td>\n",
       "      <td>88946</td>\n",
       "    </tr>\n",
       "    <tr>\n",
       "      <th>70</th>\n",
       "      <td>BENITO JUAREZ</td>\n",
       "      <td>107516</td>\n",
       "    </tr>\n",
       "    <tr>\n",
       "      <th>186</th>\n",
       "      <td>GUSTAVO A MADERO</td>\n",
       "      <td>131319</td>\n",
       "    </tr>\n",
       "    <tr>\n",
       "      <th>221</th>\n",
       "      <td>IZTAPALAPA</td>\n",
       "      <td>196158</td>\n",
       "    </tr>\n",
       "    <tr>\n",
       "      <th>142</th>\n",
       "      <td>CUAUHTEMOC</td>\n",
       "      <td>203425</td>\n",
       "    </tr>\n",
       "  </tbody>\n",
       "</table>\n",
       "</div>"
      ],
      "text/plain": [
       "            alcaldia_hechos  número total de delitos\n",
       "282              MILPA ALTA                     9561\n",
       "140   CUAJIMALPA DE MORELOS                    19527\n",
       "243  LA MAGDALENA CONTRERAS                    21513\n",
       "477                 TLAHUAC                    32444\n",
       "529              XOCHIMILCO                    41203\n",
       "220               IZTACALCO                    54310\n",
       "67             AZCAPOTZALCO                    63570\n",
       "516     VENUSTIANO CARRANZA                    75034\n",
       "483                 TLALPAN                    76792\n",
       "281          MIGUEL HIDALGO                    84626\n",
       "135                COYOACAN                    87401\n",
       "30           ALVARO OBREGON                    88946\n",
       "70            BENITO JUAREZ                   107516\n",
       "186        GUSTAVO A MADERO                   131319\n",
       "221              IZTAPALAPA                   196158\n",
       "142              CUAUHTEMOC                   203425"
      ]
     },
     "execution_count": 9,
     "metadata": {},
     "output_type": "execute_result"
    }
   ],
   "source": [
    "orderalcaldia.tail(16)"
   ]
  },
  {
   "cell_type": "markdown",
   "id": "e95e8dc9",
   "metadata": {},
   "source": [
    "Por lo tanto, la alcaldía con mayor número de delitos es CUAUHTEMOC, mientras que la de menor número es MILPA ALTA. Esto puede deberse a varios factores, en principio la ubicación geográfica, ya que las alcaldías del noroeste presentan un mayor índice de delitos:\n",
    "![Imagen](https://upload.wikimedia.org/wikipedia/commons/thumb/6/6e/MX-DF-Divisi%C3%B3n_pol%C3%ADtica.svg/800px-MX-DF-Divisi%C3%B3n_pol%C3%ADtica.svg.png)\n",
    "\n"
   ]
  },
  {
   "cell_type": "markdown",
   "id": "b67ea414",
   "metadata": {},
   "source": [
    "Analizando ahora los delitos más incidentes de las tres alcaldías con mayor número de delitos tenemos lo siguiente:"
   ]
  },
  {
   "cell_type": "code",
   "execution_count": 10,
   "id": "0fdc377a",
   "metadata": {},
   "outputs": [
    {
     "data": {
      "text/html": [
       "<div>\n",
       "<style scoped>\n",
       "    .dataframe tbody tr th:only-of-type {\n",
       "        vertical-align: middle;\n",
       "    }\n",
       "\n",
       "    .dataframe tbody tr th {\n",
       "        vertical-align: top;\n",
       "    }\n",
       "\n",
       "    .dataframe thead th {\n",
       "        text-align: right;\n",
       "    }\n",
       "</style>\n",
       "<table border=\"1\" class=\"dataframe\">\n",
       "  <thead>\n",
       "    <tr style=\"text-align: right;\">\n",
       "      <th></th>\n",
       "      <th>delito</th>\n",
       "      <th>incidencia de delito en CUAUHTEMOC</th>\n",
       "    </tr>\n",
       "  </thead>\n",
       "  <tbody>\n",
       "    <tr>\n",
       "      <th>4</th>\n",
       "      <td>ABUSO DE CONFIANZA</td>\n",
       "      <td>4251</td>\n",
       "    </tr>\n",
       "    <tr>\n",
       "      <th>201</th>\n",
       "      <td>ROBO A PASAJERO A BORDO DE METRO SIN VIOLENCIA</td>\n",
       "      <td>5317</td>\n",
       "    </tr>\n",
       "    <tr>\n",
       "      <th>246</th>\n",
       "      <td>ROBO DE ACCESORIOS DE AUTO</td>\n",
       "      <td>7485</td>\n",
       "    </tr>\n",
       "    <tr>\n",
       "      <th>56</th>\n",
       "      <td>DENUNCIA DE HECHOS</td>\n",
       "      <td>8559</td>\n",
       "    </tr>\n",
       "    <tr>\n",
       "      <th>10</th>\n",
       "      <td>AMENAZAS</td>\n",
       "      <td>9216</td>\n",
       "    </tr>\n",
       "    <tr>\n",
       "      <th>239</th>\n",
       "      <td>ROBO A TRANSEUNTE EN VIA PUBLICA CON VIOLENCIA</td>\n",
       "      <td>9876</td>\n",
       "    </tr>\n",
       "    <tr>\n",
       "      <th>190</th>\n",
       "      <td>ROBO A NEGOCIO SIN VIOLENCIA</td>\n",
       "      <td>10867</td>\n",
       "    </tr>\n",
       "    <tr>\n",
       "      <th>315</th>\n",
       "      <td>VIOLENCIA FAMILIAR</td>\n",
       "      <td>10981</td>\n",
       "    </tr>\n",
       "    <tr>\n",
       "      <th>260</th>\n",
       "      <td>ROBO DE OBJETOS</td>\n",
       "      <td>14568</td>\n",
       "    </tr>\n",
       "    <tr>\n",
       "      <th>91</th>\n",
       "      <td>FRAUDE</td>\n",
       "      <td>20489</td>\n",
       "    </tr>\n",
       "  </tbody>\n",
       "</table>\n",
       "</div>"
      ],
      "text/plain": [
       "                                             delito  \\\n",
       "4                                ABUSO DE CONFIANZA   \n",
       "201  ROBO A PASAJERO A BORDO DE METRO SIN VIOLENCIA   \n",
       "246                      ROBO DE ACCESORIOS DE AUTO   \n",
       "56                               DENUNCIA DE HECHOS   \n",
       "10                                         AMENAZAS   \n",
       "239  ROBO A TRANSEUNTE EN VIA PUBLICA CON VIOLENCIA   \n",
       "190                    ROBO A NEGOCIO SIN VIOLENCIA   \n",
       "315                              VIOLENCIA FAMILIAR   \n",
       "260                                 ROBO DE OBJETOS   \n",
       "91                                           FRAUDE   \n",
       "\n",
       "     incidencia de delito en CUAUHTEMOC  \n",
       "4                                  4251  \n",
       "201                                5317  \n",
       "246                                7485  \n",
       "56                                 8559  \n",
       "10                                 9216  \n",
       "239                                9876  \n",
       "190                               10867  \n",
       "315                               10981  \n",
       "260                               14568  \n",
       "91                                20489  "
      ]
     },
     "execution_count": 10,
     "metadata": {},
     "output_type": "execute_result"
    }
   ],
   "source": [
    "cuauhtemoc = df[df[\"alcaldia_hechos\"]==\"CUAUHTEMOC\"]\n",
    "delitosCuauhtemoc = cuauhtemoc.groupby(\"delito\").size().reset_index(name=\"incidencia de delito en CUAUHTEMOC\")\n",
    "delitosOrdenadosCuau = delitosCuauhtemoc.sort_values([\"incidencia de delito en CUAUHTEMOC\"])\n",
    "delitosOrdenadosCuau.tail(10)"
   ]
  },
  {
   "cell_type": "code",
   "execution_count": 11,
   "id": "69e01a38",
   "metadata": {},
   "outputs": [
    {
     "data": {
      "text/html": [
       "<div>\n",
       "<style scoped>\n",
       "    .dataframe tbody tr th:only-of-type {\n",
       "        vertical-align: middle;\n",
       "    }\n",
       "\n",
       "    .dataframe tbody tr th {\n",
       "        vertical-align: top;\n",
       "    }\n",
       "\n",
       "    .dataframe thead th {\n",
       "        text-align: right;\n",
       "    }\n",
       "</style>\n",
       "<table border=\"1\" class=\"dataframe\">\n",
       "  <thead>\n",
       "    <tr style=\"text-align: right;\">\n",
       "      <th></th>\n",
       "      <th>delito</th>\n",
       "      <th>incidencia de delito en IZTAPALAPA</th>\n",
       "    </tr>\n",
       "  </thead>\n",
       "  <tbody>\n",
       "    <tr>\n",
       "      <th>171</th>\n",
       "      <td>ROBO A CASA HABITACION SIN VIOLENCIA</td>\n",
       "      <td>4202</td>\n",
       "    </tr>\n",
       "    <tr>\n",
       "      <th>123</th>\n",
       "      <td>NARCOMENUDEO POSESION SIMPLE</td>\n",
       "      <td>4463</td>\n",
       "    </tr>\n",
       "    <tr>\n",
       "      <th>52</th>\n",
       "      <td>DENUNCIA DE HECHOS</td>\n",
       "      <td>5534</td>\n",
       "    </tr>\n",
       "    <tr>\n",
       "      <th>262</th>\n",
       "      <td>ROBO DE VEHICULO DE SERVICIO PARTICULAR SIN VI...</td>\n",
       "      <td>5726</td>\n",
       "    </tr>\n",
       "    <tr>\n",
       "      <th>84</th>\n",
       "      <td>FRAUDE</td>\n",
       "      <td>6775</td>\n",
       "    </tr>\n",
       "    <tr>\n",
       "      <th>252</th>\n",
       "      <td>ROBO DE OBJETOS</td>\n",
       "      <td>9865</td>\n",
       "    </tr>\n",
       "    <tr>\n",
       "      <th>178</th>\n",
       "      <td>ROBO A NEGOCIO SIN VIOLENCIA</td>\n",
       "      <td>10478</td>\n",
       "    </tr>\n",
       "    <tr>\n",
       "      <th>10</th>\n",
       "      <td>AMENAZAS</td>\n",
       "      <td>11392</td>\n",
       "    </tr>\n",
       "    <tr>\n",
       "      <th>232</th>\n",
       "      <td>ROBO A TRANSEUNTE EN VIA PUBLICA CON VIOLENCIA</td>\n",
       "      <td>12645</td>\n",
       "    </tr>\n",
       "    <tr>\n",
       "      <th>307</th>\n",
       "      <td>VIOLENCIA FAMILIAR</td>\n",
       "      <td>24910</td>\n",
       "    </tr>\n",
       "  </tbody>\n",
       "</table>\n",
       "</div>"
      ],
      "text/plain": [
       "                                                delito  \\\n",
       "171               ROBO A CASA HABITACION SIN VIOLENCIA   \n",
       "123                       NARCOMENUDEO POSESION SIMPLE   \n",
       "52                                  DENUNCIA DE HECHOS   \n",
       "262  ROBO DE VEHICULO DE SERVICIO PARTICULAR SIN VI...   \n",
       "84                                              FRAUDE   \n",
       "252                                    ROBO DE OBJETOS   \n",
       "178                       ROBO A NEGOCIO SIN VIOLENCIA   \n",
       "10                                            AMENAZAS   \n",
       "232     ROBO A TRANSEUNTE EN VIA PUBLICA CON VIOLENCIA   \n",
       "307                                 VIOLENCIA FAMILIAR   \n",
       "\n",
       "     incidencia de delito en IZTAPALAPA  \n",
       "171                                4202  \n",
       "123                                4463  \n",
       "52                                 5534  \n",
       "262                                5726  \n",
       "84                                 6775  \n",
       "252                                9865  \n",
       "178                               10478  \n",
       "10                                11392  \n",
       "232                               12645  \n",
       "307                               24910  "
      ]
     },
     "execution_count": 11,
     "metadata": {},
     "output_type": "execute_result"
    }
   ],
   "source": [
    "iztapalapa = df[df[\"alcaldia_hechos\"]==\"IZTAPALAPA\"]\n",
    "delitosIztapalapa = iztapalapa.groupby(\"delito\").size().reset_index(name=\"incidencia de delito en IZTAPALAPA\")\n",
    "delitosOrdenadosIzta = delitosIztapalapa.sort_values([\"incidencia de delito en IZTAPALAPA\"])\n",
    "delitosOrdenadosIzta.tail(10)"
   ]
  },
  {
   "cell_type": "code",
   "execution_count": 12,
   "id": "83af066d",
   "metadata": {
    "scrolled": true
   },
   "outputs": [
    {
     "data": {
      "text/html": [
       "<div>\n",
       "<style scoped>\n",
       "    .dataframe tbody tr th:only-of-type {\n",
       "        vertical-align: middle;\n",
       "    }\n",
       "\n",
       "    .dataframe tbody tr th {\n",
       "        vertical-align: top;\n",
       "    }\n",
       "\n",
       "    .dataframe thead th {\n",
       "        text-align: right;\n",
       "    }\n",
       "</style>\n",
       "<table border=\"1\" class=\"dataframe\">\n",
       "  <thead>\n",
       "    <tr style=\"text-align: right;\">\n",
       "      <th></th>\n",
       "      <th>delito</th>\n",
       "      <th>incidencia de delito en GUSTAVO A MADERO</th>\n",
       "    </tr>\n",
       "  </thead>\n",
       "  <tbody>\n",
       "    <tr>\n",
       "      <th>171</th>\n",
       "      <td>ROBO A CASA HABITACION SIN VIOLENCIA</td>\n",
       "      <td>3226</td>\n",
       "    </tr>\n",
       "    <tr>\n",
       "      <th>52</th>\n",
       "      <td>DENUNCIA DE HECHOS</td>\n",
       "      <td>3708</td>\n",
       "    </tr>\n",
       "    <tr>\n",
       "      <th>233</th>\n",
       "      <td>ROBO DE ACCESORIOS DE AUTO</td>\n",
       "      <td>3999</td>\n",
       "    </tr>\n",
       "    <tr>\n",
       "      <th>256</th>\n",
       "      <td>ROBO DE VEHICULO DE SERVICIO PARTICULAR SIN VI...</td>\n",
       "      <td>4323</td>\n",
       "    </tr>\n",
       "    <tr>\n",
       "      <th>85</th>\n",
       "      <td>FRAUDE</td>\n",
       "      <td>5861</td>\n",
       "    </tr>\n",
       "    <tr>\n",
       "      <th>246</th>\n",
       "      <td>ROBO DE OBJETOS</td>\n",
       "      <td>6063</td>\n",
       "    </tr>\n",
       "    <tr>\n",
       "      <th>226</th>\n",
       "      <td>ROBO A TRANSEUNTE EN VIA PUBLICA CON VIOLENCIA</td>\n",
       "      <td>6460</td>\n",
       "    </tr>\n",
       "    <tr>\n",
       "      <th>178</th>\n",
       "      <td>ROBO A NEGOCIO SIN VIOLENCIA</td>\n",
       "      <td>7064</td>\n",
       "    </tr>\n",
       "    <tr>\n",
       "      <th>10</th>\n",
       "      <td>AMENAZAS</td>\n",
       "      <td>7331</td>\n",
       "    </tr>\n",
       "    <tr>\n",
       "      <th>297</th>\n",
       "      <td>VIOLENCIA FAMILIAR</td>\n",
       "      <td>16274</td>\n",
       "    </tr>\n",
       "  </tbody>\n",
       "</table>\n",
       "</div>"
      ],
      "text/plain": [
       "                                                delito  \\\n",
       "171               ROBO A CASA HABITACION SIN VIOLENCIA   \n",
       "52                                  DENUNCIA DE HECHOS   \n",
       "233                         ROBO DE ACCESORIOS DE AUTO   \n",
       "256  ROBO DE VEHICULO DE SERVICIO PARTICULAR SIN VI...   \n",
       "85                                              FRAUDE   \n",
       "246                                    ROBO DE OBJETOS   \n",
       "226     ROBO A TRANSEUNTE EN VIA PUBLICA CON VIOLENCIA   \n",
       "178                       ROBO A NEGOCIO SIN VIOLENCIA   \n",
       "10                                            AMENAZAS   \n",
       "297                                 VIOLENCIA FAMILIAR   \n",
       "\n",
       "     incidencia de delito en GUSTAVO A MADERO  \n",
       "171                                      3226  \n",
       "52                                       3708  \n",
       "233                                      3999  \n",
       "256                                      4323  \n",
       "85                                       5861  \n",
       "246                                      6063  \n",
       "226                                      6460  \n",
       "178                                      7064  \n",
       "10                                       7331  \n",
       "297                                     16274  "
      ]
     },
     "execution_count": 12,
     "metadata": {},
     "output_type": "execute_result"
    }
   ],
   "source": [
    "gustavoamadero = df[df[\"alcaldia_hechos\"]==\"GUSTAVO A MADERO\"]\n",
    "delitosGus = gustavoamadero.groupby(\"delito\").size().reset_index(name=\"incidencia de delito en GUSTAVO A MADERO\")\n",
    "delitosOrdenadosGus = delitosGus.sort_values([\"incidencia de delito en GUSTAVO A MADERO\"])\n",
    "delitosOrdenadosGus.tail(10)"
   ]
  },
  {
   "cell_type": "markdown",
   "id": "0f76e55e",
   "metadata": {},
   "source": [
    "Dentro de los principales delitos se encuentran fraude, violencia familiar, amenazas, robo sin violencia y robo de autopartes; por lo que otra de las razones por las cuáles estas son las alcaldías de mayor índice de delitos es debido a la cantidad de vehículos con piezas para ventas de mercado negro, la cultura de la familia se encuentra en mal estado, y el robo sin violencia puede deberse a falta de educación o de oportunidades laborales en la zona norte de la CDMX."
   ]
  },
  {
   "cell_type": "markdown",
   "id": "72a46678",
   "metadata": {},
   "source": [
    "4. ¿Existe alguna tendencia estacional en la ocurrencia de delitos (mes, semana, día de la semana, quincenas) en la CDMX?"
   ]
  },
  {
   "cell_type": "markdown",
   "id": "1748fea5",
   "metadata": {},
   "source": [
    "Analizando los datos por la fecha de inicio en que se dió el delito, podemos verficicar que algunos delitos no tienen fecha conocida, sin embargo el porcentaje de datos desconocidos en fecha es de aproximadamente 0.03%, con lo cual podemos despreciar este valor sin afectar nuestras inferencias."
   ]
  },
  {
   "cell_type": "code",
   "execution_count": 13,
   "id": "001e5382",
   "metadata": {},
   "outputs": [
    {
     "data": {
      "text/html": [
       "<div>\n",
       "<style scoped>\n",
       "    .dataframe tbody tr th:only-of-type {\n",
       "        vertical-align: middle;\n",
       "    }\n",
       "\n",
       "    .dataframe tbody tr th {\n",
       "        vertical-align: top;\n",
       "    }\n",
       "\n",
       "    .dataframe thead th {\n",
       "        text-align: right;\n",
       "    }\n",
       "</style>\n",
       "<table border=\"1\" class=\"dataframe\">\n",
       "  <thead>\n",
       "    <tr style=\"text-align: right;\">\n",
       "      <th></th>\n",
       "      <th>mes_hechos</th>\n",
       "      <th>numero_de_delitos_totales_en_el_mes</th>\n",
       "    </tr>\n",
       "  </thead>\n",
       "  <tbody>\n",
       "    <tr>\n",
       "      <th>2</th>\n",
       "      <td>Desconocido</td>\n",
       "      <td>444</td>\n",
       "    </tr>\n",
       "    <tr>\n",
       "      <th>3</th>\n",
       "      <td>Diciembre</td>\n",
       "      <td>94614</td>\n",
       "    </tr>\n",
       "    <tr>\n",
       "      <th>10</th>\n",
       "      <td>Noviembre</td>\n",
       "      <td>97846</td>\n",
       "    </tr>\n",
       "    <tr>\n",
       "      <th>11</th>\n",
       "      <td>Octubre</td>\n",
       "      <td>103502</td>\n",
       "    </tr>\n",
       "    <tr>\n",
       "      <th>0</th>\n",
       "      <td>Abril</td>\n",
       "      <td>107191</td>\n",
       "    </tr>\n",
       "    <tr>\n",
       "      <th>7</th>\n",
       "      <td>Junio</td>\n",
       "      <td>109977</td>\n",
       "    </tr>\n",
       "    <tr>\n",
       "      <th>5</th>\n",
       "      <td>Febrero</td>\n",
       "      <td>110276</td>\n",
       "    </tr>\n",
       "    <tr>\n",
       "      <th>12</th>\n",
       "      <td>Septiembre</td>\n",
       "      <td>111021</td>\n",
       "    </tr>\n",
       "    <tr>\n",
       "      <th>6</th>\n",
       "      <td>Julio</td>\n",
       "      <td>111562</td>\n",
       "    </tr>\n",
       "    <tr>\n",
       "      <th>4</th>\n",
       "      <td>Enero</td>\n",
       "      <td>111719</td>\n",
       "    </tr>\n",
       "    <tr>\n",
       "      <th>9</th>\n",
       "      <td>Mayo</td>\n",
       "      <td>114275</td>\n",
       "    </tr>\n",
       "    <tr>\n",
       "      <th>1</th>\n",
       "      <td>Agosto</td>\n",
       "      <td>115934</td>\n",
       "    </tr>\n",
       "    <tr>\n",
       "      <th>8</th>\n",
       "      <td>Marzo</td>\n",
       "      <td>118850</td>\n",
       "    </tr>\n",
       "  </tbody>\n",
       "</table>\n",
       "</div>"
      ],
      "text/plain": [
       "     mes_hechos  numero_de_delitos_totales_en_el_mes\n",
       "2   Desconocido                                  444\n",
       "3     Diciembre                                94614\n",
       "10    Noviembre                                97846\n",
       "11      Octubre                               103502\n",
       "0         Abril                               107191\n",
       "7         Junio                               109977\n",
       "5       Febrero                               110276\n",
       "12   Septiembre                               111021\n",
       "6         Julio                               111562\n",
       "4         Enero                               111719\n",
       "9          Mayo                               114275\n",
       "1        Agosto                               115934\n",
       "8         Marzo                               118850"
      ]
     },
     "execution_count": 13,
     "metadata": {},
     "output_type": "execute_result"
    }
   ],
   "source": [
    "dfcom = df.fillna(\"Desconocido\")\n",
    "dfM= dfcom[[\"mes_hechos\"]]\n",
    "dfMT = dfM.groupby(\"mes_hechos\").size().reset_index(name=\"numero_de_delitos_totales_en_el_mes\").sort_values(\"numero_de_delitos_totales_en_el_mes\")\n",
    "dfMT"
   ]
  },
  {
   "cell_type": "markdown",
   "id": "394bc0a2",
   "metadata": {},
   "source": [
    "Verificamos que la suma de los delitos es el total de eventos:"
   ]
  },
  {
   "cell_type": "code",
   "execution_count": 14,
   "id": "f438b5ef",
   "metadata": {},
   "outputs": [
    {
     "data": {
      "text/plain": [
       "1307211"
      ]
     },
     "execution_count": 14,
     "metadata": {},
     "output_type": "execute_result"
    }
   ],
   "source": [
    "dfMT[\"numero_de_delitos_totales_en_el_mes\"].sum()"
   ]
  },
  {
   "cell_type": "markdown",
   "id": "d653ae3f",
   "metadata": {},
   "source": [
    "y despreciamos el valor de delitos con fecha desconocida. Despúes graficamos la cantidad de delitos totales por mes:"
   ]
  },
  {
   "cell_type": "code",
   "execution_count": 15,
   "id": "11d1acd8",
   "metadata": {},
   "outputs": [
    {
     "data": {
      "text/plain": [
       "<function matplotlib.pyplot.show(close=None, block=None)>"
      ]
     },
     "execution_count": 15,
     "metadata": {},
     "output_type": "execute_result"
    },
    {
     "data": {
      "image/png": "[encoded data removed]",
      "text/plain": [
       "<Figure size 432x288 with 1 Axes>"
      ]
     },
     "metadata": {
      "needs_background": "light"
     },
     "output_type": "display_data"
    }
   ],
   "source": [
    "dfMT1 = dfMT.drop(dfMT.index[0:1])\n",
    "dfMT1.plot(kind=\"bar\", x=\"mes_hechos\", y=\"numero_de_delitos_totales_en_el_mes\")\n",
    "plt.show"
   ]
  },
  {
   "cell_type": "markdown",
   "id": "00b2c6c9",
   "metadata": {},
   "source": [
    "Vamos a analizar la media y la desviación estándar de los datos muestrales:"
   ]
  },
  {
   "cell_type": "code",
   "execution_count": 16,
   "id": "7942d6a8",
   "metadata": {},
   "outputs": [
    {
     "data": {
      "text/plain": [
       "numero_de_delitos_totales_en_el_mes    100554.692308\n",
       "dtype: float64"
      ]
     },
     "execution_count": 16,
     "metadata": {},
     "output_type": "execute_result"
    }
   ],
   "source": [
    "dfMT.mean()"
   ]
  },
  {
   "cell_type": "code",
   "execution_count": 17,
   "id": "c28af568",
   "metadata": {},
   "outputs": [
    {
     "data": {
      "text/plain": [
       "numero_de_delitos_totales_en_el_mes    30843.185199\n",
       "dtype: float64"
      ]
     },
     "execution_count": 17,
     "metadata": {},
     "output_type": "execute_result"
    }
   ],
   "source": [
    "dfMT.std()"
   ]
  },
  {
   "cell_type": "markdown",
   "id": "cadeec56",
   "metadata": {},
   "source": [
    "Como podemos observar, la desviación estándar de los datos es realmente baja, sobre todo si consideramos que aún no tenemos los datos completos del año 2021 puesto que no tenemos las estadísticas de noviembre y diciembre, y la estadística de octubre está incompleta. \n",
    "\n",
    "Con estos datos podemos concluir que realmente no hay una tendencia estacional de ocurrencia de delitos, una de las causas por las que esto sucede es que los delitos más significativos suceden en cualquier época del año."
   ]
  },
  {
   "cell_type": "markdown",
   "id": "f27f88ae",
   "metadata": {},
   "source": [
    "5. ¿Cuáles son los delitos que más caracterizan a cada alcaldía? Es decir, delitos que suceden con mayor frecuencia en una alcaldía y con menor frecuencia en las demás."
   ]
  },
  {
   "cell_type": "markdown",
   "id": "dec86e2e",
   "metadata": {},
   "source": [
    "Vamos primero analizar las incididencias de delitos por alcaldías:"
   ]
  },
  {
   "cell_type": "code",
   "execution_count": 18,
   "id": "3ade0556",
   "metadata": {},
   "outputs": [
    {
     "data": {
      "text/html": [
       "<div>\n",
       "<style scoped>\n",
       "    .dataframe tbody tr th:only-of-type {\n",
       "        vertical-align: middle;\n",
       "    }\n",
       "\n",
       "    .dataframe tbody tr th {\n",
       "        vertical-align: top;\n",
       "    }\n",
       "\n",
       "    .dataframe thead th {\n",
       "        text-align: right;\n",
       "    }\n",
       "</style>\n",
       "<table border=\"1\" class=\"dataframe\">\n",
       "  <thead>\n",
       "    <tr style=\"text-align: right;\">\n",
       "      <th></th>\n",
       "      <th>delito</th>\n",
       "      <th>incidencia de delito en CUAUHTEMOC</th>\n",
       "      <th>incidencia de delito en IZTAPALAPA</th>\n",
       "      <th>incidencia de delito en GUSTAVO A MADERO</th>\n",
       "      <th>incidencia de delito en BENITOJ</th>\n",
       "      <th>incidencia de delito en ALVARO</th>\n",
       "      <th>incidencia de delito en COYOACAN</th>\n",
       "      <th>incidencia de delito en MIGUEL_H</th>\n",
       "      <th>incidencia de delito en TLALPAN</th>\n",
       "      <th>incidencia de delito en VENUSTIANO</th>\n",
       "      <th>incidencia de delito en AZCAPOTZALCO</th>\n",
       "      <th>incidencia de delito en IZTACALCO</th>\n",
       "      <th>incidencia de delito en XOCHIMILCO</th>\n",
       "      <th>incidencia de delito en TLAHUAC</th>\n",
       "      <th>incidencia de delito en MAGDALENA</th>\n",
       "      <th>incidencia de delito en CUAJIMALPA</th>\n",
       "      <th>incidencia de delito en MILPA ALTA</th>\n",
       "    </tr>\n",
       "  </thead>\n",
       "  <tbody>\n",
       "    <tr>\n",
       "      <th>0</th>\n",
       "      <td>ABANDONO DE PERSONA</td>\n",
       "      <td>652.0</td>\n",
       "      <td>290.0</td>\n",
       "      <td>203.0</td>\n",
       "      <td>173.0</td>\n",
       "      <td>141.0</td>\n",
       "      <td>133.0</td>\n",
       "      <td>93.0</td>\n",
       "      <td>123.0</td>\n",
       "      <td>90.0</td>\n",
       "      <td>89.0</td>\n",
       "      <td>106.0</td>\n",
       "      <td>87.0</td>\n",
       "      <td>87.0</td>\n",
       "      <td>31.0</td>\n",
       "      <td>26.0</td>\n",
       "      <td>18.0</td>\n",
       "    </tr>\n",
       "    <tr>\n",
       "      <th>1</th>\n",
       "      <td>ABORTO</td>\n",
       "      <td>41.0</td>\n",
       "      <td>119.0</td>\n",
       "      <td>95.0</td>\n",
       "      <td>20.0</td>\n",
       "      <td>72.0</td>\n",
       "      <td>14.0</td>\n",
       "      <td>22.0</td>\n",
       "      <td>39.0</td>\n",
       "      <td>52.0</td>\n",
       "      <td>11.0</td>\n",
       "      <td>22.0</td>\n",
       "      <td>15.0</td>\n",
       "      <td>15.0</td>\n",
       "      <td>16.0</td>\n",
       "      <td>8.0</td>\n",
       "      <td>11.0</td>\n",
       "    </tr>\n",
       "    <tr>\n",
       "      <th>2</th>\n",
       "      <td>ABUSO DE AUTORIDAD</td>\n",
       "      <td>1291.0</td>\n",
       "      <td>854.0</td>\n",
       "      <td>463.0</td>\n",
       "      <td>164.0</td>\n",
       "      <td>155.0</td>\n",
       "      <td>207.0</td>\n",
       "      <td>246.0</td>\n",
       "      <td>113.0</td>\n",
       "      <td>295.0</td>\n",
       "      <td>146.0</td>\n",
       "      <td>149.0</td>\n",
       "      <td>93.0</td>\n",
       "      <td>93.0</td>\n",
       "      <td>39.0</td>\n",
       "      <td>36.0</td>\n",
       "      <td>15.0</td>\n",
       "    </tr>\n",
       "    <tr>\n",
       "      <th>3</th>\n",
       "      <td>ABUSO DE AUTORIDAD Y USO ILEGAL DE LA FUERZA P...</td>\n",
       "      <td>1225.0</td>\n",
       "      <td>1267.0</td>\n",
       "      <td>516.0</td>\n",
       "      <td>247.0</td>\n",
       "      <td>337.0</td>\n",
       "      <td>229.0</td>\n",
       "      <td>265.0</td>\n",
       "      <td>218.0</td>\n",
       "      <td>465.0</td>\n",
       "      <td>188.0</td>\n",
       "      <td>251.0</td>\n",
       "      <td>147.0</td>\n",
       "      <td>147.0</td>\n",
       "      <td>86.0</td>\n",
       "      <td>69.0</td>\n",
       "      <td>39.0</td>\n",
       "    </tr>\n",
       "    <tr>\n",
       "      <th>4</th>\n",
       "      <td>ABUSO DE CONFIANZA</td>\n",
       "      <td>4251.0</td>\n",
       "      <td>2509.0</td>\n",
       "      <td>1933.0</td>\n",
       "      <td>2649.0</td>\n",
       "      <td>1518.0</td>\n",
       "      <td>1427.0</td>\n",
       "      <td>1568.0</td>\n",
       "      <td>1222.0</td>\n",
       "      <td>1397.0</td>\n",
       "      <td>1160.0</td>\n",
       "      <td>876.0</td>\n",
       "      <td>575.0</td>\n",
       "      <td>575.0</td>\n",
       "      <td>283.0</td>\n",
       "      <td>528.0</td>\n",
       "      <td>139.0</td>\n",
       "    </tr>\n",
       "    <tr>\n",
       "      <th>...</th>\n",
       "      <td>...</td>\n",
       "      <td>...</td>\n",
       "      <td>...</td>\n",
       "      <td>...</td>\n",
       "      <td>...</td>\n",
       "      <td>...</td>\n",
       "      <td>...</td>\n",
       "      <td>...</td>\n",
       "      <td>...</td>\n",
       "      <td>...</td>\n",
       "      <td>...</td>\n",
       "      <td>...</td>\n",
       "      <td>...</td>\n",
       "      <td>...</td>\n",
       "      <td>...</td>\n",
       "      <td>...</td>\n",
       "      <td>...</td>\n",
       "    </tr>\n",
       "    <tr>\n",
       "      <th>338</th>\n",
       "      <td>EJERCICIO INDEBIDO DEL PROPIO DER.</td>\n",
       "      <td>NaN</td>\n",
       "      <td>NaN</td>\n",
       "      <td>NaN</td>\n",
       "      <td>NaN</td>\n",
       "      <td>NaN</td>\n",
       "      <td>1.0</td>\n",
       "      <td>NaN</td>\n",
       "      <td>NaN</td>\n",
       "      <td>NaN</td>\n",
       "      <td>NaN</td>\n",
       "      <td>NaN</td>\n",
       "      <td>NaN</td>\n",
       "      <td>NaN</td>\n",
       "      <td>NaN</td>\n",
       "      <td>NaN</td>\n",
       "      <td>NaN</td>\n",
       "    </tr>\n",
       "    <tr>\n",
       "      <th>339</th>\n",
       "      <td>EJERCICIO ABUSIVO DE FUNCIONES</td>\n",
       "      <td>NaN</td>\n",
       "      <td>NaN</td>\n",
       "      <td>NaN</td>\n",
       "      <td>NaN</td>\n",
       "      <td>NaN</td>\n",
       "      <td>NaN</td>\n",
       "      <td>1.0</td>\n",
       "      <td>1.0</td>\n",
       "      <td>NaN</td>\n",
       "      <td>NaN</td>\n",
       "      <td>1.0</td>\n",
       "      <td>NaN</td>\n",
       "      <td>NaN</td>\n",
       "      <td>NaN</td>\n",
       "      <td>NaN</td>\n",
       "      <td>NaN</td>\n",
       "    </tr>\n",
       "    <tr>\n",
       "      <th>340</th>\n",
       "      <td>PROCREACION ASISTIDA, INSEMINACION ARTIFICIAL ...</td>\n",
       "      <td>NaN</td>\n",
       "      <td>NaN</td>\n",
       "      <td>NaN</td>\n",
       "      <td>NaN</td>\n",
       "      <td>NaN</td>\n",
       "      <td>NaN</td>\n",
       "      <td>1.0</td>\n",
       "      <td>NaN</td>\n",
       "      <td>NaN</td>\n",
       "      <td>NaN</td>\n",
       "      <td>NaN</td>\n",
       "      <td>NaN</td>\n",
       "      <td>NaN</td>\n",
       "      <td>NaN</td>\n",
       "      <td>NaN</td>\n",
       "      <td>NaN</td>\n",
       "    </tr>\n",
       "    <tr>\n",
       "      <th>341</th>\n",
       "      <td>PROCREACION ASISTIDA</td>\n",
       "      <td>NaN</td>\n",
       "      <td>NaN</td>\n",
       "      <td>NaN</td>\n",
       "      <td>NaN</td>\n",
       "      <td>NaN</td>\n",
       "      <td>NaN</td>\n",
       "      <td>NaN</td>\n",
       "      <td>1.0</td>\n",
       "      <td>NaN</td>\n",
       "      <td>NaN</td>\n",
       "      <td>NaN</td>\n",
       "      <td>NaN</td>\n",
       "      <td>NaN</td>\n",
       "      <td>NaN</td>\n",
       "      <td>NaN</td>\n",
       "      <td>NaN</td>\n",
       "    </tr>\n",
       "    <tr>\n",
       "      <th>342</th>\n",
       "      <td>SECUESTRO</td>\n",
       "      <td>NaN</td>\n",
       "      <td>NaN</td>\n",
       "      <td>NaN</td>\n",
       "      <td>NaN</td>\n",
       "      <td>NaN</td>\n",
       "      <td>NaN</td>\n",
       "      <td>NaN</td>\n",
       "      <td>NaN</td>\n",
       "      <td>NaN</td>\n",
       "      <td>NaN</td>\n",
       "      <td>NaN</td>\n",
       "      <td>1.0</td>\n",
       "      <td>1.0</td>\n",
       "      <td>NaN</td>\n",
       "      <td>NaN</td>\n",
       "      <td>NaN</td>\n",
       "    </tr>\n",
       "  </tbody>\n",
       "</table>\n",
       "<p>343 rows × 17 columns</p>\n",
       "</div>"
      ],
      "text/plain": [
       "                                                delito  \\\n",
       "0                                  ABANDONO DE PERSONA   \n",
       "1                                               ABORTO   \n",
       "2                                   ABUSO DE AUTORIDAD   \n",
       "3    ABUSO DE AUTORIDAD Y USO ILEGAL DE LA FUERZA P...   \n",
       "4                                   ABUSO DE CONFIANZA   \n",
       "..                                                 ...   \n",
       "338                 EJERCICIO INDEBIDO DEL PROPIO DER.   \n",
       "339                     EJERCICIO ABUSIVO DE FUNCIONES   \n",
       "340  PROCREACION ASISTIDA, INSEMINACION ARTIFICIAL ...   \n",
       "341                               PROCREACION ASISTIDA   \n",
       "342                                          SECUESTRO   \n",
       "\n",
       "     incidencia de delito en CUAUHTEMOC  incidencia de delito en IZTAPALAPA  \\\n",
       "0                                 652.0                               290.0   \n",
       "1                                  41.0                               119.0   \n",
       "2                                1291.0                               854.0   \n",
       "3                                1225.0                              1267.0   \n",
       "4                                4251.0                              2509.0   \n",
       "..                                  ...                                 ...   \n",
       "338                                 NaN                                 NaN   \n",
       "339                                 NaN                                 NaN   \n",
       "340                                 NaN                                 NaN   \n",
       "341                                 NaN                                 NaN   \n",
       "342                                 NaN                                 NaN   \n",
       "\n",
       "     incidencia de delito en GUSTAVO A MADERO  \\\n",
       "0                                       203.0   \n",
       "1                                        95.0   \n",
       "2                                       463.0   \n",
       "3                                       516.0   \n",
       "4                                      1933.0   \n",
       "..                                        ...   \n",
       "338                                       NaN   \n",
       "339                                       NaN   \n",
       "340                                       NaN   \n",
       "341                                       NaN   \n",
       "342                                       NaN   \n",
       "\n",
       "     incidencia de delito en BENITOJ  incidencia de delito en ALVARO  \\\n",
       "0                              173.0                           141.0   \n",
       "1                               20.0                            72.0   \n",
       "2                              164.0                           155.0   \n",
       "3                              247.0                           337.0   \n",
       "4                             2649.0                          1518.0   \n",
       "..                               ...                             ...   \n",
       "338                              NaN                             NaN   \n",
       "339                              NaN                             NaN   \n",
       "340                              NaN                             NaN   \n",
       "341                              NaN                             NaN   \n",
       "342                              NaN                             NaN   \n",
       "\n",
       "     incidencia de delito en COYOACAN  incidencia de delito en MIGUEL_H  \\\n",
       "0                               133.0                              93.0   \n",
       "1                                14.0                              22.0   \n",
       "2                               207.0                             246.0   \n",
       "3                               229.0                             265.0   \n",
       "4                              1427.0                            1568.0   \n",
       "..                                ...                               ...   \n",
       "338                               1.0                               NaN   \n",
       "339                               NaN                               1.0   \n",
       "340                               NaN                               1.0   \n",
       "341                               NaN                               NaN   \n",
       "342                               NaN                               NaN   \n",
       "\n",
       "     incidencia de delito en TLALPAN  incidencia de delito en VENUSTIANO  \\\n",
       "0                              123.0                                90.0   \n",
       "1                               39.0                                52.0   \n",
       "2                              113.0                               295.0   \n",
       "3                              218.0                               465.0   \n",
       "4                             1222.0                              1397.0   \n",
       "..                               ...                                 ...   \n",
       "338                              NaN                                 NaN   \n",
       "339                              1.0                                 NaN   \n",
       "340                              NaN                                 NaN   \n",
       "341                              1.0                                 NaN   \n",
       "342                              NaN                                 NaN   \n",
       "\n",
       "     incidencia de delito en AZCAPOTZALCO  incidencia de delito en IZTACALCO  \\\n",
       "0                                    89.0                              106.0   \n",
       "1                                    11.0                               22.0   \n",
       "2                                   146.0                              149.0   \n",
       "3                                   188.0                              251.0   \n",
       "4                                  1160.0                              876.0   \n",
       "..                                    ...                                ...   \n",
       "338                                   NaN                                NaN   \n",
       "339                                   NaN                                1.0   \n",
       "340                                   NaN                                NaN   \n",
       "341                                   NaN                                NaN   \n",
       "342                                   NaN                                NaN   \n",
       "\n",
       "     incidencia de delito en XOCHIMILCO  incidencia de delito en TLAHUAC  \\\n",
       "0                                  87.0                             87.0   \n",
       "1                                  15.0                             15.0   \n",
       "2                                  93.0                             93.0   \n",
       "3                                 147.0                            147.0   \n",
       "4                                 575.0                            575.0   \n",
       "..                                  ...                              ...   \n",
       "338                                 NaN                              NaN   \n",
       "339                                 NaN                              NaN   \n",
       "340                                 NaN                              NaN   \n",
       "341                                 NaN                              NaN   \n",
       "342                                 1.0                              1.0   \n",
       "\n",
       "     incidencia de delito en MAGDALENA  incidencia de delito en CUAJIMALPA  \\\n",
       "0                                 31.0                                26.0   \n",
       "1                                 16.0                                 8.0   \n",
       "2                                 39.0                                36.0   \n",
       "3                                 86.0                                69.0   \n",
       "4                                283.0                               528.0   \n",
       "..                                 ...                                 ...   \n",
       "338                                NaN                                 NaN   \n",
       "339                                NaN                                 NaN   \n",
       "340                                NaN                                 NaN   \n",
       "341                                NaN                                 NaN   \n",
       "342                                NaN                                 NaN   \n",
       "\n",
       "     incidencia de delito en MILPA ALTA  \n",
       "0                                  18.0  \n",
       "1                                  11.0  \n",
       "2                                  15.0  \n",
       "3                                  39.0  \n",
       "4                                 139.0  \n",
       "..                                  ...  \n",
       "338                                 NaN  \n",
       "339                                 NaN  \n",
       "340                                 NaN  \n",
       "341                                 NaN  \n",
       "342                                 NaN  \n",
       "\n",
       "[343 rows x 17 columns]"
      ]
     },
     "execution_count": 18,
     "metadata": {},
     "output_type": "execute_result"
    }
   ],
   "source": [
    "benitoj = df[df[\"alcaldia_hechos\"]==\"BENITO JUAREZ\"]\n",
    "delitosBen = benitoj.groupby(\"delito\").size().reset_index(name=\"incidencia de delito en BENITOJ\")\n",
    "\n",
    "alvaro = df[df[\"alcaldia_hechos\"]==\"ALVARO OBREGON\"]\n",
    "delitosalv = alvaro.groupby(\"delito\").size().reset_index(name=\"incidencia de delito en ALVARO\")\n",
    "\n",
    "coyoacan = df[df[\"alcaldia_hechos\"]==\"COYOACAN\"]\n",
    "delitoscoy = coyoacan.groupby(\"delito\").size().reset_index(name=\"incidencia de delito en COYOACAN\")\n",
    "\n",
    "miguel = df[df[\"alcaldia_hechos\"]==\"MIGUEL HIDALGO\"]\n",
    "delitosmig = miguel.groupby(\"delito\").size().reset_index(name=\"incidencia de delito en MIGUEL_H\")\n",
    "\n",
    "tlalpan = df[df[\"alcaldia_hechos\"]==\"TLALPAN\"]\n",
    "delitosTla = tlalpan.groupby(\"delito\").size().reset_index(name=\"incidencia de delito en TLALPAN\")\n",
    "\n",
    "venustiano = df[df[\"alcaldia_hechos\"]==\"VENUSTIANO CARRANZA\"]\n",
    "delitosVenus = venustiano.groupby(\"delito\").size().reset_index(name=\"incidencia de delito en VENUSTIANO\")\n",
    "\n",
    "azcapo = df[df[\"alcaldia_hechos\"]==\"AZCAPOTZALCO\"]\n",
    "delitosAzc = azcapo.groupby(\"delito\").size().reset_index(name=\"incidencia de delito en AZCAPOTZALCO\")\n",
    "\n",
    "iztacalco = df[df[\"alcaldia_hechos\"]==\"IZTACALCO\"]\n",
    "delitosIz = iztacalco.groupby(\"delito\").size().reset_index(name=\"incidencia de delito en IZTACALCO\")\n",
    "\n",
    "xochimilco = df[df[\"alcaldia_hechos\"]==\"XOCHIMILCO\"]\n",
    "delitosXoc = xochimilco.groupby(\"delito\").size().reset_index(name=\"incidencia de delito en XOCHIMILCO\")\n",
    "\n",
    "tlahuac = df[df[\"alcaldia_hechos\"]==\"TLAHUAC\"]\n",
    "delitosTlah = xochimilco.groupby(\"delito\").size().reset_index(name=\"incidencia de delito en TLAHUAC\")\n",
    "\n",
    "magdalena = df[df[\"alcaldia_hechos\"]==\"LA MAGDALENA CONTRERAS\"]\n",
    "delitosMag = magdalena.groupby(\"delito\").size().reset_index(name=\"incidencia de delito en MAGDALENA\")\n",
    "\n",
    "cuajimalpa = df[df[\"alcaldia_hechos\"]==\"CUAJIMALPA DE MORELOS\"]\n",
    "delitosCuaj = cuajimalpa.groupby(\"delito\").size().reset_index(name=\"incidencia de delito en CUAJIMALPA\")\n",
    "\n",
    "milpa = df[df[\"alcaldia_hechos\"]==\"MILPA ALTA\"]\n",
    "delitosMilp = milpa.groupby(\"delito\").size().reset_index(name=\"incidencia de delito en MILPA ALTA\")\n",
    "\n",
    "tablaCompleta = delitosCuauhtemoc.merge(delitosIztapalapa,on=\"delito\",how=\"outer\").merge(delitosGus,on=\"delito\",how=\"outer\").merge(delitosBen,on=\"delito\",how=\"outer\").merge(delitosalv,on=\"delito\",how=\"outer\").merge(delitoscoy,on=\"delito\",how=\"outer\").merge(delitosmig,on=\"delito\",how=\"outer\").merge(delitosTla,on=\"delito\",how=\"outer\").merge(delitosVenus,on=\"delito\",how=\"outer\").merge(delitosAzc,on=\"delito\",how=\"outer\").merge(delitosIz,on=\"delito\",how=\"outer\").merge(delitosXoc,on=\"delito\",how=\"outer\").merge(delitosTlah,on=\"delito\",how=\"outer\").merge(delitosMag,on=\"delito\",how=\"outer\").merge(delitosCuaj,on=\"delito\",how=\"outer\").merge(delitosMilp,on=\"delito\",how=\"outer\")\n",
    "\n",
    "tablaCompleta"
   ]
  },
  {
   "cell_type": "markdown",
   "id": "28a4a0a2",
   "metadata": {},
   "source": [
    "Ahora veremos el máximo de todos los valores en cada fila y los ordenaremos para obtener el top de los delitos con incidencias máximas por alcaldía:"
   ]
  },
  {
   "cell_type": "code",
   "execution_count": 19,
   "id": "363311d0",
   "metadata": {},
   "outputs": [
    {
     "data": {
      "text/html": [
       "<div>\n",
       "<style scoped>\n",
       "    .dataframe tbody tr th:only-of-type {\n",
       "        vertical-align: middle;\n",
       "    }\n",
       "\n",
       "    .dataframe tbody tr th {\n",
       "        vertical-align: top;\n",
       "    }\n",
       "\n",
       "    .dataframe thead th {\n",
       "        text-align: right;\n",
       "    }\n",
       "</style>\n",
       "<table border=\"1\" class=\"dataframe\">\n",
       "  <thead>\n",
       "    <tr style=\"text-align: right;\">\n",
       "      <th></th>\n",
       "      <th>Número Máximo de delitos</th>\n",
       "    </tr>\n",
       "  </thead>\n",
       "  <tbody>\n",
       "    <tr>\n",
       "      <th>0</th>\n",
       "      <td>652.0</td>\n",
       "    </tr>\n",
       "    <tr>\n",
       "      <th>1</th>\n",
       "      <td>119.0</td>\n",
       "    </tr>\n",
       "    <tr>\n",
       "      <th>2</th>\n",
       "      <td>1291.0</td>\n",
       "    </tr>\n",
       "    <tr>\n",
       "      <th>3</th>\n",
       "      <td>1267.0</td>\n",
       "    </tr>\n",
       "    <tr>\n",
       "      <th>4</th>\n",
       "      <td>4251.0</td>\n",
       "    </tr>\n",
       "    <tr>\n",
       "      <th>...</th>\n",
       "      <td>...</td>\n",
       "    </tr>\n",
       "    <tr>\n",
       "      <th>338</th>\n",
       "      <td>1.0</td>\n",
       "    </tr>\n",
       "    <tr>\n",
       "      <th>339</th>\n",
       "      <td>1.0</td>\n",
       "    </tr>\n",
       "    <tr>\n",
       "      <th>340</th>\n",
       "      <td>1.0</td>\n",
       "    </tr>\n",
       "    <tr>\n",
       "      <th>341</th>\n",
       "      <td>1.0</td>\n",
       "    </tr>\n",
       "    <tr>\n",
       "      <th>342</th>\n",
       "      <td>1.0</td>\n",
       "    </tr>\n",
       "  </tbody>\n",
       "</table>\n",
       "<p>343 rows × 1 columns</p>\n",
       "</div>"
      ],
      "text/plain": [
       "     Número Máximo de delitos\n",
       "0                       652.0\n",
       "1                       119.0\n",
       "2                      1291.0\n",
       "3                      1267.0\n",
       "4                      4251.0\n",
       "..                        ...\n",
       "338                       1.0\n",
       "339                       1.0\n",
       "340                       1.0\n",
       "341                       1.0\n",
       "342                       1.0\n",
       "\n",
       "[343 rows x 1 columns]"
      ]
     },
     "execution_count": 19,
     "metadata": {},
     "output_type": "execute_result"
    }
   ],
   "source": [
    "Tabladevaloresmax = tablaCompleta.max(axis=1)\n",
    "library1={\"Número Máximo de delitos\":Tabladevaloresmax}\n",
    "numericos = pd.DataFrame(data=library1)\n",
    "numericos"
   ]
  },
  {
   "cell_type": "markdown",
   "id": "fb1d4ad6",
   "metadata": {},
   "source": [
    "A continuación veremos cúal alcaldía es la que contiene el elemento máximo según el tipo de delito."
   ]
  },
  {
   "cell_type": "code",
   "execution_count": 20,
   "id": "096b0150",
   "metadata": {},
   "outputs": [],
   "source": [
    "Maximoselementos = tablaCompleta.drop(columns=[\"delito\"]).idxmax(axis=1)\n",
    "dat={\"Alcadias_Maximos_elementos\": Maximoselementos}\n",
    "datos = pd.DataFrame(data=dat)"
   ]
  },
  {
   "cell_type": "code",
   "execution_count": 21,
   "id": "9c1eb758",
   "metadata": {},
   "outputs": [],
   "source": [
    "tabladeDelitos = pd.DataFrame(data=tablaCompleta[\"delito\"])"
   ]
  },
  {
   "cell_type": "code",
   "execution_count": 22,
   "id": "c937235e",
   "metadata": {},
   "outputs": [
    {
     "data": {
      "text/html": [
       "<div>\n",
       "<style scoped>\n",
       "    .dataframe tbody tr th:only-of-type {\n",
       "        vertical-align: middle;\n",
       "    }\n",
       "\n",
       "    .dataframe tbody tr th {\n",
       "        vertical-align: top;\n",
       "    }\n",
       "\n",
       "    .dataframe thead th {\n",
       "        text-align: right;\n",
       "    }\n",
       "</style>\n",
       "<table border=\"1\" class=\"dataframe\">\n",
       "  <thead>\n",
       "    <tr style=\"text-align: right;\">\n",
       "      <th></th>\n",
       "      <th>delito</th>\n",
       "      <th>Alcadias_Maximos_elementos</th>\n",
       "      <th>Número Máximo de delitos</th>\n",
       "    </tr>\n",
       "  </thead>\n",
       "  <tbody>\n",
       "    <tr>\n",
       "      <th>342</th>\n",
       "      <td>SECUESTRO</td>\n",
       "      <td>incidencia de delito en XOCHIMILCO</td>\n",
       "      <td>1.0</td>\n",
       "    </tr>\n",
       "    <tr>\n",
       "      <th>313</th>\n",
       "      <td>VIOLACION TUMULTUARIA EQUIPARADA</td>\n",
       "      <td>incidencia de delito en CUAUHTEMOC</td>\n",
       "      <td>1.0</td>\n",
       "    </tr>\n",
       "    <tr>\n",
       "      <th>314</th>\n",
       "      <td>VIOLACION TUMULTUARIA EQUIPARADA POR CONOCIDO</td>\n",
       "      <td>incidencia de delito en CUAUHTEMOC</td>\n",
       "      <td>1.0</td>\n",
       "    </tr>\n",
       "    <tr>\n",
       "      <th>316</th>\n",
       "      <td>INCESTO</td>\n",
       "      <td>incidencia de delito en IZTAPALAPA</td>\n",
       "      <td>1.0</td>\n",
       "    </tr>\n",
       "    <tr>\n",
       "      <th>254</th>\n",
       "      <td>ROBO DE INFANTE</td>\n",
       "      <td>incidencia de delito en CUAUHTEMOC</td>\n",
       "      <td>1.0</td>\n",
       "    </tr>\n",
       "    <tr>\n",
       "      <th>...</th>\n",
       "      <td>...</td>\n",
       "      <td>...</td>\n",
       "      <td>...</td>\n",
       "    </tr>\n",
       "    <tr>\n",
       "      <th>10</th>\n",
       "      <td>AMENAZAS</td>\n",
       "      <td>incidencia de delito en IZTAPALAPA</td>\n",
       "      <td>11392.0</td>\n",
       "    </tr>\n",
       "    <tr>\n",
       "      <th>239</th>\n",
       "      <td>ROBO A TRANSEUNTE EN VIA PUBLICA CON VIOLENCIA</td>\n",
       "      <td>incidencia de delito en IZTAPALAPA</td>\n",
       "      <td>12645.0</td>\n",
       "    </tr>\n",
       "    <tr>\n",
       "      <th>260</th>\n",
       "      <td>ROBO DE OBJETOS</td>\n",
       "      <td>incidencia de delito en CUAUHTEMOC</td>\n",
       "      <td>14568.0</td>\n",
       "    </tr>\n",
       "    <tr>\n",
       "      <th>91</th>\n",
       "      <td>FRAUDE</td>\n",
       "      <td>incidencia de delito en CUAUHTEMOC</td>\n",
       "      <td>20489.0</td>\n",
       "    </tr>\n",
       "    <tr>\n",
       "      <th>315</th>\n",
       "      <td>VIOLENCIA FAMILIAR</td>\n",
       "      <td>incidencia de delito en IZTAPALAPA</td>\n",
       "      <td>24910.0</td>\n",
       "    </tr>\n",
       "  </tbody>\n",
       "</table>\n",
       "<p>343 rows × 3 columns</p>\n",
       "</div>"
      ],
      "text/plain": [
       "                                             delito  \\\n",
       "342                                       SECUESTRO   \n",
       "313                VIOLACION TUMULTUARIA EQUIPARADA   \n",
       "314   VIOLACION TUMULTUARIA EQUIPARADA POR CONOCIDO   \n",
       "316                                         INCESTO   \n",
       "254                                 ROBO DE INFANTE   \n",
       "..                                              ...   \n",
       "10                                         AMENAZAS   \n",
       "239  ROBO A TRANSEUNTE EN VIA PUBLICA CON VIOLENCIA   \n",
       "260                                 ROBO DE OBJETOS   \n",
       "91                                           FRAUDE   \n",
       "315                              VIOLENCIA FAMILIAR   \n",
       "\n",
       "             Alcadias_Maximos_elementos  Número Máximo de delitos  \n",
       "342  incidencia de delito en XOCHIMILCO                       1.0  \n",
       "313  incidencia de delito en CUAUHTEMOC                       1.0  \n",
       "314  incidencia de delito en CUAUHTEMOC                       1.0  \n",
       "316  incidencia de delito en IZTAPALAPA                       1.0  \n",
       "254  incidencia de delito en CUAUHTEMOC                       1.0  \n",
       "..                                  ...                       ...  \n",
       "10   incidencia de delito en IZTAPALAPA                   11392.0  \n",
       "239  incidencia de delito en IZTAPALAPA                   12645.0  \n",
       "260  incidencia de delito en CUAUHTEMOC                   14568.0  \n",
       "91   incidencia de delito en CUAUHTEMOC                   20489.0  \n",
       "315  incidencia de delito en IZTAPALAPA                   24910.0  \n",
       "\n",
       "[343 rows x 3 columns]"
      ]
     },
     "execution_count": 22,
     "metadata": {},
     "output_type": "execute_result"
    }
   ],
   "source": [
    "Match = pd.concat([tabladeDelitos,datos,numericos], axis=1)\n",
    "MatchOr = Match.sort_values(\"Número Máximo de delitos\")\n",
    "MatchOr"
   ]
  },
  {
   "cell_type": "markdown",
   "id": "f7c459ce",
   "metadata": {},
   "source": [
    "Para ver los delitos que más caracterizan a cada alcaldía simplemente hacemos el siguiente análisis:"
   ]
  },
  {
   "cell_type": "code",
   "execution_count": 23,
   "id": "c822b26a",
   "metadata": {},
   "outputs": [
    {
     "data": {
      "text/html": [
       "<div>\n",
       "<style scoped>\n",
       "    .dataframe tbody tr th:only-of-type {\n",
       "        vertical-align: middle;\n",
       "    }\n",
       "\n",
       "    .dataframe tbody tr th {\n",
       "        vertical-align: top;\n",
       "    }\n",
       "\n",
       "    .dataframe thead th {\n",
       "        text-align: right;\n",
       "    }\n",
       "</style>\n",
       "<table border=\"1\" class=\"dataframe\">\n",
       "  <thead>\n",
       "    <tr style=\"text-align: right;\">\n",
       "      <th></th>\n",
       "      <th>delito</th>\n",
       "      <th>Alcadias_Maximos_elementos</th>\n",
       "      <th>Número Máximo de delitos</th>\n",
       "    </tr>\n",
       "  </thead>\n",
       "  <tbody>\n",
       "    <tr>\n",
       "      <th>91</th>\n",
       "      <td>FRAUDE</td>\n",
       "      <td>incidencia de delito en CUAUHTEMOC</td>\n",
       "      <td>20489.0</td>\n",
       "    </tr>\n",
       "  </tbody>\n",
       "</table>\n",
       "</div>"
      ],
      "text/plain": [
       "    delito          Alcadias_Maximos_elementos  Número Máximo de delitos\n",
       "91  FRAUDE  incidencia de delito en CUAUHTEMOC                   20489.0"
      ]
     },
     "execution_count": 23,
     "metadata": {},
     "output_type": "execute_result"
    }
   ],
   "source": [
    "MatchOr[MatchOr[\"Alcadias_Maximos_elementos\"]==\"incidencia de delito en CUAUHTEMOC\"].tail(1)"
   ]
  },
  {
   "cell_type": "code",
   "execution_count": 24,
   "id": "e6239e74",
   "metadata": {},
   "outputs": [
    {
     "data": {
      "text/html": [
       "<div>\n",
       "<style scoped>\n",
       "    .dataframe tbody tr th:only-of-type {\n",
       "        vertical-align: middle;\n",
       "    }\n",
       "\n",
       "    .dataframe tbody tr th {\n",
       "        vertical-align: top;\n",
       "    }\n",
       "\n",
       "    .dataframe thead th {\n",
       "        text-align: right;\n",
       "    }\n",
       "</style>\n",
       "<table border=\"1\" class=\"dataframe\">\n",
       "  <thead>\n",
       "    <tr style=\"text-align: right;\">\n",
       "      <th></th>\n",
       "      <th>delito</th>\n",
       "      <th>Alcadias_Maximos_elementos</th>\n",
       "      <th>Número Máximo de delitos</th>\n",
       "    </tr>\n",
       "  </thead>\n",
       "  <tbody>\n",
       "    <tr>\n",
       "      <th>315</th>\n",
       "      <td>VIOLENCIA FAMILIAR</td>\n",
       "      <td>incidencia de delito en IZTAPALAPA</td>\n",
       "      <td>24910.0</td>\n",
       "    </tr>\n",
       "  </tbody>\n",
       "</table>\n",
       "</div>"
      ],
      "text/plain": [
       "                 delito          Alcadias_Maximos_elementos  \\\n",
       "315  VIOLENCIA FAMILIAR  incidencia de delito en IZTAPALAPA   \n",
       "\n",
       "     Número Máximo de delitos  \n",
       "315                   24910.0  "
      ]
     },
     "execution_count": 24,
     "metadata": {},
     "output_type": "execute_result"
    }
   ],
   "source": [
    "MatchOr[MatchOr[\"Alcadias_Maximos_elementos\"]==\"incidencia de delito en IZTAPALAPA\"].tail(1)"
   ]
  },
  {
   "cell_type": "code",
   "execution_count": 25,
   "id": "fd415c01",
   "metadata": {},
   "outputs": [
    {
     "data": {
      "text/html": [
       "<div>\n",
       "<style scoped>\n",
       "    .dataframe tbody tr th:only-of-type {\n",
       "        vertical-align: middle;\n",
       "    }\n",
       "\n",
       "    .dataframe tbody tr th {\n",
       "        vertical-align: top;\n",
       "    }\n",
       "\n",
       "    .dataframe thead th {\n",
       "        text-align: right;\n",
       "    }\n",
       "</style>\n",
       "<table border=\"1\" class=\"dataframe\">\n",
       "  <thead>\n",
       "    <tr style=\"text-align: right;\">\n",
       "      <th></th>\n",
       "      <th>delito</th>\n",
       "      <th>Alcadias_Maximos_elementos</th>\n",
       "      <th>Número Máximo de delitos</th>\n",
       "    </tr>\n",
       "  </thead>\n",
       "  <tbody>\n",
       "    <tr>\n",
       "      <th>192</th>\n",
       "      <td>ROBO A NEGOCIO SIN VIOLENCIA POR FARDEROS (TIE...</td>\n",
       "      <td>incidencia de delito en GUSTAVO A MADERO</td>\n",
       "      <td>1680.0</td>\n",
       "    </tr>\n",
       "  </tbody>\n",
       "</table>\n",
       "</div>"
      ],
      "text/plain": [
       "                                                delito  \\\n",
       "192  ROBO A NEGOCIO SIN VIOLENCIA POR FARDEROS (TIE...   \n",
       "\n",
       "                   Alcadias_Maximos_elementos  Número Máximo de delitos  \n",
       "192  incidencia de delito en GUSTAVO A MADERO                    1680.0  "
      ]
     },
     "execution_count": 25,
     "metadata": {},
     "output_type": "execute_result"
    }
   ],
   "source": [
    "MatchOr[MatchOr[\"Alcadias_Maximos_elementos\"]==\"incidencia de delito en GUSTAVO A MADERO\"].tail(1)"
   ]
  },
  {
   "cell_type": "code",
   "execution_count": 26,
   "id": "4c74acdb",
   "metadata": {},
   "outputs": [
    {
     "data": {
      "text/html": [
       "<div>\n",
       "<style scoped>\n",
       "    .dataframe tbody tr th:only-of-type {\n",
       "        vertical-align: middle;\n",
       "    }\n",
       "\n",
       "    .dataframe tbody tr th {\n",
       "        vertical-align: top;\n",
       "    }\n",
       "\n",
       "    .dataframe thead th {\n",
       "        text-align: right;\n",
       "    }\n",
       "</style>\n",
       "<table border=\"1\" class=\"dataframe\">\n",
       "  <thead>\n",
       "    <tr style=\"text-align: right;\">\n",
       "      <th></th>\n",
       "      <th>delito</th>\n",
       "      <th>Alcadias_Maximos_elementos</th>\n",
       "      <th>Número Máximo de delitos</th>\n",
       "    </tr>\n",
       "  </thead>\n",
       "  <tbody>\n",
       "    <tr>\n",
       "      <th>246</th>\n",
       "      <td>ROBO DE ACCESORIOS DE AUTO</td>\n",
       "      <td>incidencia de delito en BENITOJ</td>\n",
       "      <td>8688.0</td>\n",
       "    </tr>\n",
       "  </tbody>\n",
       "</table>\n",
       "</div>"
      ],
      "text/plain": [
       "                         delito       Alcadias_Maximos_elementos  \\\n",
       "246  ROBO DE ACCESORIOS DE AUTO  incidencia de delito en BENITOJ   \n",
       "\n",
       "     Número Máximo de delitos  \n",
       "246                    8688.0  "
      ]
     },
     "execution_count": 26,
     "metadata": {},
     "output_type": "execute_result"
    }
   ],
   "source": [
    "MatchOr[MatchOr[\"Alcadias_Maximos_elementos\"]==\"incidencia de delito en BENITOJ\"].tail(1)"
   ]
  },
  {
   "cell_type": "code",
   "execution_count": 27,
   "id": "884ac222",
   "metadata": {},
   "outputs": [
    {
     "data": {
      "text/html": [
       "<div>\n",
       "<style scoped>\n",
       "    .dataframe tbody tr th:only-of-type {\n",
       "        vertical-align: middle;\n",
       "    }\n",
       "\n",
       "    .dataframe tbody tr th {\n",
       "        vertical-align: top;\n",
       "    }\n",
       "\n",
       "    .dataframe thead th {\n",
       "        text-align: right;\n",
       "    }\n",
       "</style>\n",
       "<table border=\"1\" class=\"dataframe\">\n",
       "  <thead>\n",
       "    <tr style=\"text-align: right;\">\n",
       "      <th></th>\n",
       "      <th>delito</th>\n",
       "      <th>Alcadias_Maximos_elementos</th>\n",
       "      <th>Número Máximo de delitos</th>\n",
       "    </tr>\n",
       "  </thead>\n",
       "  <tbody>\n",
       "    <tr>\n",
       "      <th>199</th>\n",
       "      <td>ROBO A PASAJERO / CONDUCTOR DE VEHICULO CON VI...</td>\n",
       "      <td>incidencia de delito en ALVARO</td>\n",
       "      <td>2705.0</td>\n",
       "    </tr>\n",
       "  </tbody>\n",
       "</table>\n",
       "</div>"
      ],
      "text/plain": [
       "                                                delito  \\\n",
       "199  ROBO A PASAJERO / CONDUCTOR DE VEHICULO CON VI...   \n",
       "\n",
       "         Alcadias_Maximos_elementos  Número Máximo de delitos  \n",
       "199  incidencia de delito en ALVARO                    2705.0  "
      ]
     },
     "execution_count": 27,
     "metadata": {},
     "output_type": "execute_result"
    }
   ],
   "source": [
    "MatchOr[MatchOr[\"Alcadias_Maximos_elementos\"]==\"incidencia de delito en ALVARO\"].tail(1)"
   ]
  },
  {
   "cell_type": "code",
   "execution_count": 28,
   "id": "117caac6",
   "metadata": {},
   "outputs": [
    {
     "data": {
      "text/html": [
       "<div>\n",
       "<style scoped>\n",
       "    .dataframe tbody tr th:only-of-type {\n",
       "        vertical-align: middle;\n",
       "    }\n",
       "\n",
       "    .dataframe tbody tr th {\n",
       "        vertical-align: top;\n",
       "    }\n",
       "\n",
       "    .dataframe thead th {\n",
       "        text-align: right;\n",
       "    }\n",
       "</style>\n",
       "<table border=\"1\" class=\"dataframe\">\n",
       "  <thead>\n",
       "    <tr style=\"text-align: right;\">\n",
       "      <th></th>\n",
       "      <th>delito</th>\n",
       "      <th>Alcadias_Maximos_elementos</th>\n",
       "      <th>Número Máximo de delitos</th>\n",
       "    </tr>\n",
       "  </thead>\n",
       "  <tbody>\n",
       "    <tr>\n",
       "      <th>268</th>\n",
       "      <td>ROBO DE VEHICULO DE SERVICIO OFICIAL SIN VIOLE...</td>\n",
       "      <td>incidencia de delito en COYOACAN</td>\n",
       "      <td>29.0</td>\n",
       "    </tr>\n",
       "  </tbody>\n",
       "</table>\n",
       "</div>"
      ],
      "text/plain": [
       "                                                delito  \\\n",
       "268  ROBO DE VEHICULO DE SERVICIO OFICIAL SIN VIOLE...   \n",
       "\n",
       "           Alcadias_Maximos_elementos  Número Máximo de delitos  \n",
       "268  incidencia de delito en COYOACAN                      29.0  "
      ]
     },
     "execution_count": 28,
     "metadata": {},
     "output_type": "execute_result"
    }
   ],
   "source": [
    "MatchOr[MatchOr[\"Alcadias_Maximos_elementos\"]==\"incidencia de delito en COYOACAN\"].tail(1)"
   ]
  },
  {
   "cell_type": "code",
   "execution_count": 29,
   "id": "9dfc7913",
   "metadata": {},
   "outputs": [
    {
     "data": {
      "text/html": [
       "<div>\n",
       "<style scoped>\n",
       "    .dataframe tbody tr th:only-of-type {\n",
       "        vertical-align: middle;\n",
       "    }\n",
       "\n",
       "    .dataframe tbody tr th {\n",
       "        vertical-align: top;\n",
       "    }\n",
       "\n",
       "    .dataframe thead th {\n",
       "        text-align: right;\n",
       "    }\n",
       "</style>\n",
       "<table border=\"1\" class=\"dataframe\">\n",
       "  <thead>\n",
       "    <tr style=\"text-align: right;\">\n",
       "      <th></th>\n",
       "      <th>delito</th>\n",
       "      <th>Alcadias_Maximos_elementos</th>\n",
       "      <th>Número Máximo de delitos</th>\n",
       "    </tr>\n",
       "  </thead>\n",
       "  <tbody>\n",
       "    <tr>\n",
       "      <th>263</th>\n",
       "      <td>ROBO DE PLACA DE AUTOMOVIL</td>\n",
       "      <td>incidencia de delito en MIGUEL_H</td>\n",
       "      <td>648.0</td>\n",
       "    </tr>\n",
       "  </tbody>\n",
       "</table>\n",
       "</div>"
      ],
      "text/plain": [
       "                         delito        Alcadias_Maximos_elementos  \\\n",
       "263  ROBO DE PLACA DE AUTOMOVIL  incidencia de delito en MIGUEL_H   \n",
       "\n",
       "     Número Máximo de delitos  \n",
       "263                     648.0  "
      ]
     },
     "execution_count": 29,
     "metadata": {},
     "output_type": "execute_result"
    }
   ],
   "source": [
    "MatchOr[MatchOr[\"Alcadias_Maximos_elementos\"]==\"incidencia de delito en MIGUEL_H\"].tail(1)"
   ]
  },
  {
   "cell_type": "code",
   "execution_count": 30,
   "id": "1e0db570",
   "metadata": {},
   "outputs": [
    {
     "data": {
      "text/html": [
       "<div>\n",
       "<style scoped>\n",
       "    .dataframe tbody tr th:only-of-type {\n",
       "        vertical-align: middle;\n",
       "    }\n",
       "\n",
       "    .dataframe tbody tr th {\n",
       "        vertical-align: top;\n",
       "    }\n",
       "\n",
       "    .dataframe thead th {\n",
       "        text-align: right;\n",
       "    }\n",
       "</style>\n",
       "<table border=\"1\" class=\"dataframe\">\n",
       "  <thead>\n",
       "    <tr style=\"text-align: right;\">\n",
       "      <th></th>\n",
       "      <th>delito</th>\n",
       "      <th>Alcadias_Maximos_elementos</th>\n",
       "      <th>Número Máximo de delitos</th>\n",
       "    </tr>\n",
       "  </thead>\n",
       "  <tbody>\n",
       "    <tr>\n",
       "      <th>51</th>\n",
       "      <td>DELITOS AMBIENTALES</td>\n",
       "      <td>incidencia de delito en TLALPAN</td>\n",
       "      <td>490.0</td>\n",
       "    </tr>\n",
       "  </tbody>\n",
       "</table>\n",
       "</div>"
      ],
      "text/plain": [
       "                 delito       Alcadias_Maximos_elementos  \\\n",
       "51  DELITOS AMBIENTALES  incidencia de delito en TLALPAN   \n",
       "\n",
       "    Número Máximo de delitos  \n",
       "51                     490.0  "
      ]
     },
     "execution_count": 30,
     "metadata": {},
     "output_type": "execute_result"
    }
   ],
   "source": [
    "MatchOr[MatchOr[\"Alcadias_Maximos_elementos\"]==\"incidencia de delito en TLALPAN\"].tail(1)"
   ]
  },
  {
   "cell_type": "code",
   "execution_count": 31,
   "id": "18b01b5a",
   "metadata": {},
   "outputs": [
    {
     "data": {
      "text/html": [
       "<div>\n",
       "<style scoped>\n",
       "    .dataframe tbody tr th:only-of-type {\n",
       "        vertical-align: middle;\n",
       "    }\n",
       "\n",
       "    .dataframe tbody tr th {\n",
       "        vertical-align: top;\n",
       "    }\n",
       "\n",
       "    .dataframe thead th {\n",
       "        text-align: right;\n",
       "    }\n",
       "</style>\n",
       "<table border=\"1\" class=\"dataframe\">\n",
       "  <thead>\n",
       "    <tr style=\"text-align: right;\">\n",
       "      <th></th>\n",
       "      <th>delito</th>\n",
       "      <th>Alcadias_Maximos_elementos</th>\n",
       "      <th>Número Máximo de delitos</th>\n",
       "    </tr>\n",
       "  </thead>\n",
       "  <tbody>\n",
       "    <tr>\n",
       "      <th>99</th>\n",
       "      <td>HOMICIDIO CULPOSO POR TRÁNSITO VEHICULAR</td>\n",
       "      <td>incidencia de delito en VENUSTIANO</td>\n",
       "      <td>78.0</td>\n",
       "    </tr>\n",
       "  </tbody>\n",
       "</table>\n",
       "</div>"
      ],
      "text/plain": [
       "                                      delito  \\\n",
       "99  HOMICIDIO CULPOSO POR TRÁNSITO VEHICULAR   \n",
       "\n",
       "            Alcadias_Maximos_elementos  Número Máximo de delitos  \n",
       "99  incidencia de delito en VENUSTIANO                      78.0  "
      ]
     },
     "execution_count": 31,
     "metadata": {},
     "output_type": "execute_result"
    }
   ],
   "source": [
    "MatchOr[MatchOr[\"Alcadias_Maximos_elementos\"]==\"incidencia de delito en VENUSTIANO\"].tail(1)"
   ]
  },
  {
   "cell_type": "code",
   "execution_count": 32,
   "id": "10d7be8a",
   "metadata": {},
   "outputs": [
    {
     "data": {
      "text/html": [
       "<div>\n",
       "<style scoped>\n",
       "    .dataframe tbody tr th:only-of-type {\n",
       "        vertical-align: middle;\n",
       "    }\n",
       "\n",
       "    .dataframe tbody tr th {\n",
       "        vertical-align: top;\n",
       "    }\n",
       "\n",
       "    .dataframe thead th {\n",
       "        text-align: right;\n",
       "    }\n",
       "</style>\n",
       "<table border=\"1\" class=\"dataframe\">\n",
       "  <thead>\n",
       "    <tr style=\"text-align: right;\">\n",
       "      <th></th>\n",
       "      <th>delito</th>\n",
       "      <th>Alcadias_Maximos_elementos</th>\n",
       "      <th>Número Máximo de delitos</th>\n",
       "    </tr>\n",
       "  </thead>\n",
       "  <tbody>\n",
       "    <tr>\n",
       "      <th>235</th>\n",
       "      <td>ROBO A TRANSEUNTE EN NEGOCIO CON VIOLENCIA</td>\n",
       "      <td>incidencia de delito en AZCAPOTZALCO</td>\n",
       "      <td>553.0</td>\n",
       "    </tr>\n",
       "  </tbody>\n",
       "</table>\n",
       "</div>"
      ],
      "text/plain": [
       "                                         delito  \\\n",
       "235  ROBO A TRANSEUNTE EN NEGOCIO CON VIOLENCIA   \n",
       "\n",
       "               Alcadias_Maximos_elementos  Número Máximo de delitos  \n",
       "235  incidencia de delito en AZCAPOTZALCO                     553.0  "
      ]
     },
     "execution_count": 32,
     "metadata": {},
     "output_type": "execute_result"
    }
   ],
   "source": [
    "MatchOr[MatchOr[\"Alcadias_Maximos_elementos\"]==\"incidencia de delito en AZCAPOTZALCO\"].tail(1)"
   ]
  },
  {
   "cell_type": "code",
   "execution_count": 33,
   "id": "7e8ddfd1",
   "metadata": {},
   "outputs": [
    {
     "data": {
      "text/html": [
       "<div>\n",
       "<style scoped>\n",
       "    .dataframe tbody tr th:only-of-type {\n",
       "        vertical-align: middle;\n",
       "    }\n",
       "\n",
       "    .dataframe tbody tr th {\n",
       "        vertical-align: top;\n",
       "    }\n",
       "\n",
       "    .dataframe thead th {\n",
       "        text-align: right;\n",
       "    }\n",
       "</style>\n",
       "<table border=\"1\" class=\"dataframe\">\n",
       "  <thead>\n",
       "    <tr style=\"text-align: right;\">\n",
       "      <th></th>\n",
       "      <th>delito</th>\n",
       "      <th>Alcadias_Maximos_elementos</th>\n",
       "      <th>Número Máximo de delitos</th>\n",
       "    </tr>\n",
       "  </thead>\n",
       "  <tbody>\n",
       "    <tr>\n",
       "      <th>276</th>\n",
       "      <td>ROBO EN EVENTOS MASIVOS (DEPORTIVOS, CULTURALE...</td>\n",
       "      <td>incidencia de delito en IZTACALCO</td>\n",
       "      <td>94.0</td>\n",
       "    </tr>\n",
       "  </tbody>\n",
       "</table>\n",
       "</div>"
      ],
      "text/plain": [
       "                                                delito  \\\n",
       "276  ROBO EN EVENTOS MASIVOS (DEPORTIVOS, CULTURALE...   \n",
       "\n",
       "            Alcadias_Maximos_elementos  Número Máximo de delitos  \n",
       "276  incidencia de delito en IZTACALCO                      94.0  "
      ]
     },
     "execution_count": 33,
     "metadata": {},
     "output_type": "execute_result"
    }
   ],
   "source": [
    "MatchOr[MatchOr[\"Alcadias_Maximos_elementos\"]==\"incidencia de delito en IZTACALCO\"].tail(1)"
   ]
  },
  {
   "cell_type": "code",
   "execution_count": 34,
   "id": "3a87d366",
   "metadata": {},
   "outputs": [
    {
     "data": {
      "text/html": [
       "<div>\n",
       "<style scoped>\n",
       "    .dataframe tbody tr th:only-of-type {\n",
       "        vertical-align: middle;\n",
       "    }\n",
       "\n",
       "    .dataframe tbody tr th {\n",
       "        vertical-align: top;\n",
       "    }\n",
       "\n",
       "    .dataframe thead th {\n",
       "        text-align: right;\n",
       "    }\n",
       "</style>\n",
       "<table border=\"1\" class=\"dataframe\">\n",
       "  <thead>\n",
       "    <tr style=\"text-align: right;\">\n",
       "      <th></th>\n",
       "      <th>delito</th>\n",
       "      <th>Alcadias_Maximos_elementos</th>\n",
       "      <th>Número Máximo de delitos</th>\n",
       "    </tr>\n",
       "  </thead>\n",
       "  <tbody>\n",
       "    <tr>\n",
       "      <th>215</th>\n",
       "      <td>ROBO A PASAJERO EN TREN LIGERO SIN VIOLENCIA</td>\n",
       "      <td>incidencia de delito en XOCHIMILCO</td>\n",
       "      <td>45.0</td>\n",
       "    </tr>\n",
       "  </tbody>\n",
       "</table>\n",
       "</div>"
      ],
      "text/plain": [
       "                                           delito  \\\n",
       "215  ROBO A PASAJERO EN TREN LIGERO SIN VIOLENCIA   \n",
       "\n",
       "             Alcadias_Maximos_elementos  Número Máximo de delitos  \n",
       "215  incidencia de delito en XOCHIMILCO                      45.0  "
      ]
     },
     "execution_count": 34,
     "metadata": {},
     "output_type": "execute_result"
    }
   ],
   "source": [
    "MatchOr[MatchOr[\"Alcadias_Maximos_elementos\"]==\"incidencia de delito en XOCHIMILCO\"].tail(1)"
   ]
  },
  {
   "cell_type": "code",
   "execution_count": 35,
   "id": "340eba41",
   "metadata": {},
   "outputs": [
    {
     "data": {
      "text/html": [
       "<div>\n",
       "<style scoped>\n",
       "    .dataframe tbody tr th:only-of-type {\n",
       "        vertical-align: middle;\n",
       "    }\n",
       "\n",
       "    .dataframe tbody tr th {\n",
       "        vertical-align: top;\n",
       "    }\n",
       "\n",
       "    .dataframe thead th {\n",
       "        text-align: right;\n",
       "    }\n",
       "</style>\n",
       "<table border=\"1\" class=\"dataframe\">\n",
       "  <thead>\n",
       "    <tr style=\"text-align: right;\">\n",
       "      <th></th>\n",
       "      <th>delito</th>\n",
       "      <th>Alcadias_Maximos_elementos</th>\n",
       "      <th>Número Máximo de delitos</th>\n",
       "    </tr>\n",
       "  </thead>\n",
       "  <tbody>\n",
       "  </tbody>\n",
       "</table>\n",
       "</div>"
      ],
      "text/plain": [
       "Empty DataFrame\n",
       "Columns: [delito, Alcadias_Maximos_elementos, Número Máximo de delitos]\n",
       "Index: []"
      ]
     },
     "execution_count": 35,
     "metadata": {},
     "output_type": "execute_result"
    }
   ],
   "source": [
    "MatchOr[MatchOr[\"Alcadias_Maximos_elementos\"]==\"incidencia de delito en TLAHUAC\"].tail(1)"
   ]
  },
  {
   "cell_type": "code",
   "execution_count": 36,
   "id": "4a6b5e36",
   "metadata": {},
   "outputs": [
    {
     "data": {
      "text/html": [
       "<div>\n",
       "<style scoped>\n",
       "    .dataframe tbody tr th:only-of-type {\n",
       "        vertical-align: middle;\n",
       "    }\n",
       "\n",
       "    .dataframe tbody tr th {\n",
       "        vertical-align: top;\n",
       "    }\n",
       "\n",
       "    .dataframe thead th {\n",
       "        text-align: right;\n",
       "    }\n",
       "</style>\n",
       "<table border=\"1\" class=\"dataframe\">\n",
       "  <thead>\n",
       "    <tr style=\"text-align: right;\">\n",
       "      <th></th>\n",
       "      <th>delito</th>\n",
       "      <th>Alcadias_Maximos_elementos</th>\n",
       "      <th>Número Máximo de delitos</th>\n",
       "    </tr>\n",
       "  </thead>\n",
       "  <tbody>\n",
       "  </tbody>\n",
       "</table>\n",
       "</div>"
      ],
      "text/plain": [
       "Empty DataFrame\n",
       "Columns: [delito, Alcadias_Maximos_elementos, Número Máximo de delitos]\n",
       "Index: []"
      ]
     },
     "execution_count": 36,
     "metadata": {},
     "output_type": "execute_result"
    }
   ],
   "source": [
    "MatchOr[MatchOr[\"Alcadias_Maximos_elementos\"]==\"incidencia de delito en MAGDALENA\"].tail(1)"
   ]
  },
  {
   "cell_type": "code",
   "execution_count": 37,
   "id": "ab478f77",
   "metadata": {},
   "outputs": [
    {
     "data": {
      "text/html": [
       "<div>\n",
       "<style scoped>\n",
       "    .dataframe tbody tr th:only-of-type {\n",
       "        vertical-align: middle;\n",
       "    }\n",
       "\n",
       "    .dataframe tbody tr th {\n",
       "        vertical-align: top;\n",
       "    }\n",
       "\n",
       "    .dataframe thead th {\n",
       "        text-align: right;\n",
       "    }\n",
       "</style>\n",
       "<table border=\"1\" class=\"dataframe\">\n",
       "  <thead>\n",
       "    <tr style=\"text-align: right;\">\n",
       "      <th></th>\n",
       "      <th>delito</th>\n",
       "      <th>Alcadias_Maximos_elementos</th>\n",
       "      <th>Número Máximo de delitos</th>\n",
       "    </tr>\n",
       "  </thead>\n",
       "  <tbody>\n",
       "    <tr>\n",
       "      <th>136</th>\n",
       "      <td>OPOSICION A LA OBRA PUBLICA</td>\n",
       "      <td>incidencia de delito en CUAJIMALPA</td>\n",
       "      <td>3.0</td>\n",
       "    </tr>\n",
       "  </tbody>\n",
       "</table>\n",
       "</div>"
      ],
      "text/plain": [
       "                          delito          Alcadias_Maximos_elementos  \\\n",
       "136  OPOSICION A LA OBRA PUBLICA  incidencia de delito en CUAJIMALPA   \n",
       "\n",
       "     Número Máximo de delitos  \n",
       "136                       3.0  "
      ]
     },
     "execution_count": 37,
     "metadata": {},
     "output_type": "execute_result"
    }
   ],
   "source": [
    "MatchOr[MatchOr[\"Alcadias_Maximos_elementos\"]==\"incidencia de delito en CUAJIMALPA\"].tail(1)"
   ]
  },
  {
   "cell_type": "code",
   "execution_count": 38,
   "id": "9f5b5c51",
   "metadata": {},
   "outputs": [
    {
     "data": {
      "text/html": [
       "<div>\n",
       "<style scoped>\n",
       "    .dataframe tbody tr th:only-of-type {\n",
       "        vertical-align: middle;\n",
       "    }\n",
       "\n",
       "    .dataframe tbody tr th {\n",
       "        vertical-align: top;\n",
       "    }\n",
       "\n",
       "    .dataframe thead th {\n",
       "        text-align: right;\n",
       "    }\n",
       "</style>\n",
       "<table border=\"1\" class=\"dataframe\">\n",
       "  <thead>\n",
       "    <tr style=\"text-align: right;\">\n",
       "      <th></th>\n",
       "      <th>delito</th>\n",
       "      <th>Alcadias_Maximos_elementos</th>\n",
       "      <th>Número Máximo de delitos</th>\n",
       "    </tr>\n",
       "  </thead>\n",
       "  <tbody>\n",
       "  </tbody>\n",
       "</table>\n",
       "</div>"
      ],
      "text/plain": [
       "Empty DataFrame\n",
       "Columns: [delito, Alcadias_Maximos_elementos, Número Máximo de delitos]\n",
       "Index: []"
      ]
     },
     "execution_count": 38,
     "metadata": {},
     "output_type": "execute_result"
    }
   ],
   "source": [
    "MatchOr[MatchOr[\"Alcadias_Maximos_elementos\"]==\"incidencia de delito en MILPA ALTA\"].tail(1)"
   ]
  },
  {
   "cell_type": "markdown",
   "id": "25caa74b",
   "metadata": {},
   "source": [
    "Como una última observación, las alcaldías TLAHUAC, MAGDALENA CONTRERAS Y MILPA ALPA no tienen elementos máximos porque cualquier delito que ha sucedido en dichas delegaciones, ha sucedido más veces en alguna otra alcaldía a través de los años."
   ]
  },
  {
   "cell_type": "markdown",
   "id": "5f19fb53",
   "metadata": {},
   "source": [
    "6. Diseñar un indicador  que mida el nivel de \"inseguridad\". Genéralo al nivel de desaregación quete parezca más adecuado (ej. manzana, calle, AGEB, etc.). Analiza los resultados ¿Encontraste algún patrón interesante? ¿Qué desiciones se podrían tomar con el indicador?"
   ]
  },
  {
   "cell_type": "markdown",
   "id": "3e06d294",
   "metadata": {},
   "source": [
    "Aquí podríamos obtener el nivel de inseguridad de colonia CON RESPECTO a su alcaldía. Lo que haríamos sería aprovechar que ya tenemos las tablas **completas** de incidencias de delitos POR CADA ALCALDÍA, entonces obtenemos el promedio de delitos por alcaldía y creamos una tabla con condicionales de tal forma que si la colonia rebasa al promedio sería un nivel alto de peligro, mientras que si está en por debajo del quantil correspondiente entre 0% y 20% es de menor riesgo, y si el complemento es el caso de riesgo moderado.  "
   ]
  },
  {
   "cell_type": "markdown",
   "id": "6c067233",
   "metadata": {},
   "source": [
    "## Sección B"
   ]
  },
  {
   "cell_type": "markdown",
   "id": "979a7dcb",
   "metadata": {},
   "source": [
    "Lo primero que vamos a hacer es depurar la base de datos debido a que de entrada la columna referente a *sales* se encuentra escrita con espacios desde el archivo lo cual dificulta su escritura, a su vez sus elementos son objetos y no floats; además, tenemos columnas que no nos aportan nada relevante para nuestro caso de estudio, a saber, las columnas *Unnamed*. Las tablas quedarías de la siguiente forma:"
   ]
  },
  {
   "cell_type": "code",
   "execution_count": 39,
   "id": "98bbd5f3",
   "metadata": {},
   "outputs": [],
   "source": [
    "df1=pd.read_csv(\"bops_bm.csv\")\n",
    "df2=pd.read_csv(\"bops_online.csv\")"
   ]
  },
  {
   "cell_type": "code",
   "execution_count": 40,
   "id": "e123a9f4",
   "metadata": {},
   "outputs": [
    {
     "data": {
      "text/html": [
       "<div>\n",
       "<style scoped>\n",
       "    .dataframe tbody tr th:only-of-type {\n",
       "        vertical-align: middle;\n",
       "    }\n",
       "\n",
       "    .dataframe tbody tr th {\n",
       "        vertical-align: top;\n",
       "    }\n",
       "\n",
       "    .dataframe thead th {\n",
       "        text-align: right;\n",
       "    }\n",
       "</style>\n",
       "<table border=\"1\" class=\"dataframe\">\n",
       "  <thead>\n",
       "    <tr style=\"text-align: right;\">\n",
       "      <th></th>\n",
       "      <th>id (store)</th>\n",
       "      <th>year</th>\n",
       "      <th>month</th>\n",
       "      <th>week</th>\n",
       "      <th>usa</th>\n",
       "      <th>after</th>\n",
       "      <th>sales</th>\n",
       "    </tr>\n",
       "  </thead>\n",
       "  <tbody>\n",
       "    <tr>\n",
       "      <th>0</th>\n",
       "      <td>1.0</td>\n",
       "      <td>2011.0</td>\n",
       "      <td>4.0</td>\n",
       "      <td>16.0</td>\n",
       "      <td>0.0</td>\n",
       "      <td>0.0</td>\n",
       "      <td>118691.0</td>\n",
       "    </tr>\n",
       "    <tr>\n",
       "      <th>1</th>\n",
       "      <td>1.0</td>\n",
       "      <td>2011.0</td>\n",
       "      <td>4.0</td>\n",
       "      <td>17.0</td>\n",
       "      <td>0.0</td>\n",
       "      <td>0.0</td>\n",
       "      <td>113804.0</td>\n",
       "    </tr>\n",
       "    <tr>\n",
       "      <th>2</th>\n",
       "      <td>1.0</td>\n",
       "      <td>2011.0</td>\n",
       "      <td>4.0</td>\n",
       "      <td>18.0</td>\n",
       "      <td>0.0</td>\n",
       "      <td>0.0</td>\n",
       "      <td>172104.0</td>\n",
       "    </tr>\n",
       "    <tr>\n",
       "      <th>3</th>\n",
       "      <td>1.0</td>\n",
       "      <td>2011.0</td>\n",
       "      <td>5.0</td>\n",
       "      <td>19.0</td>\n",
       "      <td>0.0</td>\n",
       "      <td>0.0</td>\n",
       "      <td>105591.0</td>\n",
       "    </tr>\n",
       "    <tr>\n",
       "      <th>4</th>\n",
       "      <td>1.0</td>\n",
       "      <td>2011.0</td>\n",
       "      <td>5.0</td>\n",
       "      <td>20.0</td>\n",
       "      <td>0.0</td>\n",
       "      <td>0.0</td>\n",
       "      <td>94884.0</td>\n",
       "    </tr>\n",
       "    <tr>\n",
       "      <th>...</th>\n",
       "      <td>...</td>\n",
       "      <td>...</td>\n",
       "      <td>...</td>\n",
       "      <td>...</td>\n",
       "      <td>...</td>\n",
       "      <td>...</td>\n",
       "      <td>...</td>\n",
       "    </tr>\n",
       "    <tr>\n",
       "      <th>4533</th>\n",
       "      <td>169.0</td>\n",
       "      <td>2012.0</td>\n",
       "      <td>3.0</td>\n",
       "      <td>14.0</td>\n",
       "      <td>1.0</td>\n",
       "      <td>1.0</td>\n",
       "      <td>67671.0</td>\n",
       "    </tr>\n",
       "    <tr>\n",
       "      <th>4534</th>\n",
       "      <td>169.0</td>\n",
       "      <td>2012.0</td>\n",
       "      <td>4.0</td>\n",
       "      <td>15.0</td>\n",
       "      <td>1.0</td>\n",
       "      <td>1.0</td>\n",
       "      <td>50140.0</td>\n",
       "    </tr>\n",
       "    <tr>\n",
       "      <th>4535</th>\n",
       "      <td>169.0</td>\n",
       "      <td>2012.0</td>\n",
       "      <td>4.0</td>\n",
       "      <td>16.0</td>\n",
       "      <td>1.0</td>\n",
       "      <td>1.0</td>\n",
       "      <td>75023.0</td>\n",
       "    </tr>\n",
       "    <tr>\n",
       "      <th>4536</th>\n",
       "      <td>NaN</td>\n",
       "      <td>NaN</td>\n",
       "      <td>NaN</td>\n",
       "      <td>NaN</td>\n",
       "      <td>NaN</td>\n",
       "      <td>NaN</td>\n",
       "      <td>NaN</td>\n",
       "    </tr>\n",
       "    <tr>\n",
       "      <th>4537</th>\n",
       "      <td>NaN</td>\n",
       "      <td>NaN</td>\n",
       "      <td>NaN</td>\n",
       "      <td>NaN</td>\n",
       "      <td>NaN</td>\n",
       "      <td>NaN</td>\n",
       "      <td>NaN</td>\n",
       "    </tr>\n",
       "  </tbody>\n",
       "</table>\n",
       "<p>4538 rows × 7 columns</p>\n",
       "</div>"
      ],
      "text/plain": [
       "      id (store)    year  month  week  usa  after     sales\n",
       "0            1.0  2011.0    4.0  16.0  0.0    0.0  118691.0\n",
       "1            1.0  2011.0    4.0  17.0  0.0    0.0  113804.0\n",
       "2            1.0  2011.0    4.0  18.0  0.0    0.0  172104.0\n",
       "3            1.0  2011.0    5.0  19.0  0.0    0.0  105591.0\n",
       "4            1.0  2011.0    5.0  20.0  0.0    0.0   94884.0\n",
       "...          ...     ...    ...   ...  ...    ...       ...\n",
       "4533       169.0  2012.0    3.0  14.0  1.0    1.0   67671.0\n",
       "4534       169.0  2012.0    4.0  15.0  1.0    1.0   50140.0\n",
       "4535       169.0  2012.0    4.0  16.0  1.0    1.0   75023.0\n",
       "4536         NaN     NaN    NaN   NaN  NaN    NaN       NaN\n",
       "4537         NaN     NaN    NaN   NaN  NaN    NaN       NaN\n",
       "\n",
       "[4538 rows x 7 columns]"
      ]
     },
     "execution_count": 40,
     "metadata": {},
     "output_type": "execute_result"
    }
   ],
   "source": [
    "df1[\"sales\"] = df1[\"sales\"].replace({\",\":\"\"},regex=True)\n",
    "df1[\"sales\"] = df1[\"sales\"].astype(float)\n",
    "\n",
    "dfbm = df1[[\"id (store)\", \"year\", \"month\", \"week\", \"usa\", \"after\", \"sales\"]]\n",
    "dfbm"
   ]
  },
  {
   "cell_type": "code",
   "execution_count": 41,
   "id": "df1e53f3",
   "metadata": {},
   "outputs": [
    {
     "data": {
      "text/html": [
       "<div>\n",
       "<style scoped>\n",
       "    .dataframe tbody tr th:only-of-type {\n",
       "        vertical-align: middle;\n",
       "    }\n",
       "\n",
       "    .dataframe tbody tr th {\n",
       "        vertical-align: top;\n",
       "    }\n",
       "\n",
       "    .dataframe thead th {\n",
       "        text-align: right;\n",
       "    }\n",
       "</style>\n",
       "<table border=\"1\" class=\"dataframe\">\n",
       "  <thead>\n",
       "    <tr style=\"text-align: right;\">\n",
       "      <th></th>\n",
       "      <th>id (DMA)</th>\n",
       "      <th>year</th>\n",
       "      <th>month</th>\n",
       "      <th>week</th>\n",
       "      <th>after</th>\n",
       "      <th>close</th>\n",
       "      <th>sales</th>\n",
       "    </tr>\n",
       "  </thead>\n",
       "  <tbody>\n",
       "    <tr>\n",
       "      <th>0</th>\n",
       "      <td>1</td>\n",
       "      <td>2011</td>\n",
       "      <td>4</td>\n",
       "      <td>17</td>\n",
       "      <td>0</td>\n",
       "      <td>1</td>\n",
       "      <td>18564.0</td>\n",
       "    </tr>\n",
       "    <tr>\n",
       "      <th>1</th>\n",
       "      <td>1</td>\n",
       "      <td>2011</td>\n",
       "      <td>4</td>\n",
       "      <td>18</td>\n",
       "      <td>0</td>\n",
       "      <td>1</td>\n",
       "      <td>30883.0</td>\n",
       "    </tr>\n",
       "    <tr>\n",
       "      <th>2</th>\n",
       "      <td>1</td>\n",
       "      <td>2011</td>\n",
       "      <td>5</td>\n",
       "      <td>19</td>\n",
       "      <td>0</td>\n",
       "      <td>1</td>\n",
       "      <td>37425.0</td>\n",
       "    </tr>\n",
       "    <tr>\n",
       "      <th>3</th>\n",
       "      <td>1</td>\n",
       "      <td>2011</td>\n",
       "      <td>5</td>\n",
       "      <td>20</td>\n",
       "      <td>0</td>\n",
       "      <td>1</td>\n",
       "      <td>32563.0</td>\n",
       "    </tr>\n",
       "    <tr>\n",
       "      <th>4</th>\n",
       "      <td>1</td>\n",
       "      <td>2011</td>\n",
       "      <td>5</td>\n",
       "      <td>21</td>\n",
       "      <td>0</td>\n",
       "      <td>1</td>\n",
       "      <td>35773.0</td>\n",
       "    </tr>\n",
       "    <tr>\n",
       "      <th>...</th>\n",
       "      <td>...</td>\n",
       "      <td>...</td>\n",
       "      <td>...</td>\n",
       "      <td>...</td>\n",
       "      <td>...</td>\n",
       "      <td>...</td>\n",
       "      <td>...</td>\n",
       "    </tr>\n",
       "    <tr>\n",
       "      <th>10705</th>\n",
       "      <td>210</td>\n",
       "      <td>2012</td>\n",
       "      <td>2</td>\n",
       "      <td>10</td>\n",
       "      <td>1</td>\n",
       "      <td>0</td>\n",
       "      <td>9357.0</td>\n",
       "    </tr>\n",
       "    <tr>\n",
       "      <th>10706</th>\n",
       "      <td>210</td>\n",
       "      <td>2012</td>\n",
       "      <td>3</td>\n",
       "      <td>11</td>\n",
       "      <td>1</td>\n",
       "      <td>0</td>\n",
       "      <td>3013.0</td>\n",
       "    </tr>\n",
       "    <tr>\n",
       "      <th>10707</th>\n",
       "      <td>210</td>\n",
       "      <td>2012</td>\n",
       "      <td>3</td>\n",
       "      <td>12</td>\n",
       "      <td>1</td>\n",
       "      <td>0</td>\n",
       "      <td>3155.0</td>\n",
       "    </tr>\n",
       "    <tr>\n",
       "      <th>10708</th>\n",
       "      <td>210</td>\n",
       "      <td>2012</td>\n",
       "      <td>3</td>\n",
       "      <td>13</td>\n",
       "      <td>1</td>\n",
       "      <td>0</td>\n",
       "      <td>2925.0</td>\n",
       "    </tr>\n",
       "    <tr>\n",
       "      <th>10709</th>\n",
       "      <td>210</td>\n",
       "      <td>2012</td>\n",
       "      <td>3</td>\n",
       "      <td>14</td>\n",
       "      <td>1</td>\n",
       "      <td>0</td>\n",
       "      <td>3701.0</td>\n",
       "    </tr>\n",
       "  </tbody>\n",
       "</table>\n",
       "<p>10710 rows × 7 columns</p>\n",
       "</div>"
      ],
      "text/plain": [
       "       id (DMA)  year  month  week  after  close    sales\n",
       "0             1  2011      4    17      0      1  18564.0\n",
       "1             1  2011      4    18      0      1  30883.0\n",
       "2             1  2011      5    19      0      1  37425.0\n",
       "3             1  2011      5    20      0      1  32563.0\n",
       "4             1  2011      5    21      0      1  35773.0\n",
       "...         ...   ...    ...   ...    ...    ...      ...\n",
       "10705       210  2012      2    10      1      0   9357.0\n",
       "10706       210  2012      3    11      1      0   3013.0\n",
       "10707       210  2012      3    12      1      0   3155.0\n",
       "10708       210  2012      3    13      1      0   2925.0\n",
       "10709       210  2012      3    14      1      0   3701.0\n",
       "\n",
       "[10710 rows x 7 columns]"
      ]
     },
     "execution_count": 41,
     "metadata": {},
     "output_type": "execute_result"
    }
   ],
   "source": [
    "df2[\"sales\"] = df2[\"sales\"].replace({\",\":\"\"},regex=True)\n",
    "df2[\"sales\"] = df2[\"sales\"].astype(float)\n",
    "\n",
    "dfonline = df2[[\"id (DMA)\",\"year\",\"month\",\"week\",\"after\",\"close\",\"sales\"]]\n",
    "dfonline"
   ]
  },
  {
   "cell_type": "markdown",
   "id": "5ebe2ab3",
   "metadata": {},
   "source": [
    "Ahora, vamos a hacer un análisis profundo mes a mes para saber cómo se comportaron las ventas"
   ]
  },
  {
   "cell_type": "markdown",
   "id": "c437aeab",
   "metadata": {},
   "source": [
    "Ventas online antes de BOPS"
   ]
  },
  {
   "cell_type": "code",
   "execution_count": 42,
   "id": "033658d5",
   "metadata": {},
   "outputs": [],
   "source": [
    "dfonlineAb = dfonline[dfonline[\"month\"]==4]\n",
    "u1 = dfonlineAb[\"sales\"].sum()\n",
    "\n",
    "dfonlineMayo = dfonline[dfonline[\"month\"]==5]\n",
    "u2 = dfonlineMayo[\"sales\"].sum()\n",
    "\n",
    "dfonlineJunio = dfonline[dfonline[\"month\"]==6]\n",
    "u3 = dfonlineJunio[\"sales\"].sum()\n",
    "\n",
    "dfonlineJulio = dfonline[dfonline[\"month\"]==7]\n",
    "u4 = dfonlineJulio[\"sales\"].sum()\n",
    "\n",
    "dfonlineAgosto = dfonline[dfonline[\"month\"]==8]\n",
    "u5 = dfonlineAgosto[\"sales\"].sum()\n",
    "\n",
    "dfonlineSep = dfonline[dfonline[\"month\"]==9]\n",
    "u6 = dfonlineSep[\"sales\"].sum()\n",
    "\n",
    "dfonlineOctober = dfonline[dfonline[\"month\"]==10]\n",
    "dfonlineOctoberBf = dfonlineOctober[dfonlineOctober[\"after\"]==0]\n",
    "u7 = dfonlineOctoberBf[\"sales\"].sum()"
   ]
  },
  {
   "cell_type": "code",
   "execution_count": 43,
   "id": "7b3867c6",
   "metadata": {},
   "outputs": [],
   "source": [
    "nombre =[\"Abril 11-30\", \"Mayo\", \"Junio\", \"Julio\", \"Agosto\", \"Septiembre\", \"Octubre 1-11\"]\n",
    "ventas=[u1,u2,u3,u4,u5,u6,u7]\n",
    "Antes ={\"mes\":nombre, \"ventas online antes BOPS\": ventas}\n",
    "ganancias=pd.DataFrame(data=Antes)"
   ]
  },
  {
   "cell_type": "code",
   "execution_count": 44,
   "id": "0ca8bf8d",
   "metadata": {},
   "outputs": [
    {
     "data": {
      "text/html": [
       "<div>\n",
       "<style scoped>\n",
       "    .dataframe tbody tr th:only-of-type {\n",
       "        vertical-align: middle;\n",
       "    }\n",
       "\n",
       "    .dataframe tbody tr th {\n",
       "        vertical-align: top;\n",
       "    }\n",
       "\n",
       "    .dataframe thead th {\n",
       "        text-align: right;\n",
       "    }\n",
       "</style>\n",
       "<table border=\"1\" class=\"dataframe\">\n",
       "  <thead>\n",
       "    <tr style=\"text-align: right;\">\n",
       "      <th></th>\n",
       "      <th>mes</th>\n",
       "      <th>ventas online antes BOPS</th>\n",
       "    </tr>\n",
       "  </thead>\n",
       "  <tbody>\n",
       "    <tr>\n",
       "      <th>0</th>\n",
       "      <td>Abril 11-30</td>\n",
       "      <td>6216381.0</td>\n",
       "    </tr>\n",
       "    <tr>\n",
       "      <th>1</th>\n",
       "      <td>Mayo</td>\n",
       "      <td>17192284.0</td>\n",
       "    </tr>\n",
       "    <tr>\n",
       "      <th>2</th>\n",
       "      <td>Junio</td>\n",
       "      <td>13149208.0</td>\n",
       "    </tr>\n",
       "    <tr>\n",
       "      <th>3</th>\n",
       "      <td>Julio</td>\n",
       "      <td>11264609.0</td>\n",
       "    </tr>\n",
       "    <tr>\n",
       "      <th>4</th>\n",
       "      <td>Agosto</td>\n",
       "      <td>14492431.0</td>\n",
       "    </tr>\n",
       "    <tr>\n",
       "      <th>5</th>\n",
       "      <td>Septiembre</td>\n",
       "      <td>12351809.0</td>\n",
       "    </tr>\n",
       "    <tr>\n",
       "      <th>6</th>\n",
       "      <td>Octubre 1-11</td>\n",
       "      <td>5801892.0</td>\n",
       "    </tr>\n",
       "  </tbody>\n",
       "</table>\n",
       "</div>"
      ],
      "text/plain": [
       "            mes  ventas online antes BOPS\n",
       "0   Abril 11-30                 6216381.0\n",
       "1          Mayo                17192284.0\n",
       "2         Junio                13149208.0\n",
       "3         Julio                11264609.0\n",
       "4        Agosto                14492431.0\n",
       "5    Septiembre                12351809.0\n",
       "6  Octubre 1-11                 5801892.0"
      ]
     },
     "execution_count": 44,
     "metadata": {},
     "output_type": "execute_result"
    }
   ],
   "source": [
    "ganancias"
   ]
  },
  {
   "cell_type": "code",
   "execution_count": 45,
   "id": "5d698499",
   "metadata": {},
   "outputs": [
    {
     "data": {
      "text/plain": [
       "<AxesSubplot:xlabel='mes'>"
      ]
     },
     "execution_count": 45,
     "metadata": {},
     "output_type": "execute_result"
    },
    {
     "data": {
      "image/png": "[encoded data removed]",
      "text/plain": [
       "<Figure size 432x288 with 1 Axes>"
      ]
     },
     "metadata": {
      "needs_background": "light"
     },
     "output_type": "display_data"
    }
   ],
   "source": [
    "ganancias.plot(kind=\"bar\",x=\"mes\",y=\"ventas online antes BOPS\")"
   ]
  },
  {
   "cell_type": "markdown",
   "id": "b02beccd",
   "metadata": {},
   "source": [
    "Ventas online después de BOPS"
   ]
  },
  {
   "cell_type": "code",
   "execution_count": 46,
   "id": "cf2d1368",
   "metadata": {},
   "outputs": [
    {
     "data": {
      "text/html": [
       "<div>\n",
       "<style scoped>\n",
       "    .dataframe tbody tr th:only-of-type {\n",
       "        vertical-align: middle;\n",
       "    }\n",
       "\n",
       "    .dataframe tbody tr th {\n",
       "        vertical-align: top;\n",
       "    }\n",
       "\n",
       "    .dataframe thead th {\n",
       "        text-align: right;\n",
       "    }\n",
       "</style>\n",
       "<table border=\"1\" class=\"dataframe\">\n",
       "  <thead>\n",
       "    <tr style=\"text-align: right;\">\n",
       "      <th></th>\n",
       "      <th>id (DMA)</th>\n",
       "      <th>year</th>\n",
       "      <th>month</th>\n",
       "      <th>week</th>\n",
       "      <th>after</th>\n",
       "      <th>close</th>\n",
       "      <th>sales</th>\n",
       "    </tr>\n",
       "  </thead>\n",
       "  <tbody>\n",
       "  </tbody>\n",
       "</table>\n",
       "</div>"
      ],
      "text/plain": [
       "Empty DataFrame\n",
       "Columns: [id (DMA), year, month, week, after, close, sales]\n",
       "Index: []"
      ]
     },
     "execution_count": 46,
     "metadata": {},
     "output_type": "execute_result"
    }
   ],
   "source": [
    "dfonlineOctober = dfonline[dfonline[\"month\"]==10]\n",
    "dfonlineOctoberAf = dfonlineOctober[dfonlineOctober[\"after\"]==1]\n",
    "v1 = dfonlineOctoberAf[\"sales\"].sum()\n",
    "\n",
    "dfonlineNovemember = dfonline[dfonline[\"month\"]==11]\n",
    "v2 = dfonlineNovemember[\"sales\"].sum()\n",
    "\n",
    "dfonlineDic = dfonline[dfonline[\"month\"]==12]\n",
    "v3 =dfonlineDic[\"sales\"].sum()\n",
    "\n",
    "dfonlineJan = dfonline[dfonline[\"month\"]==1]\n",
    "v4 = dfonlineJan[\"sales\"].sum()\n",
    "\n",
    "dfonlineFeb = dfonline[dfonline[\"month\"]==2]\n",
    "v5 = dfonlineFeb[\"sales\"].sum()\n",
    "\n",
    "dfonlineMar = dfonline[dfonline[\"month\"]==3]\n",
    "v6 = dfonlineMar[\"sales\"].sum()\n",
    "\n",
    "dfonlineAbAf = dfonline[dfonline[\"month\"]==4]\n",
    "dfonlineAbAf[dfonlineAbAf[\"after\"]==1]"
   ]
  },
  {
   "cell_type": "code",
   "execution_count": 47,
   "id": "29e2b984",
   "metadata": {},
   "outputs": [],
   "source": [
    "nombre2 = [\"Octubre 11-30\", \"Noviembre\", \"Diciembre\",\"Enero\", \"Febrero\", \"Marzo\", \"Abril 1-11\"]\n",
    "ventas2 = [v1,v2,v3,v4,v5,v6,0]\n",
    "Despues = {\"mes\":nombre2, \"ventas online después BOPS\": ventas2}\n",
    "ganancias2 = pd.DataFrame(data=Despues)"
   ]
  },
  {
   "cell_type": "code",
   "execution_count": 48,
   "id": "81cd4d62",
   "metadata": {},
   "outputs": [
    {
     "data": {
      "text/html": [
       "<div>\n",
       "<style scoped>\n",
       "    .dataframe tbody tr th:only-of-type {\n",
       "        vertical-align: middle;\n",
       "    }\n",
       "\n",
       "    .dataframe tbody tr th {\n",
       "        vertical-align: top;\n",
       "    }\n",
       "\n",
       "    .dataframe thead th {\n",
       "        text-align: right;\n",
       "    }\n",
       "</style>\n",
       "<table border=\"1\" class=\"dataframe\">\n",
       "  <thead>\n",
       "    <tr style=\"text-align: right;\">\n",
       "      <th></th>\n",
       "      <th>mes</th>\n",
       "      <th>ventas online después BOPS</th>\n",
       "    </tr>\n",
       "  </thead>\n",
       "  <tbody>\n",
       "    <tr>\n",
       "      <th>0</th>\n",
       "      <td>Octubre 11-30</td>\n",
       "      <td>9187886.0</td>\n",
       "    </tr>\n",
       "    <tr>\n",
       "      <th>1</th>\n",
       "      <td>Noviembre</td>\n",
       "      <td>18380415.0</td>\n",
       "    </tr>\n",
       "    <tr>\n",
       "      <th>2</th>\n",
       "      <td>Diciembre</td>\n",
       "      <td>12706007.0</td>\n",
       "    </tr>\n",
       "    <tr>\n",
       "      <th>3</th>\n",
       "      <td>Enero</td>\n",
       "      <td>11798879.0</td>\n",
       "    </tr>\n",
       "    <tr>\n",
       "      <th>4</th>\n",
       "      <td>Febrero</td>\n",
       "      <td>8322754.0</td>\n",
       "    </tr>\n",
       "    <tr>\n",
       "      <th>5</th>\n",
       "      <td>Marzo</td>\n",
       "      <td>6459044.0</td>\n",
       "    </tr>\n",
       "    <tr>\n",
       "      <th>6</th>\n",
       "      <td>Abril 1-11</td>\n",
       "      <td>0.0</td>\n",
       "    </tr>\n",
       "  </tbody>\n",
       "</table>\n",
       "</div>"
      ],
      "text/plain": [
       "             mes  ventas online después BOPS\n",
       "0  Octubre 11-30                   9187886.0\n",
       "1      Noviembre                  18380415.0\n",
       "2      Diciembre                  12706007.0\n",
       "3          Enero                  11798879.0\n",
       "4        Febrero                   8322754.0\n",
       "5          Marzo                   6459044.0\n",
       "6     Abril 1-11                         0.0"
      ]
     },
     "execution_count": 48,
     "metadata": {},
     "output_type": "execute_result"
    }
   ],
   "source": [
    "ganancias2"
   ]
  },
  {
   "cell_type": "code",
   "execution_count": 49,
   "id": "84d9b5af",
   "metadata": {},
   "outputs": [
    {
     "data": {
      "text/plain": [
       "<AxesSubplot:xlabel='mes'>"
      ]
     },
     "execution_count": 49,
     "metadata": {},
     "output_type": "execute_result"
    },
    {
     "data": {
      "image/png": "[encoded data removed]",
      "text/plain": [
       "<Figure size 432x288 with 1 Axes>"
      ]
     },
     "metadata": {
      "needs_background": "light"
     },
     "output_type": "display_data"
    }
   ],
   "source": [
    "ganancias2.plot(kind=\"bar\",x=\"mes\",y=\"ventas online después BOPS\")"
   ]
  },
  {
   "cell_type": "markdown",
   "id": "7a0f9792",
   "metadata": {},
   "source": [
    "ganancias2.plot(kind=\"bar\",x=\"mes\",y=\"ventas online después BOPS\")"
   ]
  },
  {
   "cell_type": "code",
   "execution_count": 50,
   "id": "577eba7f",
   "metadata": {},
   "outputs": [
    {
     "data": {
      "text/html": [
       "<div>\n",
       "<style scoped>\n",
       "    .dataframe tbody tr th:only-of-type {\n",
       "        vertical-align: middle;\n",
       "    }\n",
       "\n",
       "    .dataframe tbody tr th {\n",
       "        vertical-align: top;\n",
       "    }\n",
       "\n",
       "    .dataframe thead th {\n",
       "        text-align: right;\n",
       "    }\n",
       "</style>\n",
       "<table border=\"1\" class=\"dataframe\">\n",
       "  <thead>\n",
       "    <tr style=\"text-align: right;\">\n",
       "      <th></th>\n",
       "      <th>mes</th>\n",
       "      <th>ventas online</th>\n",
       "    </tr>\n",
       "  </thead>\n",
       "  <tbody>\n",
       "    <tr>\n",
       "      <th>13</th>\n",
       "      <td>Abril 1-11</td>\n",
       "      <td>0.0</td>\n",
       "    </tr>\n",
       "    <tr>\n",
       "      <th>6</th>\n",
       "      <td>Octubre 1-11</td>\n",
       "      <td>5801892.0</td>\n",
       "    </tr>\n",
       "    <tr>\n",
       "      <th>0</th>\n",
       "      <td>Abril 11-30</td>\n",
       "      <td>6216381.0</td>\n",
       "    </tr>\n",
       "    <tr>\n",
       "      <th>12</th>\n",
       "      <td>Marzo</td>\n",
       "      <td>6459044.0</td>\n",
       "    </tr>\n",
       "    <tr>\n",
       "      <th>11</th>\n",
       "      <td>Febrero</td>\n",
       "      <td>8322754.0</td>\n",
       "    </tr>\n",
       "    <tr>\n",
       "      <th>7</th>\n",
       "      <td>Octubre 11-30</td>\n",
       "      <td>9187886.0</td>\n",
       "    </tr>\n",
       "    <tr>\n",
       "      <th>3</th>\n",
       "      <td>Julio</td>\n",
       "      <td>11264609.0</td>\n",
       "    </tr>\n",
       "    <tr>\n",
       "      <th>10</th>\n",
       "      <td>Enero</td>\n",
       "      <td>11798879.0</td>\n",
       "    </tr>\n",
       "    <tr>\n",
       "      <th>5</th>\n",
       "      <td>Septiembre</td>\n",
       "      <td>12351809.0</td>\n",
       "    </tr>\n",
       "    <tr>\n",
       "      <th>9</th>\n",
       "      <td>Diciembre</td>\n",
       "      <td>12706007.0</td>\n",
       "    </tr>\n",
       "    <tr>\n",
       "      <th>2</th>\n",
       "      <td>Junio</td>\n",
       "      <td>13149208.0</td>\n",
       "    </tr>\n",
       "    <tr>\n",
       "      <th>4</th>\n",
       "      <td>Agosto</td>\n",
       "      <td>14492431.0</td>\n",
       "    </tr>\n",
       "    <tr>\n",
       "      <th>1</th>\n",
       "      <td>Mayo</td>\n",
       "      <td>17192284.0</td>\n",
       "    </tr>\n",
       "    <tr>\n",
       "      <th>8</th>\n",
       "      <td>Noviembre</td>\n",
       "      <td>18380415.0</td>\n",
       "    </tr>\n",
       "  </tbody>\n",
       "</table>\n",
       "</div>"
      ],
      "text/plain": [
       "              mes  ventas online\n",
       "13     Abril 1-11            0.0\n",
       "6    Octubre 1-11      5801892.0\n",
       "0     Abril 11-30      6216381.0\n",
       "12          Marzo      6459044.0\n",
       "11        Febrero      8322754.0\n",
       "7   Octubre 11-30      9187886.0\n",
       "3           Julio     11264609.0\n",
       "10          Enero     11798879.0\n",
       "5      Septiembre     12351809.0\n",
       "9       Diciembre     12706007.0\n",
       "2           Junio     13149208.0\n",
       "4          Agosto     14492431.0\n",
       "1            Mayo     17192284.0\n",
       "8       Noviembre     18380415.0"
      ]
     },
     "execution_count": 50,
     "metadata": {},
     "output_type": "execute_result"
    }
   ],
   "source": [
    "nombre3=nombre+nombre2\n",
    "ventas3=ventas+ventas2\n",
    "Total={\"mes\": nombre3, \"ventas online\": ventas3}\n",
    "Ao = pd.DataFrame(data=Total)\n",
    "Ao.sort_values(\"ventas online\")"
   ]
  },
  {
   "cell_type": "code",
   "execution_count": 51,
   "id": "1858baf8",
   "metadata": {},
   "outputs": [
    {
     "data": {
      "text/plain": [
       "<AxesSubplot:xlabel='mes'>"
      ]
     },
     "execution_count": 51,
     "metadata": {},
     "output_type": "execute_result"
    },
    {
     "data": {
      "image/png": "[encoded data removed]",
      "text/plain": [
       "<Figure size 432x288 with 1 Axes>"
      ]
     },
     "metadata": {
      "needs_background": "light"
     },
     "output_type": "display_data"
    }
   ],
   "source": [
    "Ao.plot(kind=\"bar\", x=\"mes\", y=\"ventas online\")"
   ]
  },
  {
   "cell_type": "markdown",
   "id": "8cf760bd",
   "metadata": {},
   "source": [
    "Ahora, veremos las ventas en físico mes a mes\n",
    "\n",
    "Ventas físico antes de BOPS"
   ]
  },
  {
   "cell_type": "code",
   "execution_count": 52,
   "id": "af6c7909",
   "metadata": {},
   "outputs": [
    {
     "name": "stderr",
     "output_type": "stream",
     "text": [
      "<ipython-input-52-87f140ea2f01>:13: UserWarning: Boolean Series key will be reindexed to match DataFrame index.\n",
      "  dfbmAgosto = dfbm[dfonline[\"month\"]==8]\n",
      "<ipython-input-52-87f140ea2f01>:19: UserWarning: Boolean Series key will be reindexed to match DataFrame index.\n",
      "  dfbmOctober = dfbm[dfonline[\"month\"]==10]\n",
      "<ipython-input-52-87f140ea2f01>:20: UserWarning: Boolean Series key will be reindexed to match DataFrame index.\n",
      "  dfbmOctoberBf = dfbmOctober[dfonlineOctober[\"after\"]==0]\n"
     ]
    }
   ],
   "source": [
    "dfbmAb = dfbm[dfbm[\"month\"]==4]\n",
    "x1 = dfbmAb[\"sales\"].sum()\n",
    "\n",
    "dfbmMayo = dfbm[dfbm[\"month\"]==5]\n",
    "x2 = dfbmMayo[\"sales\"].sum()\n",
    "\n",
    "dfbmJunio = dfbm[dfbm[\"month\"]==6]\n",
    "x3 = dfbmJunio[\"sales\"].sum()\n",
    "\n",
    "dfbmJulio = dfbm[dfbm[\"month\"]==7]\n",
    "x4 = dfbmJulio[\"sales\"].sum()\n",
    "\n",
    "dfbmAgosto = dfbm[dfonline[\"month\"]==8]\n",
    "x5 = dfbmAgosto[\"sales\"].sum()\n",
    "\n",
    "dfbmSep = dfbm[dfbm[\"month\"]==9]\n",
    "x6 = dfbmSep[\"sales\"].sum()\n",
    "\n",
    "dfbmOctober = dfbm[dfonline[\"month\"]==10]\n",
    "dfbmOctoberBf = dfbmOctober[dfonlineOctober[\"after\"]==0]\n",
    "x7 = dfbmOctoberBf[\"sales\"].sum()"
   ]
  },
  {
   "cell_type": "code",
   "execution_count": 53,
   "id": "7b539785",
   "metadata": {},
   "outputs": [],
   "source": [
    "ventasbm=[x1,x2,x3,x4,x5,x6,x7]\n",
    "AntesBM ={\"mes\":nombre, \"ventas fisico antes BOPS\": ventasbm}\n",
    "gananciasbm=pd.DataFrame(data=AntesBM)"
   ]
  },
  {
   "cell_type": "code",
   "execution_count": 54,
   "id": "da15bd23",
   "metadata": {},
   "outputs": [
    {
     "data": {
      "text/html": [
       "<div>\n",
       "<style scoped>\n",
       "    .dataframe tbody tr th:only-of-type {\n",
       "        vertical-align: middle;\n",
       "    }\n",
       "\n",
       "    .dataframe tbody tr th {\n",
       "        vertical-align: top;\n",
       "    }\n",
       "\n",
       "    .dataframe thead th {\n",
       "        text-align: right;\n",
       "    }\n",
       "</style>\n",
       "<table border=\"1\" class=\"dataframe\">\n",
       "  <thead>\n",
       "    <tr style=\"text-align: right;\">\n",
       "      <th></th>\n",
       "      <th>mes</th>\n",
       "      <th>ventas fisico antes BOPS</th>\n",
       "    </tr>\n",
       "  </thead>\n",
       "  <tbody>\n",
       "    <tr>\n",
       "      <th>0</th>\n",
       "      <td>Abril 11-30</td>\n",
       "      <td>24681092.0</td>\n",
       "    </tr>\n",
       "    <tr>\n",
       "      <th>1</th>\n",
       "      <td>Mayo</td>\n",
       "      <td>29096766.0</td>\n",
       "    </tr>\n",
       "    <tr>\n",
       "      <th>2</th>\n",
       "      <td>Junio</td>\n",
       "      <td>24421761.0</td>\n",
       "    </tr>\n",
       "    <tr>\n",
       "      <th>3</th>\n",
       "      <td>Julio</td>\n",
       "      <td>19882239.0</td>\n",
       "    </tr>\n",
       "    <tr>\n",
       "      <th>4</th>\n",
       "      <td>Agosto</td>\n",
       "      <td>27890559.0</td>\n",
       "    </tr>\n",
       "    <tr>\n",
       "      <th>5</th>\n",
       "      <td>Septiembre</td>\n",
       "      <td>25525114.0</td>\n",
       "    </tr>\n",
       "    <tr>\n",
       "      <th>6</th>\n",
       "      <td>Octubre 1-11</td>\n",
       "      <td>11146015.0</td>\n",
       "    </tr>\n",
       "  </tbody>\n",
       "</table>\n",
       "</div>"
      ],
      "text/plain": [
       "            mes  ventas fisico antes BOPS\n",
       "0   Abril 11-30                24681092.0\n",
       "1          Mayo                29096766.0\n",
       "2         Junio                24421761.0\n",
       "3         Julio                19882239.0\n",
       "4        Agosto                27890559.0\n",
       "5    Septiembre                25525114.0\n",
       "6  Octubre 1-11                11146015.0"
      ]
     },
     "execution_count": 54,
     "metadata": {},
     "output_type": "execute_result"
    }
   ],
   "source": [
    "gananciasbm"
   ]
  },
  {
   "cell_type": "code",
   "execution_count": 55,
   "id": "e71a9358",
   "metadata": {},
   "outputs": [
    {
     "data": {
      "text/plain": [
       "<AxesSubplot:xlabel='mes'>"
      ]
     },
     "execution_count": 55,
     "metadata": {},
     "output_type": "execute_result"
    },
    {
     "data": {
      "image/png": "[encoded data removed]",
      "text/plain": [
       "<Figure size 432x288 with 1 Axes>"
      ]
     },
     "metadata": {
      "needs_background": "light"
     },
     "output_type": "display_data"
    }
   ],
   "source": [
    "gananciasbm.plot(kind=\"bar\",x=\"mes\",y=\"ventas fisico antes BOPS\")"
   ]
  },
  {
   "cell_type": "markdown",
   "id": "b37cc58b",
   "metadata": {},
   "source": [
    "Ventas fisico despues de BOPS"
   ]
  },
  {
   "cell_type": "code",
   "execution_count": 56,
   "id": "16c30014",
   "metadata": {},
   "outputs": [],
   "source": [
    "dfbmOctober = dfbm[dfbm[\"month\"]==10]\n",
    "dfbmOctoberAf = dfbmOctober[dfbmOctober[\"after\"]==1]\n",
    "y1 = dfbmOctoberAf[\"sales\"].sum()\n",
    "\n",
    "dfbmNovemember = dfbm[dfbm[\"month\"]==11]\n",
    "y2 = dfbmNovemember[\"sales\"].sum()\n",
    "\n",
    "dfbmDic = dfbm[dfbm[\"month\"]==12]\n",
    "y3 =dfbmDic[\"sales\"].sum()\n",
    "\n",
    "dfbmJan = dfbm[dfbm[\"month\"]==1]\n",
    "y4 = dfbmJan[\"sales\"].sum()\n",
    "\n",
    "dfbmFeb = dfbm[dfbm[\"month\"]==2]\n",
    "y5 = dfbmFeb[\"sales\"].sum()\n",
    "\n",
    "dfbmMar = dfbm[dfbm[\"month\"]==3]\n",
    "y6 = dfbmMar[\"sales\"].sum()\n",
    "\n",
    "dfbmAbAf = dfbm[dfbm[\"month\"]==4]\n",
    "dfbmAbAfter=dfbmAbAf[dfbmAbAf[\"after\"]==1]\n",
    "y7=dfbmAbAfter[\"sales\"].sum()"
   ]
  },
  {
   "cell_type": "code",
   "execution_count": 57,
   "id": "41945d76",
   "metadata": {},
   "outputs": [],
   "source": [
    "ventas2bm = [y1,y2,y3,y4,y5,y6,y7]\n",
    "Despuesbm = {\"mes\":nombre2, \"ventas fisico después BOPS\": ventas2bm}\n",
    "ganancias2bm = pd.DataFrame(data=Despuesbm)"
   ]
  },
  {
   "cell_type": "code",
   "execution_count": 58,
   "id": "c05d3a29",
   "metadata": {},
   "outputs": [
    {
     "data": {
      "text/html": [
       "<div>\n",
       "<style scoped>\n",
       "    .dataframe tbody tr th:only-of-type {\n",
       "        vertical-align: middle;\n",
       "    }\n",
       "\n",
       "    .dataframe tbody tr th {\n",
       "        vertical-align: top;\n",
       "    }\n",
       "\n",
       "    .dataframe thead th {\n",
       "        text-align: right;\n",
       "    }\n",
       "</style>\n",
       "<table border=\"1\" class=\"dataframe\">\n",
       "  <thead>\n",
       "    <tr style=\"text-align: right;\">\n",
       "      <th></th>\n",
       "      <th>mes</th>\n",
       "      <th>ventas fisico después BOPS</th>\n",
       "    </tr>\n",
       "  </thead>\n",
       "  <tbody>\n",
       "    <tr>\n",
       "      <th>0</th>\n",
       "      <td>Octubre 11-30</td>\n",
       "      <td>14982501.0</td>\n",
       "    </tr>\n",
       "    <tr>\n",
       "      <th>1</th>\n",
       "      <td>Noviembre</td>\n",
       "      <td>26406729.0</td>\n",
       "    </tr>\n",
       "    <tr>\n",
       "      <th>2</th>\n",
       "      <td>Diciembre</td>\n",
       "      <td>26539938.0</td>\n",
       "    </tr>\n",
       "    <tr>\n",
       "      <th>3</th>\n",
       "      <td>Enero</td>\n",
       "      <td>22967261.0</td>\n",
       "    </tr>\n",
       "    <tr>\n",
       "      <th>4</th>\n",
       "      <td>Febrero</td>\n",
       "      <td>16730702.0</td>\n",
       "    </tr>\n",
       "    <tr>\n",
       "      <th>5</th>\n",
       "      <td>Marzo</td>\n",
       "      <td>19667916.0</td>\n",
       "    </tr>\n",
       "    <tr>\n",
       "      <th>6</th>\n",
       "      <td>Abril 1-11</td>\n",
       "      <td>9013847.0</td>\n",
       "    </tr>\n",
       "  </tbody>\n",
       "</table>\n",
       "</div>"
      ],
      "text/plain": [
       "             mes  ventas fisico después BOPS\n",
       "0  Octubre 11-30                  14982501.0\n",
       "1      Noviembre                  26406729.0\n",
       "2      Diciembre                  26539938.0\n",
       "3          Enero                  22967261.0\n",
       "4        Febrero                  16730702.0\n",
       "5          Marzo                  19667916.0\n",
       "6     Abril 1-11                   9013847.0"
      ]
     },
     "execution_count": 58,
     "metadata": {},
     "output_type": "execute_result"
    }
   ],
   "source": [
    "ganancias2bm"
   ]
  },
  {
   "cell_type": "code",
   "execution_count": 59,
   "id": "d750bcba",
   "metadata": {},
   "outputs": [
    {
     "data": {
      "text/plain": [
       "<AxesSubplot:xlabel='mes'>"
      ]
     },
     "execution_count": 59,
     "metadata": {},
     "output_type": "execute_result"
    },
    {
     "data": {
      "image/png": "[encoded data removed]",
      "text/plain": [
       "<Figure size 432x288 with 1 Axes>"
      ]
     },
     "metadata": {
      "needs_background": "light"
     },
     "output_type": "display_data"
    }
   ],
   "source": [
    "ganancias2bm.plot(kind=\"bar\",x=\"mes\",y=\"ventas fisico después BOPS\")"
   ]
  },
  {
   "cell_type": "markdown",
   "id": "9f07042c",
   "metadata": {},
   "source": [
    "Con esta nueva información, podemos contrastar las ventas online mes a mes antes y después de BOPS. La tabla y una gráfica de estos eventos queda como lo siguiente:"
   ]
  },
  {
   "cell_type": "code",
   "execution_count": 60,
   "id": "8d2ef0d3",
   "metadata": {},
   "outputs": [
    {
     "data": {
      "text/html": [
       "<div>\n",
       "<style scoped>\n",
       "    .dataframe tbody tr th:only-of-type {\n",
       "        vertical-align: middle;\n",
       "    }\n",
       "\n",
       "    .dataframe tbody tr th {\n",
       "        vertical-align: top;\n",
       "    }\n",
       "\n",
       "    .dataframe thead th {\n",
       "        text-align: right;\n",
       "    }\n",
       "</style>\n",
       "<table border=\"1\" class=\"dataframe\">\n",
       "  <thead>\n",
       "    <tr style=\"text-align: right;\">\n",
       "      <th></th>\n",
       "      <th>mes</th>\n",
       "      <th>ventas fisico</th>\n",
       "    </tr>\n",
       "  </thead>\n",
       "  <tbody>\n",
       "    <tr>\n",
       "      <th>13</th>\n",
       "      <td>Abril 1-11</td>\n",
       "      <td>9013847.0</td>\n",
       "    </tr>\n",
       "    <tr>\n",
       "      <th>6</th>\n",
       "      <td>Octubre 1-11</td>\n",
       "      <td>11146015.0</td>\n",
       "    </tr>\n",
       "    <tr>\n",
       "      <th>7</th>\n",
       "      <td>Octubre 11-30</td>\n",
       "      <td>14982501.0</td>\n",
       "    </tr>\n",
       "    <tr>\n",
       "      <th>11</th>\n",
       "      <td>Febrero</td>\n",
       "      <td>16730702.0</td>\n",
       "    </tr>\n",
       "    <tr>\n",
       "      <th>12</th>\n",
       "      <td>Marzo</td>\n",
       "      <td>19667916.0</td>\n",
       "    </tr>\n",
       "    <tr>\n",
       "      <th>3</th>\n",
       "      <td>Julio</td>\n",
       "      <td>19882239.0</td>\n",
       "    </tr>\n",
       "    <tr>\n",
       "      <th>10</th>\n",
       "      <td>Enero</td>\n",
       "      <td>22967261.0</td>\n",
       "    </tr>\n",
       "    <tr>\n",
       "      <th>2</th>\n",
       "      <td>Junio</td>\n",
       "      <td>24421761.0</td>\n",
       "    </tr>\n",
       "    <tr>\n",
       "      <th>0</th>\n",
       "      <td>Abril 11-30</td>\n",
       "      <td>24681092.0</td>\n",
       "    </tr>\n",
       "    <tr>\n",
       "      <th>5</th>\n",
       "      <td>Septiembre</td>\n",
       "      <td>25525114.0</td>\n",
       "    </tr>\n",
       "    <tr>\n",
       "      <th>8</th>\n",
       "      <td>Noviembre</td>\n",
       "      <td>26406729.0</td>\n",
       "    </tr>\n",
       "    <tr>\n",
       "      <th>9</th>\n",
       "      <td>Diciembre</td>\n",
       "      <td>26539938.0</td>\n",
       "    </tr>\n",
       "    <tr>\n",
       "      <th>4</th>\n",
       "      <td>Agosto</td>\n",
       "      <td>27890559.0</td>\n",
       "    </tr>\n",
       "    <tr>\n",
       "      <th>1</th>\n",
       "      <td>Mayo</td>\n",
       "      <td>29096766.0</td>\n",
       "    </tr>\n",
       "  </tbody>\n",
       "</table>\n",
       "</div>"
      ],
      "text/plain": [
       "              mes  ventas fisico\n",
       "13     Abril 1-11      9013847.0\n",
       "6    Octubre 1-11     11146015.0\n",
       "7   Octubre 11-30     14982501.0\n",
       "11        Febrero     16730702.0\n",
       "12          Marzo     19667916.0\n",
       "3           Julio     19882239.0\n",
       "10          Enero     22967261.0\n",
       "2           Junio     24421761.0\n",
       "0     Abril 11-30     24681092.0\n",
       "5      Septiembre     25525114.0\n",
       "8       Noviembre     26406729.0\n",
       "9       Diciembre     26539938.0\n",
       "4          Agosto     27890559.0\n",
       "1            Mayo     29096766.0"
      ]
     },
     "execution_count": 60,
     "metadata": {},
     "output_type": "execute_result"
    }
   ],
   "source": [
    "ventas3bm=ventasbm+ventas2bm\n",
    "Total={\"mes\": nombre3, \"ventas fisico\": ventas3bm}\n",
    "Aobm = pd.DataFrame(data=Total)\n",
    "Aobm.sort_values(\"ventas fisico\")"
   ]
  },
  {
   "cell_type": "code",
   "execution_count": 61,
   "id": "b9329713",
   "metadata": {},
   "outputs": [
    {
     "data": {
      "text/plain": [
       "<AxesSubplot:xlabel='mes'>"
      ]
     },
     "execution_count": 61,
     "metadata": {},
     "output_type": "execute_result"
    },
    {
     "data": {
      "image/png": "[encoded data removed]",
      "text/plain": [
       "<Figure size 432x288 with 1 Axes>"
      ]
     },
     "metadata": {
      "needs_background": "light"
     },
     "output_type": "display_data"
    }
   ],
   "source": [
    "Aobm.plot(kind=\"bar\", x=\"mes\", y=\"ventas fisico\")"
   ]
  },
  {
   "cell_type": "markdown",
   "id": "a51d34e4",
   "metadata": {},
   "source": [
    "A partir de estos datos podemos entonces hacer inferencias. En principio, podríamos pensar que se perdieron millones de dólares puesto que si contrastamos los semestres, podemos hacer el cálculo de sencillo de la diferencia de las sumas totales antes y después de aplicar BOPS y nos queda que"
   ]
  },
  {
   "cell_type": "code",
   "execution_count": 62,
   "id": "25f9815c",
   "metadata": {},
   "outputs": [],
   "source": [
    "dfonlineAf = dfonline[dfonline[\"after\"]==1]\n",
    "w1 = dfonlineAf[\"sales\"].sum()\n",
    "\n",
    "dfonlineBef = dfonline[dfonline[\"after\"]==0]\n",
    "w2 = dfonlineBef[\"sales\"].sum()\n",
    "\n",
    "dfbmBef = dfbm[dfbm[\"after\"]==0]\n",
    "w3 =dfbmBef[\"sales\"].sum()\n",
    "\n",
    "dfbmAf = dfbm[dfbm[\"after\"]==1]\n",
    "w4= dfbmAf[\"sales\"].sum()"
   ]
  },
  {
   "cell_type": "markdown",
   "id": "cdd34900",
   "metadata": {},
   "source": [
    "la diferencia entre las ganancias online entre semestres es:"
   ]
  },
  {
   "cell_type": "code",
   "execution_count": 63,
   "id": "062283c9",
   "metadata": {},
   "outputs": [
    {
     "data": {
      "text/plain": [
       "-13613629.0"
      ]
     },
     "execution_count": 63,
     "metadata": {},
     "output_type": "execute_result"
    }
   ],
   "source": [
    "w1-w2"
   ]
  },
  {
   "cell_type": "markdown",
   "id": "2432a9d1",
   "metadata": {},
   "source": [
    "mientras que la diferencia de las ganacias fisicas entre semestres es:"
   ]
  },
  {
   "cell_type": "code",
   "execution_count": 64,
   "id": "fd3ac3d6",
   "metadata": {},
   "outputs": [
    {
     "data": {
      "text/plain": [
       "-17111578.0"
      ]
     },
     "execution_count": 64,
     "metadata": {},
     "output_type": "execute_result"
    }
   ],
   "source": [
    "w4-w3"
   ]
  },
  {
   "cell_type": "markdown",
   "id": "9138a928",
   "metadata": {},
   "source": [
    "Por lo que en el semestre después de implementar BOPS se obtuvieron $30,725,207 MENOS que en el semestre pasado.\n",
    "Sin embargo, esto no quiere decir que la culpa sea por haber implementado BOPS. Para argumentar mi respuesta con respecto a que la diferencia de ganancias entre semestres no se debe directamente a BOPS me apoyaré de la información previa.\n",
    "\n",
    "Un punto CLAVE a resaltar es que no podemos comparar directamente estos semestres debido a que las condiciones no son realmente cercanas, ya que hay épocas del año en que la gente gasta más dinero, y más aún, hay temporadas en que los productos ofrecidos por esta empresa pueden llegar a ponerse de moda.\n",
    "\n",
    "Con respecto al inicio del semestre luego de haber implementado BOPS, las ventas online tuvieron un crecimiento a comparación de la primera quincena de octubre (a pesar de los problemas en el lanzamiento). Despúes, en el segundo mes, es decir, en Noviembre, se puede observar que hubo un aumento en la demanda online, esto puede significar que este sistema atrajo la atención del consumidor, y más adelante las compras online retornaron su curso.\n",
    "\n",
    "Otro punto a favor de la diferencia negativa no recae en la implementación es que no hay datos de las ventas online en el último mes (Abril 2012), pero sí los hay en formato físico, lo cual presupone que los datos o bien no existen, o que fueron omitidos de alguna forma.\n",
    "\n",
    "Finalmente, en el mes de Diciembre es natural pensar en que tenía que existir una baja puesto que el incremento de Noviembre fue muy alto en comparación con el semestre previo. Con respecto a los decrementos en los meses de Enero y Febrero, estos también se dan en tiendas físicas, por lo cual podemos observar que esta baja del consumidor se dio de manera general, independientemente de la implementación BOPS.\n",
    "\n",
    "Es difícil hacer una inferencia a través de estos datos puesto que no tenemos datos mismos meses en años distintos para poder comparar como son las ventas en esas temporadas; lo que sí resulta cierto es que por los problemas de implementación al inicio y al mismo tiempo las diferencias entre la misma empresa, el sistema BOPS no está dando los resultados deseados con respecto al crecimiento anual de las ventas por internet, es decir, cada año hay más ventas online, lo cual debería verse reflejado en un crecimiento natural en las ventas online de esta empresa, sin embargo, necesitamos de los datos de años previos para conocer si realmente la tienda ha crecido en el sector online.\n",
    "\n",
    "Para reforzar todavía la teoría de que no se han ganado ni perdido millones a causa de la implementación de BOPS podemos sacar los coeficientes de correlación y la covarianza entre los datos antes y después de llevar a cabo BOPS; sin embargo, sería algo injusto todavía tener conclusiones objetivas puesto que necesitamos de más datos para obtener conclusiones contundentes ya que comparar datos semestrales puede llegar a ser un error por lo antes mencionado."
   ]
  },
  {
   "cell_type": "markdown",
   "id": "ced429f3",
   "metadata": {},
   "source": [
    "### ¿Deberían expandirse a Canadá?"
   ]
  },
  {
   "cell_type": "markdown",
   "id": "6d09f447",
   "metadata": {},
   "source": [
    "Primero veamos qué sucede con las compras que se realizan en Canada, aquí la implementación no afecta pues solamente ocurrió en Estados Unidos"
   ]
  },
  {
   "cell_type": "code",
   "execution_count": 65,
   "id": "20830e20",
   "metadata": {},
   "outputs": [
    {
     "data": {
      "text/html": [
       "<div>\n",
       "<style scoped>\n",
       "    .dataframe tbody tr th:only-of-type {\n",
       "        vertical-align: middle;\n",
       "    }\n",
       "\n",
       "    .dataframe tbody tr th {\n",
       "        vertical-align: top;\n",
       "    }\n",
       "\n",
       "    .dataframe thead th {\n",
       "        text-align: right;\n",
       "    }\n",
       "</style>\n",
       "<table border=\"1\" class=\"dataframe\">\n",
       "  <thead>\n",
       "    <tr style=\"text-align: right;\">\n",
       "      <th></th>\n",
       "      <th>id (store)</th>\n",
       "      <th>year</th>\n",
       "      <th>month</th>\n",
       "      <th>week</th>\n",
       "      <th>usa</th>\n",
       "      <th>after</th>\n",
       "      <th>sales</th>\n",
       "    </tr>\n",
       "  </thead>\n",
       "  <tbody>\n",
       "    <tr>\n",
       "      <th>0</th>\n",
       "      <td>1.0</td>\n",
       "      <td>2011.0</td>\n",
       "      <td>4.0</td>\n",
       "      <td>16.0</td>\n",
       "      <td>0.0</td>\n",
       "      <td>0.0</td>\n",
       "      <td>118691.0</td>\n",
       "    </tr>\n",
       "    <tr>\n",
       "      <th>1</th>\n",
       "      <td>1.0</td>\n",
       "      <td>2011.0</td>\n",
       "      <td>4.0</td>\n",
       "      <td>17.0</td>\n",
       "      <td>0.0</td>\n",
       "      <td>0.0</td>\n",
       "      <td>113804.0</td>\n",
       "    </tr>\n",
       "    <tr>\n",
       "      <th>2</th>\n",
       "      <td>1.0</td>\n",
       "      <td>2011.0</td>\n",
       "      <td>4.0</td>\n",
       "      <td>18.0</td>\n",
       "      <td>0.0</td>\n",
       "      <td>0.0</td>\n",
       "      <td>172104.0</td>\n",
       "    </tr>\n",
       "    <tr>\n",
       "      <th>3</th>\n",
       "      <td>1.0</td>\n",
       "      <td>2011.0</td>\n",
       "      <td>5.0</td>\n",
       "      <td>19.0</td>\n",
       "      <td>0.0</td>\n",
       "      <td>0.0</td>\n",
       "      <td>105591.0</td>\n",
       "    </tr>\n",
       "    <tr>\n",
       "      <th>4</th>\n",
       "      <td>1.0</td>\n",
       "      <td>2011.0</td>\n",
       "      <td>5.0</td>\n",
       "      <td>20.0</td>\n",
       "      <td>0.0</td>\n",
       "      <td>0.0</td>\n",
       "      <td>94884.0</td>\n",
       "    </tr>\n",
       "    <tr>\n",
       "      <th>...</th>\n",
       "      <td>...</td>\n",
       "      <td>...</td>\n",
       "      <td>...</td>\n",
       "      <td>...</td>\n",
       "      <td>...</td>\n",
       "      <td>...</td>\n",
       "      <td>...</td>\n",
       "    </tr>\n",
       "    <tr>\n",
       "      <th>4423</th>\n",
       "      <td>165.0</td>\n",
       "      <td>2012.0</td>\n",
       "      <td>3.0</td>\n",
       "      <td>12.0</td>\n",
       "      <td>0.0</td>\n",
       "      <td>1.0</td>\n",
       "      <td>26760.0</td>\n",
       "    </tr>\n",
       "    <tr>\n",
       "      <th>4424</th>\n",
       "      <td>165.0</td>\n",
       "      <td>2012.0</td>\n",
       "      <td>3.0</td>\n",
       "      <td>13.0</td>\n",
       "      <td>0.0</td>\n",
       "      <td>1.0</td>\n",
       "      <td>34770.0</td>\n",
       "    </tr>\n",
       "    <tr>\n",
       "      <th>4425</th>\n",
       "      <td>165.0</td>\n",
       "      <td>2012.0</td>\n",
       "      <td>3.0</td>\n",
       "      <td>14.0</td>\n",
       "      <td>0.0</td>\n",
       "      <td>1.0</td>\n",
       "      <td>41192.0</td>\n",
       "    </tr>\n",
       "    <tr>\n",
       "      <th>4426</th>\n",
       "      <td>165.0</td>\n",
       "      <td>2012.0</td>\n",
       "      <td>4.0</td>\n",
       "      <td>15.0</td>\n",
       "      <td>0.0</td>\n",
       "      <td>1.0</td>\n",
       "      <td>31082.0</td>\n",
       "    </tr>\n",
       "    <tr>\n",
       "      <th>4427</th>\n",
       "      <td>165.0</td>\n",
       "      <td>2012.0</td>\n",
       "      <td>4.0</td>\n",
       "      <td>16.0</td>\n",
       "      <td>0.0</td>\n",
       "      <td>1.0</td>\n",
       "      <td>35782.0</td>\n",
       "    </tr>\n",
       "  </tbody>\n",
       "</table>\n",
       "<p>918 rows × 7 columns</p>\n",
       "</div>"
      ],
      "text/plain": [
       "      id (store)    year  month  week  usa  after     sales\n",
       "0            1.0  2011.0    4.0  16.0  0.0    0.0  118691.0\n",
       "1            1.0  2011.0    4.0  17.0  0.0    0.0  113804.0\n",
       "2            1.0  2011.0    4.0  18.0  0.0    0.0  172104.0\n",
       "3            1.0  2011.0    5.0  19.0  0.0    0.0  105591.0\n",
       "4            1.0  2011.0    5.0  20.0  0.0    0.0   94884.0\n",
       "...          ...     ...    ...   ...  ...    ...       ...\n",
       "4423       165.0  2012.0    3.0  12.0  0.0    1.0   26760.0\n",
       "4424       165.0  2012.0    3.0  13.0  0.0    1.0   34770.0\n",
       "4425       165.0  2012.0    3.0  14.0  0.0    1.0   41192.0\n",
       "4426       165.0  2012.0    4.0  15.0  0.0    1.0   31082.0\n",
       "4427       165.0  2012.0    4.0  16.0  0.0    1.0   35782.0\n",
       "\n",
       "[918 rows x 7 columns]"
      ]
     },
     "execution_count": 65,
     "metadata": {},
     "output_type": "execute_result"
    }
   ],
   "source": [
    "dfbmCanada = dfbm[dfbm[\"usa\"]==0]\n",
    "dfbmCanada"
   ]
  },
  {
   "cell_type": "code",
   "execution_count": 66,
   "id": "8045efdb",
   "metadata": {},
   "outputs": [],
   "source": [
    "dfbmCanadaAbril = dfbmCanada[dfbmCanada[\"month\"]==4]\n",
    "dfbmCanadaAbril2011 = dfbmCanadaAbril[dfbmCanadaAbril[\"year\"]==2011]\n",
    "z1 = dfbmCanadaAbril2011[\"sales\"].sum()\n",
    "\n",
    "dfbmCanadaMayo = dfbmCanada[dfbmCanada[\"month\"]==5]\n",
    "z2 = dfbmCanadaMayo[\"sales\"].sum()\n",
    "\n",
    "dfbmCanadaJunio = dfbmCanada[dfbmCanada[\"month\"]==6]\n",
    "z3 = dfbmCanadaJunio[\"sales\"].sum()\n",
    "\n",
    "dfbmCanadaJulio = dfbmCanada[dfbmCanada[\"month\"]==7]\n",
    "z4 = dfbmCanadaJulio[\"sales\"].sum()\n",
    "\n",
    "dfbmCanadaAgosto = dfbmCanada[dfbmCanada[\"month\"]==8]\n",
    "z5 = dfbmCanadaAgosto[\"sales\"].sum()\n",
    "\n",
    "dfbmCanadaSeptiembre = dfbmCanada[dfbmCanada[\"month\"]==9]\n",
    "z6 = dfbmCanadaSeptiembre[\"sales\"].sum()\n",
    "\n",
    "dfbmCanadaOctubre = dfbmCanada[dfbmCanada[\"month\"]==10]\n",
    "z7 = dfbmCanadaOctubre[\"sales\"].sum()\n",
    "\n",
    "dfbmCanadaNoviembre = dfbmCanada[dfbmCanada[\"month\"]==11]\n",
    "z8 = dfbmCanadaNoviembre[\"sales\"].sum()\n",
    "\n",
    "dfbmCanadaDiciembre = dfbmCanada[dfbmCanada[\"month\"]==12]\n",
    "z9 = dfbmCanadaDiciembre[\"sales\"].sum()\n",
    "\n",
    "dfbmCanadaEnero = dfbmCanada[dfbmCanada[\"month\"]==1]\n",
    "z10 = dfbmCanadaEnero[\"sales\"].sum()\n",
    "\n",
    "dfbmCanadaFebrero = dfbmCanada[dfbmCanada[\"month\"]==2]\n",
    "z11 = dfbmCanadaFebrero[\"sales\"].sum()\n",
    "\n",
    "dfbmCanadaMarzo = dfbmCanada[dfbmCanada[\"month\"]==3]\n",
    "z12 = dfbmCanadaMarzo[\"sales\"].sum()\n",
    "\n",
    "dfbmCanadaAbril = dfbmCanada[dfbmCanada[\"month\"]==4]\n",
    "dfbmCanadaAbril2012 = dfbmCanadaAbril[dfbmCanadaAbril[\"year\"]==2012]\n",
    "z13 = dfbmCanadaAbril2011[\"sales\"].sum()"
   ]
  },
  {
   "cell_type": "code",
   "execution_count": 67,
   "id": "d32b53d5",
   "metadata": {},
   "outputs": [
    {
     "data": {
      "text/html": [
       "<div>\n",
       "<style scoped>\n",
       "    .dataframe tbody tr th:only-of-type {\n",
       "        vertical-align: middle;\n",
       "    }\n",
       "\n",
       "    .dataframe tbody tr th {\n",
       "        vertical-align: top;\n",
       "    }\n",
       "\n",
       "    .dataframe thead th {\n",
       "        text-align: right;\n",
       "    }\n",
       "</style>\n",
       "<table border=\"1\" class=\"dataframe\">\n",
       "  <thead>\n",
       "    <tr style=\"text-align: right;\">\n",
       "      <th></th>\n",
       "      <th>meses</th>\n",
       "      <th>ventas</th>\n",
       "    </tr>\n",
       "  </thead>\n",
       "  <tbody>\n",
       "    <tr>\n",
       "      <th>0</th>\n",
       "      <td>Abril11</td>\n",
       "      <td>3223919.0</td>\n",
       "    </tr>\n",
       "    <tr>\n",
       "      <th>1</th>\n",
       "      <td>Mayo</td>\n",
       "      <td>5574215.0</td>\n",
       "    </tr>\n",
       "    <tr>\n",
       "      <th>2</th>\n",
       "      <td>Junio</td>\n",
       "      <td>4909941.0</td>\n",
       "    </tr>\n",
       "    <tr>\n",
       "      <th>3</th>\n",
       "      <td>Julio</td>\n",
       "      <td>3989253.0</td>\n",
       "    </tr>\n",
       "    <tr>\n",
       "      <th>4</th>\n",
       "      <td>Agosto</td>\n",
       "      <td>4715835.0</td>\n",
       "    </tr>\n",
       "    <tr>\n",
       "      <th>5</th>\n",
       "      <td>Septiembre</td>\n",
       "      <td>5108483.0</td>\n",
       "    </tr>\n",
       "    <tr>\n",
       "      <th>6</th>\n",
       "      <td>Octubre</td>\n",
       "      <td>5985028.0</td>\n",
       "    </tr>\n",
       "    <tr>\n",
       "      <th>7</th>\n",
       "      <td>Noviembre</td>\n",
       "      <td>4921546.0</td>\n",
       "    </tr>\n",
       "    <tr>\n",
       "      <th>8</th>\n",
       "      <td>Diciembre</td>\n",
       "      <td>5047659.0</td>\n",
       "    </tr>\n",
       "    <tr>\n",
       "      <th>9</th>\n",
       "      <td>Enero</td>\n",
       "      <td>4465885.0</td>\n",
       "    </tr>\n",
       "    <tr>\n",
       "      <th>10</th>\n",
       "      <td>Febrero</td>\n",
       "      <td>3335650.0</td>\n",
       "    </tr>\n",
       "    <tr>\n",
       "      <th>11</th>\n",
       "      <td>Marzo</td>\n",
       "      <td>3627858.0</td>\n",
       "    </tr>\n",
       "    <tr>\n",
       "      <th>12</th>\n",
       "      <td>Abril12</td>\n",
       "      <td>3223919.0</td>\n",
       "    </tr>\n",
       "  </tbody>\n",
       "</table>\n",
       "</div>"
      ],
      "text/plain": [
       "         meses     ventas\n",
       "0      Abril11  3223919.0\n",
       "1         Mayo  5574215.0\n",
       "2        Junio  4909941.0\n",
       "3        Julio  3989253.0\n",
       "4       Agosto  4715835.0\n",
       "5   Septiembre  5108483.0\n",
       "6      Octubre  5985028.0\n",
       "7    Noviembre  4921546.0\n",
       "8    Diciembre  5047659.0\n",
       "9        Enero  4465885.0\n",
       "10     Febrero  3335650.0\n",
       "11       Marzo  3627858.0\n",
       "12     Abril12  3223919.0"
      ]
     },
     "execution_count": 67,
     "metadata": {},
     "output_type": "execute_result"
    }
   ],
   "source": [
    "meses = [\"Abril11\", \"Mayo\", \"Junio\", \"Julio\", \"Agosto\", \"Septiembre\", \"Octubre\", \"Noviembre\", \"Diciembre\", \"Enero\", \"Febrero\", \"Marzo\",\"Abril12\"]\n",
    "ventasCanada = [z1,z2,z3,z4,z5,z6,z7,z8,z9,z10,z11,z12,z13]\n",
    "gananciasCanada= {\"meses\": meses, \"ventas\":ventasCanada}\n",
    "CanadaTotal=pd.DataFrame(data=gananciasCanada)\n",
    "CanadaTotal"
   ]
  },
  {
   "cell_type": "code",
   "execution_count": 68,
   "id": "d0cdb69f",
   "metadata": {},
   "outputs": [
    {
     "data": {
      "text/plain": [
       "<AxesSubplot:xlabel='meses'>"
      ]
     },
     "execution_count": 68,
     "metadata": {},
     "output_type": "execute_result"
    },
    {
     "data": {
      "image/png": "[encoded data removed]",
      "text/plain": [
       "<Figure size 432x288 with 1 Axes>"
      ]
     },
     "metadata": {
      "needs_background": "light"
     },
     "output_type": "display_data"
    }
   ],
   "source": [
    "CanadaTotal.plot(kind=\"bar\", x=\"meses\", y=\"ventas\")"
   ]
  },
  {
   "cell_type": "markdown",
   "id": "c3a80815",
   "metadata": {},
   "source": [
    "Analicemos ahora el comportamiento de las compras mes a mes en Estados Unidos que se encuentran lejos de tiendas:"
   ]
  },
  {
   "cell_type": "code",
   "execution_count": 69,
   "id": "47d29cd5",
   "metadata": {},
   "outputs": [],
   "source": [
    "dfonlineclose = dfonline[dfonline[\"close\"]==0]"
   ]
  },
  {
   "cell_type": "code",
   "execution_count": 70,
   "id": "110a93ae",
   "metadata": {},
   "outputs": [],
   "source": [
    "dfonlinecloseAbril = dfonlineclose[dfonlineclose[\"month\"]==4]\n",
    "dfonlinecloseAbril2011 = dfonlinecloseAbril[dfonlinecloseAbril[\"year\"]==2011]\n",
    "a1 = dfonlinecloseAbril2011[\"sales\"].sum()\n",
    "\n",
    "dfonlinecloseMayo = dfonlineclose[dfonlineclose[\"month\"]==5]\n",
    "a2 = dfonlinecloseMayo[\"sales\"].sum()\n",
    "\n",
    "dfonlinecloseJunio = dfonlineclose[dfonlineclose[\"month\"]==6]\n",
    "a3 = dfonlinecloseJunio[\"sales\"].sum()\n",
    "\n",
    "dfonlinecloseJulio = dfonlineclose[dfonlineclose[\"month\"]==7]\n",
    "a4 = dfonlinecloseJulio[\"sales\"].sum()\n",
    "\n",
    "dfonlinecloseAgosto = dfonlineclose[dfonlineclose[\"month\"]==8]\n",
    "a5 = dfonlinecloseAgosto[\"sales\"].sum()\n",
    "\n",
    "dfonlinecloseSeptiembre = dfonlineclose[dfonlineclose[\"month\"]==9]\n",
    "a6 = dfonlinecloseSeptiembre[\"sales\"].sum()\n",
    "\n",
    "dfonlinecloseOctubre = dfonlineclose[dfonlineclose[\"month\"]==10]\n",
    "a7 = dfonlinecloseOctubre[\"sales\"].sum()\n",
    "\n",
    "dfonlinecloseNoviembre = dfonlineclose[dfonlineclose[\"month\"]==11]\n",
    "a8 = dfonlinecloseNoviembre[\"sales\"].sum()\n",
    "\n",
    "dfonlinecloseDiciembre = dfonlineclose[dfonlineclose[\"month\"]==12]\n",
    "a9 = dfonlinecloseDiciembre[\"sales\"].sum()\n",
    "\n",
    "dfonlinecloseEnero = dfonlineclose[dfonlineclose[\"month\"]==1]\n",
    "a10 = dfonlinecloseEnero[\"sales\"].sum()\n",
    "\n",
    "dfonlinecloseFebrero = dfonlineclose[dfonlineclose[\"month\"]==2]\n",
    "a11 = dfonlinecloseFebrero[\"sales\"].sum()\n",
    "\n",
    "dfonlinecloseMarzo = dfonlineclose[dfonlineclose[\"month\"]==3]\n",
    "a12 = dfonlinecloseMarzo[\"sales\"].sum()"
   ]
  },
  {
   "cell_type": "code",
   "execution_count": 71,
   "id": "eb40e828",
   "metadata": {},
   "outputs": [
    {
     "data": {
      "text/html": [
       "<div>\n",
       "<style scoped>\n",
       "    .dataframe tbody tr th:only-of-type {\n",
       "        vertical-align: middle;\n",
       "    }\n",
       "\n",
       "    .dataframe tbody tr th {\n",
       "        vertical-align: top;\n",
       "    }\n",
       "\n",
       "    .dataframe thead th {\n",
       "        text-align: right;\n",
       "    }\n",
       "</style>\n",
       "<table border=\"1\" class=\"dataframe\">\n",
       "  <thead>\n",
       "    <tr style=\"text-align: right;\">\n",
       "      <th></th>\n",
       "      <th>mes</th>\n",
       "      <th>ventas</th>\n",
       "    </tr>\n",
       "  </thead>\n",
       "  <tbody>\n",
       "    <tr>\n",
       "      <th>0</th>\n",
       "      <td>Abril</td>\n",
       "      <td>3604937.0</td>\n",
       "    </tr>\n",
       "    <tr>\n",
       "      <th>1</th>\n",
       "      <td>Mayo</td>\n",
       "      <td>9686422.0</td>\n",
       "    </tr>\n",
       "    <tr>\n",
       "      <th>2</th>\n",
       "      <td>Junio</td>\n",
       "      <td>7289544.0</td>\n",
       "    </tr>\n",
       "    <tr>\n",
       "      <th>3</th>\n",
       "      <td>Julio</td>\n",
       "      <td>6137277.0</td>\n",
       "    </tr>\n",
       "    <tr>\n",
       "      <th>4</th>\n",
       "      <td>Agosto</td>\n",
       "      <td>7881103.0</td>\n",
       "    </tr>\n",
       "    <tr>\n",
       "      <th>5</th>\n",
       "      <td>Septiembre</td>\n",
       "      <td>6617962.0</td>\n",
       "    </tr>\n",
       "    <tr>\n",
       "      <th>6</th>\n",
       "      <td>Octubre</td>\n",
       "      <td>8346111.0</td>\n",
       "    </tr>\n",
       "    <tr>\n",
       "      <th>7</th>\n",
       "      <td>Noviembre</td>\n",
       "      <td>10398055.0</td>\n",
       "    </tr>\n",
       "    <tr>\n",
       "      <th>8</th>\n",
       "      <td>Diciembre</td>\n",
       "      <td>7040735.0</td>\n",
       "    </tr>\n",
       "    <tr>\n",
       "      <th>9</th>\n",
       "      <td>Enero</td>\n",
       "      <td>6474278.0</td>\n",
       "    </tr>\n",
       "    <tr>\n",
       "      <th>10</th>\n",
       "      <td>Febrero</td>\n",
       "      <td>4581185.0</td>\n",
       "    </tr>\n",
       "    <tr>\n",
       "      <th>11</th>\n",
       "      <td>Marzo</td>\n",
       "      <td>3846374.0</td>\n",
       "    </tr>\n",
       "  </tbody>\n",
       "</table>\n",
       "</div>"
      ],
      "text/plain": [
       "           mes      ventas\n",
       "0        Abril   3604937.0\n",
       "1         Mayo   9686422.0\n",
       "2        Junio   7289544.0\n",
       "3        Julio   6137277.0\n",
       "4       Agosto   7881103.0\n",
       "5   Septiembre   6617962.0\n",
       "6      Octubre   8346111.0\n",
       "7    Noviembre  10398055.0\n",
       "8    Diciembre   7040735.0\n",
       "9        Enero   6474278.0\n",
       "10     Febrero   4581185.0\n",
       "11       Marzo   3846374.0"
      ]
     },
     "execution_count": 71,
     "metadata": {},
     "output_type": "execute_result"
    }
   ],
   "source": [
    "calendario=[\"Abril\", \"Mayo\", \"Junio\", \"Julio\", \"Agosto\", \"Septiembre\", \"Octubre\", \"Noviembre\", \"Diciembre\", \"Enero\", \"Febrero\", \"Marzo\"]\n",
    "ventasclose=[a1,a2,a3,a4,a5,a6,a7,a8,a9,a10,a11,a12]\n",
    "Close={\"mes\":calendario,\"ventas\": ventasclose}\n",
    "closeTotal = pd.DataFrame(data=Close)\n",
    "closeTotal"
   ]
  },
  {
   "cell_type": "code",
   "execution_count": 72,
   "id": "d8fd1e69",
   "metadata": {},
   "outputs": [
    {
     "data": {
      "text/plain": [
       "<AxesSubplot:xlabel='mes'>"
      ]
     },
     "execution_count": 72,
     "metadata": {},
     "output_type": "execute_result"
    },
    {
     "data": {
      "image/png": "[encoded data removed]",
      "text/plain": [
       "<Figure size 432x288 with 1 Axes>"
      ]
     },
     "metadata": {
      "needs_background": "light"
     },
     "output_type": "display_data"
    }
   ],
   "source": [
    "closeTotal.plot(kind=\"bar\", x=\"mes\", y=\"ventas\")"
   ]
  },
  {
   "cell_type": "markdown",
   "id": "22c18264",
   "metadata": {},
   "source": [
    "Revisando la media y desviacion estándar de las ventas en Canada tenemos:"
   ]
  },
  {
   "cell_type": "code",
   "execution_count": 73,
   "id": "fb394614",
   "metadata": {},
   "outputs": [
    {
     "data": {
      "text/plain": [
       "4471476.230769231"
      ]
     },
     "execution_count": 73,
     "metadata": {},
     "output_type": "execute_result"
    }
   ],
   "source": [
    "CanadaTotal[\"ventas\"].mean()"
   ]
  },
  {
   "cell_type": "code",
   "execution_count": 74,
   "id": "a54e399d",
   "metadata": {},
   "outputs": [
    {
     "data": {
      "text/plain": [
       "914982.8257985824"
      ]
     },
     "execution_count": 74,
     "metadata": {},
     "output_type": "execute_result"
    }
   ],
   "source": [
    "CanadaTotal[\"ventas\"].std()"
   ]
  },
  {
   "cell_type": "markdown",
   "id": "85bcdf9e",
   "metadata": {},
   "source": [
    "Esto nos indica que las ventas por meses varía mucho en Canadá, pueden existir meses buenos así como meses de temporada baja.\n",
    "Luego, analizando la media y desviación estándar de la ventas online en Estados Unidos tenemos:"
   ]
  },
  {
   "cell_type": "code",
   "execution_count": 75,
   "id": "8ad40f1e",
   "metadata": {},
   "outputs": [
    {
     "data": {
      "text/plain": [
       "6825331.916666667"
      ]
     },
     "execution_count": 75,
     "metadata": {},
     "output_type": "execute_result"
    }
   ],
   "source": [
    "closeTotal[\"ventas\"].mean()"
   ]
  },
  {
   "cell_type": "code",
   "execution_count": 76,
   "id": "5c9d2660",
   "metadata": {},
   "outputs": [
    {
     "data": {
      "text/plain": [
       "2122616.083509449"
      ]
     },
     "execution_count": 76,
     "metadata": {},
     "output_type": "execute_result"
    }
   ],
   "source": [
    "closeTotal[\"ventas\"].std()"
   ]
  },
  {
   "cell_type": "markdown",
   "id": "7dde320c",
   "metadata": {},
   "source": [
    "Aquí sucede lo contrario, la desviación estándar no se aleja mucho de su promedio."
   ]
  },
  {
   "cell_type": "markdown",
   "id": "e8e36257",
   "metadata": {},
   "source": [
    "En conclusión, expandirse a Canada puede ser una buena estrategia ya que el comercio de ventas físicas varía mucho por temporadas; a diferencia del comportamiento mostrado por el sistema online en EU. Sin embargo, no recomendaría hacer dicha estrategia hasta no ver cambios favorables en la implementación BOPS primiero en EU y de allí realmente conocer si dicha decisión es estable."
   ]
  },
  {
   "cell_type": "code",
   "execution_count": null,
   "id": "63e93cb3",
   "metadata": {},
   "outputs": [],
   "source": []
  }
 ],
 "metadata": {
  "kernelspec": {
   "display_name": "Python 3",
   "language": "python",
   "name": "python3"
  },
  "language_info": {
   "codemirror_mode": {
    "name": "ipython",
    "version": 3
   },
   "file_extension": ".py",
   "mimetype": "text/x-python",
   "name": "python",
   "nbconvert_exporter": "python",
   "pygments_lexer": "ipython3",
   "version": "3.8.8"
  }
 },
 "nbformat": 4,
 "nbformat_minor": 5
}
